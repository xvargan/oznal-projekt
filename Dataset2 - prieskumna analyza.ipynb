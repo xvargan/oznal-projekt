{
 "cells": [
  {
   "cell_type": "markdown",
   "id": "hindu-depth",
   "metadata": {},
   "source": [
    "Vysvetlivky k stlpcom z: https://www.kaggle.com/fedesoriano/stroke-prediction-dataset?fbclid=IwAR1JNHGZbEhtzY0LdMW5YjkyT4JhRp1A8qzUhEFxai2b-2nRhw4JFQcNx-0\n",
    "\n",
    "* id: unique identifier\n",
    "* gender: \"Male\", \"Female\" or \"Other\"\n",
    "* age: age of the patient\n",
    "* hypertension: 0 if the patient doesn't have hypertension, 1 if the patient has hypertension\n",
    "* heart_disease: 0 if the patient doesn't have any heart diseases, 1 if the patient has a heart disease\n",
    "* ever_married: \"No\" or \"Yes\"\n",
    "* work_type: \"children\", \"Govt_jov\", \"Never_worked\", \"Private\" or \"Self-employed\"\n",
    "* Residence_type: \"Rural\" or \"Urban\"\n",
    "* avg_glucose_level: average glucose level in blood\n",
    "* bmi: body mass index\n",
    "* smoking_status: \"formerly smoked\", \"never smoked\", \"smokes\" or \"Unknown\"*\n",
    "* stroke: 1 if the patient had a stroke or 0 if not\n",
    "*Note: \"Unknown\" in smoking_status means that the information is unavailable for this patient"
   ]
  },
  {
   "cell_type": "markdown",
   "id": "thorough-niagara",
   "metadata": {},
   "source": [
    "Nacitaj data:"
   ]
  },
  {
   "cell_type": "code",
   "execution_count": 89,
   "id": "quiet-award",
   "metadata": {},
   "outputs": [
    {
     "data": {
      "text/html": [
       "<table>\n",
       "<thead><tr><th scope=col>id</th><th scope=col>gender</th><th scope=col>age</th><th scope=col>hypertension</th><th scope=col>heart_disease</th><th scope=col>ever_married</th><th scope=col>work_type</th><th scope=col>Residence_type</th><th scope=col>avg_glucose_level</th><th scope=col>bmi</th><th scope=col>smoking_status</th><th scope=col>stroke</th></tr></thead>\n",
       "<tbody>\n",
       "\t<tr><td> 9046          </td><td>Male           </td><td>67             </td><td>0              </td><td>1              </td><td>Yes            </td><td>Private        </td><td>Urban          </td><td>228.69         </td><td>36.6           </td><td>formerly smoked</td><td>1              </td></tr>\n",
       "\t<tr><td>51676          </td><td>Female         </td><td>61             </td><td>0              </td><td>0              </td><td>Yes            </td><td>Self-employed  </td><td>Rural          </td><td>202.21         </td><td>N/A            </td><td>never smoked   </td><td>1              </td></tr>\n",
       "\t<tr><td>31112          </td><td>Male           </td><td>80             </td><td>0              </td><td>1              </td><td>Yes            </td><td>Private        </td><td>Rural          </td><td>105.92         </td><td>32.5           </td><td>never smoked   </td><td>1              </td></tr>\n",
       "\t<tr><td>60182          </td><td>Female         </td><td>49             </td><td>0              </td><td>0              </td><td>Yes            </td><td>Private        </td><td>Urban          </td><td>171.23         </td><td>34.4           </td><td>smokes         </td><td>1              </td></tr>\n",
       "\t<tr><td> 1665          </td><td>Female         </td><td>79             </td><td>1              </td><td>0              </td><td>Yes            </td><td>Self-employed  </td><td>Rural          </td><td>174.12         </td><td>24             </td><td>never smoked   </td><td>1              </td></tr>\n",
       "\t<tr><td>56669          </td><td>Male           </td><td>81             </td><td>0              </td><td>0              </td><td>Yes            </td><td>Private        </td><td>Urban          </td><td>186.21         </td><td>29             </td><td>formerly smoked</td><td>1              </td></tr>\n",
       "</tbody>\n",
       "</table>\n"
      ],
      "text/latex": [
       "\\begin{tabular}{r|llllllllllll}\n",
       " id & gender & age & hypertension & heart\\_disease & ever\\_married & work\\_type & Residence\\_type & avg\\_glucose\\_level & bmi & smoking\\_status & stroke\\\\\n",
       "\\hline\n",
       "\t  9046           & Male            & 67              & 0               & 1               & Yes             & Private         & Urban           & 228.69          & 36.6            & formerly smoked & 1              \\\\\n",
       "\t 51676           & Female          & 61              & 0               & 0               & Yes             & Self-employed   & Rural           & 202.21          & N/A             & never smoked    & 1              \\\\\n",
       "\t 31112           & Male            & 80              & 0               & 1               & Yes             & Private         & Rural           & 105.92          & 32.5            & never smoked    & 1              \\\\\n",
       "\t 60182           & Female          & 49              & 0               & 0               & Yes             & Private         & Urban           & 171.23          & 34.4            & smokes          & 1              \\\\\n",
       "\t  1665           & Female          & 79              & 1               & 0               & Yes             & Self-employed   & Rural           & 174.12          & 24              & never smoked    & 1              \\\\\n",
       "\t 56669           & Male            & 81              & 0               & 0               & Yes             & Private         & Urban           & 186.21          & 29              & formerly smoked & 1              \\\\\n",
       "\\end{tabular}\n"
      ],
      "text/markdown": [
       "\n",
       "| id | gender | age | hypertension | heart_disease | ever_married | work_type | Residence_type | avg_glucose_level | bmi | smoking_status | stroke |\n",
       "|---|---|---|---|---|---|---|---|---|---|---|---|\n",
       "|  9046           | Male            | 67              | 0               | 1               | Yes             | Private         | Urban           | 228.69          | 36.6            | formerly smoked | 1               |\n",
       "| 51676           | Female          | 61              | 0               | 0               | Yes             | Self-employed   | Rural           | 202.21          | N/A             | never smoked    | 1               |\n",
       "| 31112           | Male            | 80              | 0               | 1               | Yes             | Private         | Rural           | 105.92          | 32.5            | never smoked    | 1               |\n",
       "| 60182           | Female          | 49              | 0               | 0               | Yes             | Private         | Urban           | 171.23          | 34.4            | smokes          | 1               |\n",
       "|  1665           | Female          | 79              | 1               | 0               | Yes             | Self-employed   | Rural           | 174.12          | 24              | never smoked    | 1               |\n",
       "| 56669           | Male            | 81              | 0               | 0               | Yes             | Private         | Urban           | 186.21          | 29              | formerly smoked | 1               |\n",
       "\n"
      ],
      "text/plain": [
       "  id    gender age hypertension heart_disease ever_married work_type    \n",
       "1  9046 Male   67  0            1             Yes          Private      \n",
       "2 51676 Female 61  0            0             Yes          Self-employed\n",
       "3 31112 Male   80  0            1             Yes          Private      \n",
       "4 60182 Female 49  0            0             Yes          Private      \n",
       "5  1665 Female 79  1            0             Yes          Self-employed\n",
       "6 56669 Male   81  0            0             Yes          Private      \n",
       "  Residence_type avg_glucose_level bmi  smoking_status  stroke\n",
       "1 Urban          228.69            36.6 formerly smoked 1     \n",
       "2 Rural          202.21            N/A  never smoked    1     \n",
       "3 Rural          105.92            32.5 never smoked    1     \n",
       "4 Urban          171.23            34.4 smokes          1     \n",
       "5 Rural          174.12            24   never smoked    1     \n",
       "6 Urban          186.21            29   formerly smoked 1     "
      ]
     },
     "metadata": {},
     "output_type": "display_data"
    }
   ],
   "source": [
    "df = read.csv(\"./data/healthcare-dataset-stroke-data.xls\")\n",
    "head(df)"
   ]
  },
  {
   "cell_type": "markdown",
   "id": "documented-portsmouth",
   "metadata": {},
   "source": [
    "### Zakladne info o datach"
   ]
  },
  {
   "cell_type": "markdown",
   "id": "electoral-solid",
   "metadata": {},
   "source": [
    "Najskor nas zaujima vyskyt abnormalit ako chybajuce hodnoty alebo hodnoty ktore nie su realne. \n",
    "\n",
    "Z nizsie uvedeneho sumaru vidime napriklad, ze znak 'gender' ma 3 rozne kategorie, pricom sa ocakavaju len 2 a ze tretiu kategoriu ma len jedno pozorovanie. \n",
    "\n",
    "Dalej znak 'bmi' je uvedeny ako kategoricke data, hoci by sme ocakavali skor ciselne vyjadrenie."
   ]
  },
  {
   "cell_type": "code",
   "execution_count": 90,
   "id": "anonymous-casting",
   "metadata": {},
   "outputs": [
    {
     "name": "stdout",
     "output_type": "stream",
     "text": [
      "'data.frame':\t5110 obs. of  12 variables:\n",
      " $ id               : int  9046 51676 31112 60182 1665 56669 53882 10434 27419 60491 ...\n",
      " $ gender           : Factor w/ 3 levels \"Female\",\"Male\",..: 2 1 2 1 1 2 2 1 1 1 ...\n",
      " $ age              : num  67 61 80 49 79 81 74 69 59 78 ...\n",
      " $ hypertension     : int  0 0 0 0 1 0 1 0 0 0 ...\n",
      " $ heart_disease    : int  1 0 1 0 0 0 1 0 0 0 ...\n",
      " $ ever_married     : Factor w/ 2 levels \"No\",\"Yes\": 2 2 2 2 2 2 2 1 2 2 ...\n",
      " $ work_type        : Factor w/ 5 levels \"children\",\"Govt_job\",..: 4 5 4 4 5 4 4 4 4 4 ...\n",
      " $ Residence_type   : Factor w/ 2 levels \"Rural\",\"Urban\": 2 1 1 2 1 2 1 2 1 2 ...\n",
      " $ avg_glucose_level: num  229 202 106 171 174 ...\n",
      " $ bmi              : Factor w/ 419 levels \"10.3\",\"11.3\",..: 240 419 199 218 114 164 148 102 419 116 ...\n",
      " $ smoking_status   : Factor w/ 4 levels \"formerly smoked\",..: 1 2 2 3 2 1 2 2 4 4 ...\n",
      " $ stroke           : int  1 1 1 1 1 1 1 1 1 1 ...\n"
     ]
    }
   ],
   "source": [
    "str(df)"
   ]
  },
  {
   "cell_type": "code",
   "execution_count": 91,
   "id": "lined-federal",
   "metadata": {},
   "outputs": [
    {
     "data": {
      "text/plain": [
       "       id           gender          age         hypertension    \n",
       " Min.   :   67   Female:2994   Min.   : 0.08   Min.   :0.00000  \n",
       " 1st Qu.:17741   Male  :2115   1st Qu.:25.00   1st Qu.:0.00000  \n",
       " Median :36932   Other :   1   Median :45.00   Median :0.00000  \n",
       " Mean   :36518                 Mean   :43.23   Mean   :0.09746  \n",
       " 3rd Qu.:54682                 3rd Qu.:61.00   3rd Qu.:0.00000  \n",
       " Max.   :72940                 Max.   :82.00   Max.   :1.00000  \n",
       "                                                                \n",
       " heart_disease     ever_married         work_type    Residence_type\n",
       " Min.   :0.00000   No :1757     children     : 687   Rural:2514    \n",
       " 1st Qu.:0.00000   Yes:3353     Govt_job     : 657   Urban:2596    \n",
       " Median :0.00000                Never_worked :  22                 \n",
       " Mean   :0.05401                Private      :2925                 \n",
       " 3rd Qu.:0.00000                Self-employed: 819                 \n",
       " Max.   :1.00000                                                   \n",
       "                                                                   \n",
       " avg_glucose_level      bmi               smoking_status     stroke       \n",
       " Min.   : 55.12    N/A    : 201   formerly smoked: 885   Min.   :0.00000  \n",
       " 1st Qu.: 77.25    28.7   :  41   never smoked   :1892   1st Qu.:0.00000  \n",
       " Median : 91.89    28.4   :  38   smokes         : 789   Median :0.00000  \n",
       " Mean   :106.15    26.1   :  37   Unknown        :1544   Mean   :0.04873  \n",
       " 3rd Qu.:114.09    26.7   :  37                          3rd Qu.:0.00000  \n",
       " Max.   :271.74    27.6   :  37                          Max.   :1.00000  \n",
       "                   (Other):4719                                           "
      ]
     },
     "metadata": {},
     "output_type": "display_data"
    }
   ],
   "source": [
    "summary(df)"
   ]
  },
  {
   "cell_type": "markdown",
   "id": "moral-advancement",
   "metadata": {},
   "source": [
    "Identifikator nie je sam o sebe zaujimavy, ale ocakavame ze vsetky hodnoty tohto stlpca budu unikatne:"
   ]
  },
  {
   "cell_type": "code",
   "execution_count": 92,
   "id": "sharp-experience",
   "metadata": {},
   "outputs": [
    {
     "data": {
      "text/html": [
       "TRUE"
      ],
      "text/latex": [
       "TRUE"
      ],
      "text/markdown": [
       "TRUE"
      ],
      "text/plain": [
       "[1] TRUE"
      ]
     },
     "metadata": {},
     "output_type": "display_data"
    }
   ],
   "source": [
    "nrow(unique(df[c(\"id\")])) == nrow(df[c(\"id\")])"
   ]
  },
  {
   "cell_type": "markdown",
   "id": "emerging-recommendation",
   "metadata": {},
   "source": [
    "Stlpec 'gender' ma 3 unikatne hodnoty. Tretia hodnota je 'Other' a vyskytuje sa v jedinom pozorovani. Kedze sa jedna o jedine pozorovanie a nevieme pohlavie urcit, toto pozorovanie odstranime a budeme uvazovat len 2 pohlavia. "
   ]
  },
  {
   "cell_type": "code",
   "execution_count": 93,
   "id": "involved-dakota",
   "metadata": {},
   "outputs": [
    {
     "data": {
      "text/html": [
       "<table>\n",
       "<thead><tr><th></th><th scope=col>gender</th></tr></thead>\n",
       "<tbody>\n",
       "\t<tr><th scope=row>1</th><td>Male  </td></tr>\n",
       "\t<tr><th scope=row>2</th><td>Female</td></tr>\n",
       "\t<tr><th scope=row>3117</th><td>Other </td></tr>\n",
       "</tbody>\n",
       "</table>\n"
      ],
      "text/latex": [
       "\\begin{tabular}{r|l}\n",
       "  & gender\\\\\n",
       "\\hline\n",
       "\t1 & Male  \\\\\n",
       "\t2 & Female\\\\\n",
       "\t3117 & Other \\\\\n",
       "\\end{tabular}\n"
      ],
      "text/markdown": [
       "\n",
       "| <!--/--> | gender |\n",
       "|---|---|\n",
       "| 1 | Male   |\n",
       "| 2 | Female |\n",
       "| 3117 | Other  |\n",
       "\n"
      ],
      "text/plain": [
       "     gender\n",
       "1    Male  \n",
       "2    Female\n",
       "3117 Other "
      ]
     },
     "metadata": {},
     "output_type": "display_data"
    }
   ],
   "source": [
    "unique(df[c(\"gender\")])"
   ]
  },
  {
   "cell_type": "code",
   "execution_count": 95,
   "id": "isolated-knife",
   "metadata": {},
   "outputs": [],
   "source": [
    "df = df[df$gender != 'Other', ]"
   ]
  },
  {
   "cell_type": "code",
   "execution_count": 97,
   "id": "correct-reminder",
   "metadata": {},
   "outputs": [
    {
     "data": {
      "text/html": [
       "<table>\n",
       "<thead><tr><th scope=col>gender</th></tr></thead>\n",
       "<tbody>\n",
       "\t<tr><td>Male  </td></tr>\n",
       "\t<tr><td>Female</td></tr>\n",
       "</tbody>\n",
       "</table>\n"
      ],
      "text/latex": [
       "\\begin{tabular}{r|l}\n",
       " gender\\\\\n",
       "\\hline\n",
       "\t Male  \\\\\n",
       "\t Female\\\\\n",
       "\\end{tabular}\n"
      ],
      "text/markdown": [
       "\n",
       "| gender |\n",
       "|---|\n",
       "| Male   |\n",
       "| Female |\n",
       "\n"
      ],
      "text/plain": [
       "  gender\n",
       "1 Male  \n",
       "2 Female"
      ]
     },
     "metadata": {},
     "output_type": "display_data"
    }
   ],
   "source": [
    "unique(df[c(\"gender\")])"
   ]
  },
  {
   "cell_type": "markdown",
   "id": "formal-science",
   "metadata": {},
   "source": [
    "Znak 'bmi' sa rozoznal ako kategoricky pre nerozoznane NA hodnoty. Preto ich transformujeme. Taktiez kategoriu 'Unknown' v znaku 'smoking_status' mozeme previest na NA pre konzistenciu."
   ]
  },
  {
   "cell_type": "code",
   "execution_count": 98,
   "id": "industrial-ideal",
   "metadata": {},
   "outputs": [],
   "source": [
    "df[] <- lapply(df, function(x) {\n",
    "    is.na(levels(x)) <- levels(x) == \"N/A\"\n",
    "    x\n",
    "})\n",
    "\n",
    "df[] <- lapply(df, function(x) {\n",
    "    is.na(levels(x)) <- levels(x) == \"Unknown\"\n",
    "    x\n",
    "})"
   ]
  },
  {
   "cell_type": "code",
   "execution_count": 99,
   "id": "collective-superintendent",
   "metadata": {},
   "outputs": [],
   "source": [
    "df['bmi'] = sapply(df['bmi'], as.character)\n",
    "df['bmi'] = sapply(df['bmi'], as.numeric)"
   ]
  },
  {
   "cell_type": "markdown",
   "id": "minus-nowhere",
   "metadata": {},
   "source": [
    "Teraz sa vieme pozriet, kde mame NA:"
   ]
  },
  {
   "cell_type": "code",
   "execution_count": 100,
   "id": "bacterial-interaction",
   "metadata": {},
   "outputs": [
    {
     "data": {
      "text/html": [
       "<dl class=dl-horizontal>\n",
       "\t<dt>id</dt>\n",
       "\t\t<dd>FALSE</dd>\n",
       "\t<dt>gender</dt>\n",
       "\t\t<dd>FALSE</dd>\n",
       "\t<dt>age</dt>\n",
       "\t\t<dd>FALSE</dd>\n",
       "\t<dt>hypertension</dt>\n",
       "\t\t<dd>FALSE</dd>\n",
       "\t<dt>heart_disease</dt>\n",
       "\t\t<dd>FALSE</dd>\n",
       "\t<dt>ever_married</dt>\n",
       "\t\t<dd>FALSE</dd>\n",
       "\t<dt>work_type</dt>\n",
       "\t\t<dd>FALSE</dd>\n",
       "\t<dt>Residence_type</dt>\n",
       "\t\t<dd>FALSE</dd>\n",
       "\t<dt>avg_glucose_level</dt>\n",
       "\t\t<dd>FALSE</dd>\n",
       "\t<dt>bmi</dt>\n",
       "\t\t<dd>TRUE</dd>\n",
       "\t<dt>smoking_status</dt>\n",
       "\t\t<dd>TRUE</dd>\n",
       "\t<dt>stroke</dt>\n",
       "\t\t<dd>FALSE</dd>\n",
       "</dl>\n"
      ],
      "text/latex": [
       "\\begin{description*}\n",
       "\\item[id] FALSE\n",
       "\\item[gender] FALSE\n",
       "\\item[age] FALSE\n",
       "\\item[hypertension] FALSE\n",
       "\\item[heart\\textbackslash{}\\_disease] FALSE\n",
       "\\item[ever\\textbackslash{}\\_married] FALSE\n",
       "\\item[work\\textbackslash{}\\_type] FALSE\n",
       "\\item[Residence\\textbackslash{}\\_type] FALSE\n",
       "\\item[avg\\textbackslash{}\\_glucose\\textbackslash{}\\_level] FALSE\n",
       "\\item[bmi] TRUE\n",
       "\\item[smoking\\textbackslash{}\\_status] TRUE\n",
       "\\item[stroke] FALSE\n",
       "\\end{description*}\n"
      ],
      "text/markdown": [
       "id\n",
       ":   FALSEgender\n",
       ":   FALSEage\n",
       ":   FALSEhypertension\n",
       ":   FALSEheart_disease\n",
       ":   FALSEever_married\n",
       ":   FALSEwork_type\n",
       ":   FALSEResidence_type\n",
       ":   FALSEavg_glucose_level\n",
       ":   FALSEbmi\n",
       ":   TRUEsmoking_status\n",
       ":   TRUEstroke\n",
       ":   FALSE\n",
       "\n"
      ],
      "text/plain": [
       "               id            gender               age      hypertension \n",
       "            FALSE             FALSE             FALSE             FALSE \n",
       "    heart_disease      ever_married         work_type    Residence_type \n",
       "            FALSE             FALSE             FALSE             FALSE \n",
       "avg_glucose_level               bmi    smoking_status            stroke \n",
       "            FALSE              TRUE              TRUE             FALSE "
      ]
     },
     "metadata": {},
     "output_type": "display_data"
    }
   ],
   "source": [
    "apply(df, 2, function(x) any(is.na(x)))"
   ]
  },
  {
   "cell_type": "code",
   "execution_count": 101,
   "id": "coated-light",
   "metadata": {},
   "outputs": [
    {
     "data": {
      "text/plain": [
       "       id           gender          age         hypertension    \n",
       " Min.   :   67   Female:2994   Min.   : 0.08   Min.   :0.00000  \n",
       " 1st Qu.:17740   Male  :2115   1st Qu.:25.00   1st Qu.:0.00000  \n",
       " Median :36922   Other :   0   Median :45.00   Median :0.00000  \n",
       " Mean   :36514                 Mean   :43.23   Mean   :0.09748  \n",
       " 3rd Qu.:54643                 3rd Qu.:61.00   3rd Qu.:0.00000  \n",
       " Max.   :72940                 Max.   :82.00   Max.   :1.00000  \n",
       "                                                                \n",
       " heart_disease     ever_married         work_type    Residence_type\n",
       " Min.   :0.00000   No :1756     children     : 687   Rural:2513    \n",
       " 1st Qu.:0.00000   Yes:3353     Govt_job     : 657   Urban:2596    \n",
       " Median :0.00000                Never_worked :  22                 \n",
       " Mean   :0.05402                Private      :2924                 \n",
       " 3rd Qu.:0.00000                Self-employed: 819                 \n",
       " Max.   :1.00000                                                   \n",
       "                                                                   \n",
       " avg_glucose_level      bmi.bmi               smoking_status     stroke       \n",
       " Min.   : 55.12    Min.   :10.30000   formerly smoked: 884   Min.   :0.00000  \n",
       " 1st Qu.: 77.24    1st Qu.:23.50000   never smoked   :1892   1st Qu.:0.00000  \n",
       " Median : 91.88    Median :28.10000   smokes         : 789   Median :0.00000  \n",
       " Mean   :106.14    Mean   :28.89456   NA's           :1544   Mean   :0.04874  \n",
       " 3rd Qu.:114.09    3rd Qu.:33.10000                          3rd Qu.:0.00000  \n",
       " Max.   :271.74    Max.   :97.60000                          Max.   :1.00000  \n",
       "                   NA's   :201                                                "
      ]
     },
     "metadata": {},
     "output_type": "display_data"
    }
   ],
   "source": [
    "summary(df)"
   ]
  },
  {
   "cell_type": "code",
   "execution_count": null,
   "id": "chubby-lotus",
   "metadata": {},
   "outputs": [],
   "source": []
  }
 ],
 "metadata": {
  "kernelspec": {
   "display_name": "R",
   "language": "R",
   "name": "ir"
  },
  "language_info": {
   "codemirror_mode": "r",
   "file_extension": ".r",
   "mimetype": "text/x-r-source",
   "name": "R",
   "pygments_lexer": "r",
   "version": "3.6.1"
  }
 },
 "nbformat": 4,
 "nbformat_minor": 5
}
