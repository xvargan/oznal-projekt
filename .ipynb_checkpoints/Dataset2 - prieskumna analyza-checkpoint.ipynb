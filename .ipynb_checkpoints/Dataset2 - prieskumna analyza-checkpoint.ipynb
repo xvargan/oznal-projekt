{
 "cells": [
  {
   "cell_type": "markdown",
   "metadata": {},
   "source": [
    "Vysvetlivky k stlpcom z: https://www.kaggle.com/fedesoriano/stroke-prediction-dataset?fbclid=IwAR1JNHGZbEhtzY0LdMW5YjkyT4JhRp1A8qzUhEFxai2b-2nRhw4JFQcNx-0\n",
    "\n",
    "* id: unique identifier\n",
    "* gender: \"Male\", \"Female\" or \"Other\"\n",
    "* age: age of the patient\n",
    "* hypertension: 0 if the patient doesn't have hypertension, 1 if the patient has hypertension\n",
    "* heart_disease: 0 if the patient doesn't have any heart diseases, 1 if the patient has a heart disease\n",
    "* ever_married: \"No\" or \"Yes\"\n",
    "* work_type: \"children\", \"Govt_jov\", \"Never_worked\", \"Private\" or \"Self-employed\"\n",
    "* Residence_type: \"Rural\" or \"Urban\"\n",
    "* avg_glucose_level: average glucose level in blood\n",
    "* bmi: body mass index\n",
    "* smoking_status: \"formerly smoked\", \"never smoked\", \"smokes\" or \"Unknown\"*\n",
    "* stroke: 1 if the patient had a stroke or 0 if not\n",
    "*Note: \"Unknown\" in smoking_status means that the information is unavailable for this patient"
   ]
  },
  {
   "cell_type": "code",
   "execution_count": 110,
   "metadata": {},
   "outputs": [
    {
     "name": "stderr",
     "output_type": "stream",
     "text": [
      "Warning message:\n",
      "\"package 'moments' is in use and will not be installed\""
     ]
    },
    {
     "name": "stdout",
     "output_type": "stream",
     "text": [
      "package 'dplyr' successfully unpacked and MD5 sums checked\n"
     ]
    },
    {
     "name": "stderr",
     "output_type": "stream",
     "text": [
      "Warning message:\n",
      "\"cannot remove prior installation of package 'dplyr'\"Warning message in file.copy(savedcopy, lib, recursive = TRUE):\n",
      "\"problem copying C:\\Users\\kristof\\anaconda3\\Lib\\R\\library\\00LOCK\\dplyr\\libs\\x64\\dplyr.dll to C:\\Users\\kristof\\anaconda3\\Lib\\R\\library\\dplyr\\libs\\x64\\dplyr.dll: Permission denied\"Warning message:\n",
      "\"restored 'dplyr'\""
     ]
    },
    {
     "name": "stdout",
     "output_type": "stream",
     "text": [
      "\n",
      "The downloaded binary packages are in\n",
      "\tC:\\Users\\kristof\\AppData\\Local\\Temp\\Rtmp0WUpT3\\downloaded_packages\n",
      "package 'ggpubr' successfully unpacked and MD5 sums checked\n",
      "\n",
      "The downloaded binary packages are in\n",
      "\tC:\\Users\\kristof\\AppData\\Local\\Temp\\Rtmp0WUpT3\\downloaded_packages\n"
     ]
    },
    {
     "name": "stderr",
     "output_type": "stream",
     "text": [
      "Warning message:\n",
      "\"package 'nortest' is in use and will not be installed\"Warning message:\n",
      "\"package 'ggplot2' is in use and will not be installed\""
     ]
    }
   ],
   "source": [
    "install.packages(\"moments\")\n",
    "install.packages(\"dplyr\")\n",
    "install.packages(\"ggpubr\")\n",
    "install.packages(\"nortest\")\n",
    "install.packages(\"ggplot2\")\n"
   ]
  },
  {
   "cell_type": "markdown",
   "metadata": {},
   "source": [
    "Nacitaj data:"
   ]
  },
  {
   "cell_type": "code",
   "execution_count": 22,
   "metadata": {},
   "outputs": [
    {
     "data": {
      "text/html": [
       "<table>\n",
       "<thead><tr><th scope=col>id</th><th scope=col>gender</th><th scope=col>age</th><th scope=col>hypertension</th><th scope=col>heart_disease</th><th scope=col>ever_married</th><th scope=col>work_type</th><th scope=col>Residence_type</th><th scope=col>avg_glucose_level</th><th scope=col>bmi</th><th scope=col>smoking_status</th><th scope=col>stroke</th></tr></thead>\n",
       "<tbody>\n",
       "\t<tr><td> 9046          </td><td>Male           </td><td>67             </td><td>0              </td><td>1              </td><td>Yes            </td><td>Private        </td><td>Urban          </td><td>228.69         </td><td>36.6           </td><td>formerly smoked</td><td>1              </td></tr>\n",
       "\t<tr><td>51676          </td><td>Female         </td><td>61             </td><td>0              </td><td>0              </td><td>Yes            </td><td>Self-employed  </td><td>Rural          </td><td>202.21         </td><td>N/A            </td><td>never smoked   </td><td>1              </td></tr>\n",
       "\t<tr><td>31112          </td><td>Male           </td><td>80             </td><td>0              </td><td>1              </td><td>Yes            </td><td>Private        </td><td>Rural          </td><td>105.92         </td><td>32.5           </td><td>never smoked   </td><td>1              </td></tr>\n",
       "\t<tr><td>60182          </td><td>Female         </td><td>49             </td><td>0              </td><td>0              </td><td>Yes            </td><td>Private        </td><td>Urban          </td><td>171.23         </td><td>34.4           </td><td>smokes         </td><td>1              </td></tr>\n",
       "\t<tr><td> 1665          </td><td>Female         </td><td>79             </td><td>1              </td><td>0              </td><td>Yes            </td><td>Self-employed  </td><td>Rural          </td><td>174.12         </td><td>24             </td><td>never smoked   </td><td>1              </td></tr>\n",
       "\t<tr><td>56669          </td><td>Male           </td><td>81             </td><td>0              </td><td>0              </td><td>Yes            </td><td>Private        </td><td>Urban          </td><td>186.21         </td><td>29             </td><td>formerly smoked</td><td>1              </td></tr>\n",
       "</tbody>\n",
       "</table>\n"
      ],
      "text/latex": [
       "\\begin{tabular}{r|llllllllllll}\n",
       " id & gender & age & hypertension & heart\\_disease & ever\\_married & work\\_type & Residence\\_type & avg\\_glucose\\_level & bmi & smoking\\_status & stroke\\\\\n",
       "\\hline\n",
       "\t  9046           & Male            & 67              & 0               & 1               & Yes             & Private         & Urban           & 228.69          & 36.6            & formerly smoked & 1              \\\\\n",
       "\t 51676           & Female          & 61              & 0               & 0               & Yes             & Self-employed   & Rural           & 202.21          & N/A             & never smoked    & 1              \\\\\n",
       "\t 31112           & Male            & 80              & 0               & 1               & Yes             & Private         & Rural           & 105.92          & 32.5            & never smoked    & 1              \\\\\n",
       "\t 60182           & Female          & 49              & 0               & 0               & Yes             & Private         & Urban           & 171.23          & 34.4            & smokes          & 1              \\\\\n",
       "\t  1665           & Female          & 79              & 1               & 0               & Yes             & Self-employed   & Rural           & 174.12          & 24              & never smoked    & 1              \\\\\n",
       "\t 56669           & Male            & 81              & 0               & 0               & Yes             & Private         & Urban           & 186.21          & 29              & formerly smoked & 1              \\\\\n",
       "\\end{tabular}\n"
      ],
      "text/markdown": [
       "\n",
       "| id | gender | age | hypertension | heart_disease | ever_married | work_type | Residence_type | avg_glucose_level | bmi | smoking_status | stroke |\n",
       "|---|---|---|---|---|---|---|---|---|---|---|---|\n",
       "|  9046           | Male            | 67              | 0               | 1               | Yes             | Private         | Urban           | 228.69          | 36.6            | formerly smoked | 1               |\n",
       "| 51676           | Female          | 61              | 0               | 0               | Yes             | Self-employed   | Rural           | 202.21          | N/A             | never smoked    | 1               |\n",
       "| 31112           | Male            | 80              | 0               | 1               | Yes             | Private         | Rural           | 105.92          | 32.5            | never smoked    | 1               |\n",
       "| 60182           | Female          | 49              | 0               | 0               | Yes             | Private         | Urban           | 171.23          | 34.4            | smokes          | 1               |\n",
       "|  1665           | Female          | 79              | 1               | 0               | Yes             | Self-employed   | Rural           | 174.12          | 24              | never smoked    | 1               |\n",
       "| 56669           | Male            | 81              | 0               | 0               | Yes             | Private         | Urban           | 186.21          | 29              | formerly smoked | 1               |\n",
       "\n"
      ],
      "text/plain": [
       "  id    gender age hypertension heart_disease ever_married work_type    \n",
       "1  9046 Male   67  0            1             Yes          Private      \n",
       "2 51676 Female 61  0            0             Yes          Self-employed\n",
       "3 31112 Male   80  0            1             Yes          Private      \n",
       "4 60182 Female 49  0            0             Yes          Private      \n",
       "5  1665 Female 79  1            0             Yes          Self-employed\n",
       "6 56669 Male   81  0            0             Yes          Private      \n",
       "  Residence_type avg_glucose_level bmi  smoking_status  stroke\n",
       "1 Urban          228.69            36.6 formerly smoked 1     \n",
       "2 Rural          202.21            N/A  never smoked    1     \n",
       "3 Rural          105.92            32.5 never smoked    1     \n",
       "4 Urban          171.23            34.4 smokes          1     \n",
       "5 Rural          174.12            24   never smoked    1     \n",
       "6 Urban          186.21            29   formerly smoked 1     "
      ]
     },
     "metadata": {},
     "output_type": "display_data"
    }
   ],
   "source": [
    "df = read.csv(\"./data/healthcare-dataset-stroke-data.xls\")\n",
    "head(df)"
   ]
  },
  {
   "cell_type": "markdown",
   "metadata": {},
   "source": [
    "### Zakladne info o datach"
   ]
  },
  {
   "cell_type": "markdown",
   "metadata": {},
   "source": [
    "Najskor nas zaujima vyskyt abnormalit ako chybajuce hodnoty alebo hodnoty ktore nie su realne. \n",
    "\n",
    "Z nizsie uvedeneho sumaru vidime napriklad, ze znak 'gender' ma 3 rozne kategorie, pricom sa ocakavaju len 2 a ze tretiu kategoriu ma len jedno pozorovanie. \n",
    "\n",
    "Dalej znak 'bmi' je uvedeny ako kategoricke data, hoci by sme ocakavali skor ciselne vyjadrenie."
   ]
  },
  {
   "cell_type": "code",
   "execution_count": 23,
   "metadata": {},
   "outputs": [
    {
     "name": "stdout",
     "output_type": "stream",
     "text": [
      "'data.frame':\t5110 obs. of  12 variables:\n",
      " $ id               : int  9046 51676 31112 60182 1665 56669 53882 10434 27419 60491 ...\n",
      " $ gender           : Factor w/ 3 levels \"Female\",\"Male\",..: 2 1 2 1 1 2 2 1 1 1 ...\n",
      " $ age              : num  67 61 80 49 79 81 74 69 59 78 ...\n",
      " $ hypertension     : int  0 0 0 0 1 0 1 0 0 0 ...\n",
      " $ heart_disease    : int  1 0 1 0 0 0 1 0 0 0 ...\n",
      " $ ever_married     : Factor w/ 2 levels \"No\",\"Yes\": 2 2 2 2 2 2 2 1 2 2 ...\n",
      " $ work_type        : Factor w/ 5 levels \"children\",\"Govt_job\",..: 4 5 4 4 5 4 4 4 4 4 ...\n",
      " $ Residence_type   : Factor w/ 2 levels \"Rural\",\"Urban\": 2 1 1 2 1 2 1 2 1 2 ...\n",
      " $ avg_glucose_level: num  229 202 106 171 174 ...\n",
      " $ bmi              : Factor w/ 419 levels \"10.3\",\"11.3\",..: 240 419 199 218 114 164 148 102 419 116 ...\n",
      " $ smoking_status   : Factor w/ 4 levels \"formerly smoked\",..: 1 2 2 3 2 1 2 2 4 4 ...\n",
      " $ stroke           : int  1 1 1 1 1 1 1 1 1 1 ...\n"
     ]
    }
   ],
   "source": [
    "str(df)"
   ]
  },
  {
   "cell_type": "code",
   "execution_count": 24,
   "metadata": {},
   "outputs": [
    {
     "data": {
      "text/plain": [
       "       id           gender          age         hypertension    \n",
       " Min.   :   67   Female:2994   Min.   : 0.08   Min.   :0.00000  \n",
       " 1st Qu.:17741   Male  :2115   1st Qu.:25.00   1st Qu.:0.00000  \n",
       " Median :36932   Other :   1   Median :45.00   Median :0.00000  \n",
       " Mean   :36518                 Mean   :43.23   Mean   :0.09746  \n",
       " 3rd Qu.:54682                 3rd Qu.:61.00   3rd Qu.:0.00000  \n",
       " Max.   :72940                 Max.   :82.00   Max.   :1.00000  \n",
       "                                                                \n",
       " heart_disease     ever_married         work_type    Residence_type\n",
       " Min.   :0.00000   No :1757     children     : 687   Rural:2514    \n",
       " 1st Qu.:0.00000   Yes:3353     Govt_job     : 657   Urban:2596    \n",
       " Median :0.00000                Never_worked :  22                 \n",
       " Mean   :0.05401                Private      :2925                 \n",
       " 3rd Qu.:0.00000                Self-employed: 819                 \n",
       " Max.   :1.00000                                                   \n",
       "                                                                   \n",
       " avg_glucose_level      bmi               smoking_status     stroke       \n",
       " Min.   : 55.12    N/A    : 201   formerly smoked: 885   Min.   :0.00000  \n",
       " 1st Qu.: 77.25    28.7   :  41   never smoked   :1892   1st Qu.:0.00000  \n",
       " Median : 91.89    28.4   :  38   smokes         : 789   Median :0.00000  \n",
       " Mean   :106.15    26.1   :  37   Unknown        :1544   Mean   :0.04873  \n",
       " 3rd Qu.:114.09    26.7   :  37                          3rd Qu.:0.00000  \n",
       " Max.   :271.74    27.6   :  37                          Max.   :1.00000  \n",
       "                   (Other):4719                                           "
      ]
     },
     "metadata": {},
     "output_type": "display_data"
    }
   ],
   "source": [
    "summary(df)"
   ]
  },
  {
   "cell_type": "markdown",
   "metadata": {},
   "source": [
    "Identifikator nie je sam o sebe zaujimavy, ale ocakavame ze vsetky hodnoty tohto stlpca budu unikatne:"
   ]
  },
  {
   "cell_type": "code",
   "execution_count": 25,
   "metadata": {},
   "outputs": [
    {
     "data": {
      "text/html": [
       "TRUE"
      ],
      "text/latex": [
       "TRUE"
      ],
      "text/markdown": [
       "TRUE"
      ],
      "text/plain": [
       "[1] TRUE"
      ]
     },
     "metadata": {},
     "output_type": "display_data"
    }
   ],
   "source": [
    "nrow(unique(df[c(\"id\")])) == nrow(df[c(\"id\")])"
   ]
  },
  {
   "cell_type": "markdown",
   "metadata": {},
   "source": [
    "Stlpec 'gender' ma 3 unikatne hodnoty. Tretia hodnota je 'Other' a vyskytuje sa v jedinom pozorovani. Kedze sa jedna o jedine pozorovanie a nevieme pohlavie urcit, toto pozorovanie odstranime a budeme uvazovat len 2 pohlavia. "
   ]
  },
  {
   "cell_type": "code",
   "execution_count": 26,
   "metadata": {},
   "outputs": [
    {
     "data": {
      "text/html": [
       "<table>\n",
       "<thead><tr><th></th><th scope=col>gender</th></tr></thead>\n",
       "<tbody>\n",
       "\t<tr><th scope=row>1</th><td>Male  </td></tr>\n",
       "\t<tr><th scope=row>2</th><td>Female</td></tr>\n",
       "\t<tr><th scope=row>3117</th><td>Other </td></tr>\n",
       "</tbody>\n",
       "</table>\n"
      ],
      "text/latex": [
       "\\begin{tabular}{r|l}\n",
       "  & gender\\\\\n",
       "\\hline\n",
       "\t1 & Male  \\\\\n",
       "\t2 & Female\\\\\n",
       "\t3117 & Other \\\\\n",
       "\\end{tabular}\n"
      ],
      "text/markdown": [
       "\n",
       "| <!--/--> | gender |\n",
       "|---|---|\n",
       "| 1 | Male   |\n",
       "| 2 | Female |\n",
       "| 3117 | Other  |\n",
       "\n"
      ],
      "text/plain": [
       "     gender\n",
       "1    Male  \n",
       "2    Female\n",
       "3117 Other "
      ]
     },
     "metadata": {},
     "output_type": "display_data"
    }
   ],
   "source": [
    "unique(df[c(\"gender\")])"
   ]
  },
  {
   "cell_type": "code",
   "execution_count": 27,
   "metadata": {},
   "outputs": [],
   "source": [
    "df = df[df$gender != 'Other', ]"
   ]
  },
  {
   "cell_type": "code",
   "execution_count": 28,
   "metadata": {},
   "outputs": [
    {
     "data": {
      "text/html": [
       "<table>\n",
       "<thead><tr><th scope=col>gender</th></tr></thead>\n",
       "<tbody>\n",
       "\t<tr><td>Male  </td></tr>\n",
       "\t<tr><td>Female</td></tr>\n",
       "</tbody>\n",
       "</table>\n"
      ],
      "text/latex": [
       "\\begin{tabular}{r|l}\n",
       " gender\\\\\n",
       "\\hline\n",
       "\t Male  \\\\\n",
       "\t Female\\\\\n",
       "\\end{tabular}\n"
      ],
      "text/markdown": [
       "\n",
       "| gender |\n",
       "|---|\n",
       "| Male   |\n",
       "| Female |\n",
       "\n"
      ],
      "text/plain": [
       "  gender\n",
       "1 Male  \n",
       "2 Female"
      ]
     },
     "metadata": {},
     "output_type": "display_data"
    }
   ],
   "source": [
    "unique(df[c(\"gender\")])"
   ]
  },
  {
   "cell_type": "markdown",
   "metadata": {},
   "source": [
    "Znak 'bmi' sa rozoznal ako kategoricky pre nerozoznane NA hodnoty. Preto ich transformujeme. Taktiez kategoriu 'Unknown' v znaku 'smoking_status' mozeme previest na NA pre konzistenciu."
   ]
  },
  {
   "cell_type": "code",
   "execution_count": 29,
   "metadata": {},
   "outputs": [],
   "source": [
    "df[] <- lapply(df, function(x) {\n",
    "    is.na(levels(x)) <- levels(x) == \"N/A\"\n",
    "    x\n",
    "})\n",
    "\n",
    "df[] <- lapply(df, function(x) {\n",
    "    is.na(levels(x)) <- levels(x) == \"Unknown\"\n",
    "    x\n",
    "})"
   ]
  },
  {
   "cell_type": "markdown",
   "metadata": {},
   "source": [
    "Teraz sa vieme pozriet, kde mame NA:"
   ]
  },
  {
   "cell_type": "code",
   "execution_count": 30,
   "metadata": {},
   "outputs": [
    {
     "data": {
      "text/html": [
       "<dl class=dl-horizontal>\n",
       "\t<dt>id</dt>\n",
       "\t\t<dd>FALSE</dd>\n",
       "\t<dt>gender</dt>\n",
       "\t\t<dd>FALSE</dd>\n",
       "\t<dt>age</dt>\n",
       "\t\t<dd>FALSE</dd>\n",
       "\t<dt>hypertension</dt>\n",
       "\t\t<dd>FALSE</dd>\n",
       "\t<dt>heart_disease</dt>\n",
       "\t\t<dd>FALSE</dd>\n",
       "\t<dt>ever_married</dt>\n",
       "\t\t<dd>FALSE</dd>\n",
       "\t<dt>work_type</dt>\n",
       "\t\t<dd>FALSE</dd>\n",
       "\t<dt>Residence_type</dt>\n",
       "\t\t<dd>FALSE</dd>\n",
       "\t<dt>avg_glucose_level</dt>\n",
       "\t\t<dd>FALSE</dd>\n",
       "\t<dt>bmi</dt>\n",
       "\t\t<dd>TRUE</dd>\n",
       "\t<dt>smoking_status</dt>\n",
       "\t\t<dd>TRUE</dd>\n",
       "\t<dt>stroke</dt>\n",
       "\t\t<dd>FALSE</dd>\n",
       "</dl>\n"
      ],
      "text/latex": [
       "\\begin{description*}\n",
       "\\item[id] FALSE\n",
       "\\item[gender] FALSE\n",
       "\\item[age] FALSE\n",
       "\\item[hypertension] FALSE\n",
       "\\item[heart\\textbackslash{}\\_disease] FALSE\n",
       "\\item[ever\\textbackslash{}\\_married] FALSE\n",
       "\\item[work\\textbackslash{}\\_type] FALSE\n",
       "\\item[Residence\\textbackslash{}\\_type] FALSE\n",
       "\\item[avg\\textbackslash{}\\_glucose\\textbackslash{}\\_level] FALSE\n",
       "\\item[bmi] TRUE\n",
       "\\item[smoking\\textbackslash{}\\_status] TRUE\n",
       "\\item[stroke] FALSE\n",
       "\\end{description*}\n"
      ],
      "text/markdown": [
       "id\n",
       ":   FALSEgender\n",
       ":   FALSEage\n",
       ":   FALSEhypertension\n",
       ":   FALSEheart_disease\n",
       ":   FALSEever_married\n",
       ":   FALSEwork_type\n",
       ":   FALSEResidence_type\n",
       ":   FALSEavg_glucose_level\n",
       ":   FALSEbmi\n",
       ":   TRUEsmoking_status\n",
       ":   TRUEstroke\n",
       ":   FALSE\n",
       "\n"
      ],
      "text/plain": [
       "               id            gender               age      hypertension \n",
       "            FALSE             FALSE             FALSE             FALSE \n",
       "    heart_disease      ever_married         work_type    Residence_type \n",
       "            FALSE             FALSE             FALSE             FALSE \n",
       "avg_glucose_level               bmi    smoking_status            stroke \n",
       "            FALSE              TRUE              TRUE             FALSE "
      ]
     },
     "metadata": {},
     "output_type": "display_data"
    }
   ],
   "source": [
    "apply(df, 2, function(x) any(is.na(x)))"
   ]
  },
  {
   "cell_type": "code",
   "execution_count": 31,
   "metadata": {},
   "outputs": [],
   "source": [
    "df['bmi'] = sapply(df['bmi'], as.character)\n",
    "df['bmi'] = sapply(df['bmi'], as.numeric)"
   ]
  },
  {
   "cell_type": "code",
   "execution_count": 32,
   "metadata": {},
   "outputs": [
    {
     "data": {
      "text/plain": [
       "       id           gender          age         hypertension    \n",
       " Min.   :   67   Female:2994   Min.   : 0.08   Min.   :0.00000  \n",
       " 1st Qu.:17740   Male  :2115   1st Qu.:25.00   1st Qu.:0.00000  \n",
       " Median :36922   Other :   0   Median :45.00   Median :0.00000  \n",
       " Mean   :36514                 Mean   :43.23   Mean   :0.09748  \n",
       " 3rd Qu.:54643                 3rd Qu.:61.00   3rd Qu.:0.00000  \n",
       " Max.   :72940                 Max.   :82.00   Max.   :1.00000  \n",
       "                                                                \n",
       " heart_disease     ever_married         work_type    Residence_type\n",
       " Min.   :0.00000   No :1756     children     : 687   Rural:2513    \n",
       " 1st Qu.:0.00000   Yes:3353     Govt_job     : 657   Urban:2596    \n",
       " Median :0.00000                Never_worked :  22                 \n",
       " Mean   :0.05402                Private      :2924                 \n",
       " 3rd Qu.:0.00000                Self-employed: 819                 \n",
       " Max.   :1.00000                                                   \n",
       "                                                                   \n",
       " avg_glucose_level      bmi.bmi               smoking_status     stroke       \n",
       " Min.   : 55.12    Min.   :10.30000   formerly smoked: 884   Min.   :0.00000  \n",
       " 1st Qu.: 77.24    1st Qu.:23.50000   never smoked   :1892   1st Qu.:0.00000  \n",
       " Median : 91.88    Median :28.10000   smokes         : 789   Median :0.00000  \n",
       " Mean   :106.14    Mean   :28.89456   NA's           :1544   Mean   :0.04874  \n",
       " 3rd Qu.:114.09    3rd Qu.:33.10000                          3rd Qu.:0.00000  \n",
       " Max.   :271.74    Max.   :97.60000                          Max.   :1.00000  \n",
       "                   NA's   :201                                                "
      ]
     },
     "metadata": {},
     "output_type": "display_data"
    }
   ],
   "source": [
    "summary(df)"
   ]
  },
  {
   "cell_type": "markdown",
   "metadata": {},
   "source": [
    "## Age"
   ]
  },
  {
   "cell_type": "markdown",
   "metadata": {},
   "source": [
    "Rozsah (N)"
   ]
  },
  {
   "cell_type": "code",
   "execution_count": 68,
   "metadata": {},
   "outputs": [
    {
     "data": {
      "text/html": [
       "5109"
      ],
      "text/latex": [
       "5109"
      ],
      "text/markdown": [
       "5109"
      ],
      "text/plain": [
       "[1] 5109"
      ]
     },
     "metadata": {},
     "output_type": "display_data"
    }
   ],
   "source": [
    "NROW(df$age)"
   ]
  },
  {
   "cell_type": "markdown",
   "metadata": {},
   "source": [
    "Priemer"
   ]
  },
  {
   "cell_type": "code",
   "execution_count": 37,
   "metadata": {},
   "outputs": [
    {
     "data": {
      "text/html": [
       "<strong>age:</strong> 43.2299862986886"
      ],
      "text/latex": [
       "\\textbf{age:} 43.2299862986886"
      ],
      "text/markdown": [
       "**age:** 43.2299862986886"
      ],
      "text/plain": [
       "     age \n",
       "43.22999 "
      ]
     },
     "metadata": {},
     "output_type": "display_data"
    }
   ],
   "source": [
    "apply(df['age'], 2, mean)"
   ]
  },
  {
   "cell_type": "markdown",
   "metadata": {},
   "source": [
    "Median\n",
    "\n"
   ]
  },
  {
   "cell_type": "code",
   "execution_count": 38,
   "metadata": {},
   "outputs": [
    {
     "data": {
      "text/html": [
       "<strong>age:</strong> 45"
      ],
      "text/latex": [
       "\\textbf{age:} 45"
      ],
      "text/markdown": [
       "**age:** 45"
      ],
      "text/plain": [
       "age \n",
       " 45 "
      ]
     },
     "metadata": {},
     "output_type": "display_data"
    }
   ],
   "source": [
    "apply(df['age'], 2, median)"
   ]
  },
  {
   "cell_type": "markdown",
   "metadata": {},
   "source": [
    "Modus"
   ]
  },
  {
   "cell_type": "code",
   "execution_count": 42,
   "metadata": {},
   "outputs": [],
   "source": [
    "modus <- function(v) {\n",
    "   uniqv <- unique(v)\n",
    "   uniqv[which.max(tabulate(match(v, uniqv)))]\n",
    "}"
   ]
  },
  {
   "cell_type": "code",
   "execution_count": 43,
   "metadata": {},
   "outputs": [
    {
     "data": {
      "text/html": [
       "<strong>age:</strong> 78"
      ],
      "text/latex": [
       "\\textbf{age:} 78"
      ],
      "text/markdown": [
       "**age:** 78"
      ],
      "text/plain": [
       "age \n",
       " 78 "
      ]
     },
     "metadata": {},
     "output_type": "display_data"
    }
   ],
   "source": [
    "apply(df['age'], 2, modus)"
   ]
  },
  {
   "cell_type": "code",
   "execution_count": 50,
   "metadata": {},
   "outputs": [
    {
     "data": {
      "image/png": "[encoded data removed]",
      "text/plain": [
       "Plot with title \"Histogram pre vek\""
      ]
     },
     "metadata": {},
     "output_type": "display_data"
    }
   ],
   "source": [
    "hist(df$age\n",
    "    , xlab=\"Vek\"\n",
    "    , ylab=\"Pocet\"\n",
    "    , main=\"Histogram pre vek\"\n",
    "    , col=\"lightblue\")"
   ]
  },
  {
   "cell_type": "markdown",
   "metadata": {},
   "source": [
    "Min"
   ]
  },
  {
   "cell_type": "code",
   "execution_count": 52,
   "metadata": {},
   "outputs": [
    {
     "data": {
      "text/html": [
       "0.08"
      ],
      "text/latex": [
       "0.08"
      ],
      "text/markdown": [
       "0.08"
      ],
      "text/plain": [
       "[1] 0.08"
      ]
     },
     "metadata": {},
     "output_type": "display_data"
    }
   ],
   "source": [
    "min(df$age)"
   ]
  },
  {
   "cell_type": "markdown",
   "metadata": {},
   "source": [
    "Max"
   ]
  },
  {
   "cell_type": "code",
   "execution_count": 53,
   "metadata": {},
   "outputs": [
    {
     "data": {
      "text/html": [
       "82"
      ],
      "text/latex": [
       "82"
      ],
      "text/markdown": [
       "82"
      ],
      "text/plain": [
       "[1] 82"
      ]
     },
     "metadata": {},
     "output_type": "display_data"
    }
   ],
   "source": [
    "max(df$age)"
   ]
  },
  {
   "cell_type": "markdown",
   "metadata": {},
   "source": [
    "Kvantily"
   ]
  },
  {
   "cell_type": "code",
   "execution_count": 64,
   "metadata": {},
   "outputs": [
    {
     "data": {
      "text/html": [
       "<dl class=dl-horizontal>\n",
       "\t<dt>0%</dt>\n",
       "\t\t<dd>0.08</dd>\n",
       "\t<dt>25%</dt>\n",
       "\t\t<dd>25</dd>\n",
       "\t<dt>50%</dt>\n",
       "\t\t<dd>45</dd>\n",
       "\t<dt>75%</dt>\n",
       "\t\t<dd>61</dd>\n",
       "\t<dt>100%</dt>\n",
       "\t\t<dd>82</dd>\n",
       "</dl>\n"
      ],
      "text/latex": [
       "\\begin{description*}\n",
       "\\item[0\\textbackslash{}\\%] 0.08\n",
       "\\item[25\\textbackslash{}\\%] 25\n",
       "\\item[50\\textbackslash{}\\%] 45\n",
       "\\item[75\\textbackslash{}\\%] 61\n",
       "\\item[100\\textbackslash{}\\%] 82\n",
       "\\end{description*}\n"
      ],
      "text/markdown": [
       "0%\n",
       ":   0.0825%\n",
       ":   2550%\n",
       ":   4575%\n",
       ":   61100%\n",
       ":   82\n",
       "\n"
      ],
      "text/plain": [
       "   0%   25%   50%   75%  100% \n",
       " 0.08 25.00 45.00 61.00 82.00 "
      ]
     },
     "metadata": {},
     "output_type": "display_data"
    }
   ],
   "source": [
    "quantile(df$age)"
   ]
  },
  {
   "cell_type": "markdown",
   "metadata": {},
   "source": [
    "Boxplot pre vek"
   ]
  },
  {
   "cell_type": "code",
   "execution_count": 61,
   "metadata": {},
   "outputs": [
    {
     "data": {
      "image/png": "[encoded data removed]",
      "text/plain": [
       "Plot with title \"Boxplot pre vek\""
      ]
     },
     "metadata": {},
     "output_type": "display_data"
    }
   ],
   "source": [
    "boxplot(df$age, horizontal=TRUE, xlab=\"Vek\", main=\"Boxplot pre vek\", col=\"lightblue\")"
   ]
  },
  {
   "cell_type": "markdown",
   "metadata": {},
   "source": [
    "Rozptyl"
   ]
  },
  {
   "cell_type": "code",
   "execution_count": 65,
   "metadata": {},
   "outputs": [
    {
     "data": {
      "text/html": [
       "511.373788194801"
      ],
      "text/latex": [
       "511.373788194801"
      ],
      "text/markdown": [
       "511.373788194801"
      ],
      "text/plain": [
       "[1] 511.3738"
      ]
     },
     "metadata": {},
     "output_type": "display_data"
    }
   ],
   "source": [
    "var(df$age)"
   ]
  },
  {
   "cell_type": "markdown",
   "metadata": {},
   "source": [
    "Smerodajná odchýlka"
   ]
  },
  {
   "cell_type": "code",
   "execution_count": 66,
   "metadata": {},
   "outputs": [
    {
     "data": {
      "text/html": [
       "22.6135753076509"
      ],
      "text/latex": [
       "22.6135753076509"
      ],
      "text/markdown": [
       "22.6135753076509"
      ],
      "text/plain": [
       "[1] 22.61358"
      ]
     },
     "metadata": {},
     "output_type": "display_data"
    }
   ],
   "source": [
    "sd(df$age)"
   ]
  },
  {
   "cell_type": "code",
   "execution_count": 74,
   "metadata": {},
   "outputs": [],
   "source": [
    "library(moments)"
   ]
  },
  {
   "cell_type": "markdown",
   "metadata": {},
   "source": [
    "Koeficient asymetrie"
   ]
  },
  {
   "cell_type": "code",
   "execution_count": 78,
   "metadata": {},
   "outputs": [
    {
     "data": {
      "text/html": [
       "-0.137389839898049"
      ],
      "text/latex": [
       "-0.137389839898049"
      ],
      "text/markdown": [
       "-0.137389839898049"
      ],
      "text/plain": [
       "[1] -0.1373898"
      ]
     },
     "metadata": {},
     "output_type": "display_data"
    }
   ],
   "source": [
    "skewness(df$age)"
   ]
  },
  {
   "cell_type": "markdown",
   "metadata": {},
   "source": [
    "Špicatosť"
   ]
  },
  {
   "cell_type": "code",
   "execution_count": 76,
   "metadata": {},
   "outputs": [
    {
     "data": {
      "text/html": [
       "2.00886445297715"
      ],
      "text/latex": [
       "2.00886445297715"
      ],
      "text/markdown": [
       "2.00886445297715"
      ],
      "text/plain": [
       "[1] 2.008864"
      ]
     },
     "metadata": {},
     "output_type": "display_data"
    }
   ],
   "source": [
    "kurtosis(df$age)"
   ]
  },
  {
   "cell_type": "markdown",
   "metadata": {},
   "source": [
    "Su data z norm. rozd.? <br>\n",
    "H0: Data su z norm. rozd. <br>\n",
    "H1: Data nie su z norm. rozd."
   ]
  },
  {
   "cell_type": "markdown",
   "metadata": {},
   "source": [
    "Q-Q plot"
   ]
  },
  {
   "cell_type": "code",
   "execution_count": 116,
   "metadata": {
    "scrolled": true
   },
   "outputs": [
    {
     "data": {
      "image/png": "[encoded data removed]",
      "text/plain": [
       "Plot with title \"Normal Q-Q Plot\""
      ]
     },
     "metadata": {},
     "output_type": "display_data"
    }
   ],
   "source": [
    "qqnorm(df$age)\n",
    "qqline(df$age, col = 2)"
   ]
  },
  {
   "cell_type": "code",
   "execution_count": 88,
   "metadata": {},
   "outputs": [],
   "source": [
    "library(nortest)"
   ]
  },
  {
   "cell_type": "code",
   "execution_count": 96,
   "metadata": {},
   "outputs": [
    {
     "data": {
      "text/plain": [
       "\n",
       "\tShapiro-Wilk normality test\n",
       "\n",
       "data:  df$age[0:5000]\n",
       "W = 0.96693, p-value < 2.2e-16\n"
      ]
     },
     "metadata": {},
     "output_type": "display_data"
    }
   ],
   "source": [
    "#Shapiro-Wilk test je do max 5000 zaznamov.\n",
    "shap_test <- shapiro.test(df$age[0:5000])\n",
    "shap_test"
   ]
  },
  {
   "cell_type": "code",
   "execution_count": 106,
   "metadata": {},
   "outputs": [
    {
     "name": "stdout",
     "output_type": "stream",
     "text": [
      "p-value:  2.058166e-32 \n",
      "[1] \"Zamietame H0, data nie su z norm. rozd.\"\n"
     ]
    }
   ],
   "source": [
    "cat(\"p-value: \", shap_test$p.value, \"\\n\")\n",
    "if (shap_test$p.value > 0.05) {\n",
    "    print(\"Nemozeme zamietnut H0\")\n",
    "} else print (\"Zamietame H0, data nie su z norm. rozd.\")"
   ]
  },
  {
   "cell_type": "code",
   "execution_count": 107,
   "metadata": {},
   "outputs": [],
   "source": [
    "#Anderson-Darling normality test\n",
    "ad_test <- ad.test(df$age)"
   ]
  },
  {
   "cell_type": "code",
   "execution_count": 108,
   "metadata": {
    "scrolled": true
   },
   "outputs": [
    {
     "name": "stdout",
     "output_type": "stream",
     "text": [
      "p-value:  3.7e-24 \n",
      "[1] \"Zamietame H0, data nie su z norm. rozd.\"\n"
     ]
    }
   ],
   "source": [
    "cat(\"p-value: \", ad_test$p.value, \"\\n\")\n",
    "if (ad_test$p.value > 0.05) {\n",
    "    print(\"Nemozeme zamietnut H0\")\n",
    "} else print (\"Zamietame H0, data nie su z norm. rozd.\")"
   ]
  },
  {
   "cell_type": "markdown",
   "metadata": {},
   "source": [
    "## BMI"
   ]
  },
  {
   "cell_type": "code",
   "execution_count": 141,
   "metadata": {},
   "outputs": [],
   "source": [
    "#remove NA\n",
    "bmi_no_na <- na.omit(df$bmi)"
   ]
  },
  {
   "cell_type": "markdown",
   "metadata": {},
   "source": [
    "Rozsah (N)"
   ]
  },
  {
   "cell_type": "code",
   "execution_count": 143,
   "metadata": {},
   "outputs": [
    {
     "data": {
      "text/html": [
       "4908"
      ],
      "text/latex": [
       "4908"
      ],
      "text/markdown": [
       "4908"
      ],
      "text/plain": [
       "[1] 4908"
      ]
     },
     "metadata": {},
     "output_type": "display_data"
    }
   ],
   "source": [
    "NROW(bmi_no_na)"
   ]
  },
  {
   "cell_type": "markdown",
   "metadata": {},
   "source": [
    "Priemer"
   ]
  },
  {
   "cell_type": "code",
   "execution_count": 144,
   "metadata": {},
   "outputs": [
    {
     "data": {
      "text/html": [
       "<strong>bmi:</strong> 28.8945599022005"
      ],
      "text/latex": [
       "\\textbf{bmi:} 28.8945599022005"
      ],
      "text/markdown": [
       "**bmi:** 28.8945599022005"
      ],
      "text/plain": [
       "     bmi \n",
       "28.89456 "
      ]
     },
     "metadata": {},
     "output_type": "display_data"
    }
   ],
   "source": [
    "apply(bmi_no_na, 2, mean)"
   ]
  },
  {
   "cell_type": "markdown",
   "metadata": {},
   "source": [
    "Median\n",
    "\n"
   ]
  },
  {
   "cell_type": "code",
   "execution_count": 145,
   "metadata": {},
   "outputs": [
    {
     "data": {
      "text/html": [
       "<strong>bmi:</strong> 28.1"
      ],
      "text/latex": [
       "\\textbf{bmi:} 28.1"
      ],
      "text/markdown": [
       "**bmi:** 28.1"
      ],
      "text/plain": [
       " bmi \n",
       "28.1 "
      ]
     },
     "metadata": {},
     "output_type": "display_data"
    }
   ],
   "source": [
    "apply(bmi_no_na, 2, median)"
   ]
  },
  {
   "cell_type": "markdown",
   "metadata": {},
   "source": [
    "Modus"
   ]
  },
  {
   "cell_type": "code",
   "execution_count": 146,
   "metadata": {},
   "outputs": [],
   "source": [
    "modus <- function(v) {\n",
    "   uniqv <- unique(v)\n",
    "   uniqv[which.max(tabulate(match(v, uniqv)))]\n",
    "}"
   ]
  },
  {
   "cell_type": "code",
   "execution_count": 147,
   "metadata": {},
   "outputs": [
    {
     "data": {
      "text/html": [
       "<strong>bmi:</strong> 28.7"
      ],
      "text/latex": [
       "\\textbf{bmi:} 28.7"
      ],
      "text/markdown": [
       "**bmi:** 28.7"
      ],
      "text/plain": [
       " bmi \n",
       "28.7 "
      ]
     },
     "metadata": {},
     "output_type": "display_data"
    }
   ],
   "source": [
    "apply(bmi_no_na, 2, modus)"
   ]
  },
  {
   "cell_type": "code",
   "execution_count": 148,
   "metadata": {},
   "outputs": [
    {
     "data": {
      "image/png": "[encoded data removed]",
      "text/plain": [
       "Plot with title \"Histogram pre BMI\""
      ]
     },
     "metadata": {},
     "output_type": "display_data"
    }
   ],
   "source": [
    "hist(bmi_no_na\n",
    "    , xlab=\"BMI\"\n",
    "    , ylab=\"Pocet\"\n",
    "    , main=\"Histogram pre BMI\"\n",
    "    , col=\"lightblue\")"
   ]
  },
  {
   "cell_type": "markdown",
   "metadata": {},
   "source": [
    "Min"
   ]
  },
  {
   "cell_type": "code",
   "execution_count": 149,
   "metadata": {},
   "outputs": [
    {
     "data": {
      "text/html": [
       "10.3"
      ],
      "text/latex": [
       "10.3"
      ],
      "text/markdown": [
       "10.3"
      ],
      "text/plain": [
       "[1] 10.3"
      ]
     },
     "metadata": {},
     "output_type": "display_data"
    }
   ],
   "source": [
    "min(bmi_no_na)"
   ]
  },
  {
   "cell_type": "markdown",
   "metadata": {},
   "source": [
    "Max"
   ]
  },
  {
   "cell_type": "code",
   "execution_count": 150,
   "metadata": {},
   "outputs": [
    {
     "data": {
      "text/html": [
       "97.6"
      ],
      "text/latex": [
       "97.6"
      ],
      "text/markdown": [
       "97.6"
      ],
      "text/plain": [
       "[1] 97.6"
      ]
     },
     "metadata": {},
     "output_type": "display_data"
    }
   ],
   "source": [
    "max(bmi_no_na)"
   ]
  },
  {
   "cell_type": "markdown",
   "metadata": {},
   "source": [
    "Kvantily"
   ]
  },
  {
   "cell_type": "code",
   "execution_count": 151,
   "metadata": {},
   "outputs": [
    {
     "data": {
      "text/html": [
       "<dl class=dl-horizontal>\n",
       "\t<dt>0%</dt>\n",
       "\t\t<dd>10.3</dd>\n",
       "\t<dt>25%</dt>\n",
       "\t\t<dd>23.5</dd>\n",
       "\t<dt>50%</dt>\n",
       "\t\t<dd>28.1</dd>\n",
       "\t<dt>75%</dt>\n",
       "\t\t<dd>33.1</dd>\n",
       "\t<dt>100%</dt>\n",
       "\t\t<dd>97.6</dd>\n",
       "</dl>\n"
      ],
      "text/latex": [
       "\\begin{description*}\n",
       "\\item[0\\textbackslash{}\\%] 10.3\n",
       "\\item[25\\textbackslash{}\\%] 23.5\n",
       "\\item[50\\textbackslash{}\\%] 28.1\n",
       "\\item[75\\textbackslash{}\\%] 33.1\n",
       "\\item[100\\textbackslash{}\\%] 97.6\n",
       "\\end{description*}\n"
      ],
      "text/markdown": [
       "0%\n",
       ":   10.325%\n",
       ":   23.550%\n",
       ":   28.175%\n",
       ":   33.1100%\n",
       ":   97.6\n",
       "\n"
      ],
      "text/plain": [
       "  0%  25%  50%  75% 100% \n",
       "10.3 23.5 28.1 33.1 97.6 "
      ]
     },
     "metadata": {},
     "output_type": "display_data"
    }
   ],
   "source": [
    "quantile(bmi_no_na)"
   ]
  },
  {
   "cell_type": "markdown",
   "metadata": {},
   "source": [
    "Boxplot pre vek"
   ]
  },
  {
   "cell_type": "code",
   "execution_count": 152,
   "metadata": {},
   "outputs": [
    {
     "data": {
      "image/png": "[encoded data removed]",
      "text/plain": [
       "Plot with title \"Boxplot pre BMI\""
      ]
     },
     "metadata": {},
     "output_type": "display_data"
    }
   ],
   "source": [
    "boxplot(bmi_no_na, horizontal=TRUE, xlab=\"BMI\", main=\"Boxplot pre BMI\", col=\"lightblue\")"
   ]
  },
  {
   "cell_type": "markdown",
   "metadata": {},
   "source": [
    "Rozptyl"
   ]
  },
  {
   "cell_type": "code",
   "execution_count": 153,
   "metadata": {},
   "outputs": [
    {
     "data": {
      "text/html": [
       "<table>\n",
       "<thead><tr><th></th><th scope=col>bmi</th></tr></thead>\n",
       "<tbody>\n",
       "\t<tr><th scope=row>bmi</th><td>61.69034</td></tr>\n",
       "</tbody>\n",
       "</table>\n"
      ],
      "text/latex": [
       "\\begin{tabular}{r|l}\n",
       "  & bmi\\\\\n",
       "\\hline\n",
       "\tbmi & 61.69034\\\\\n",
       "\\end{tabular}\n"
      ],
      "text/markdown": [
       "\n",
       "| <!--/--> | bmi |\n",
       "|---|---|\n",
       "| bmi | 61.69034 |\n",
       "\n"
      ],
      "text/plain": [
       "    bmi     \n",
       "bmi 61.69034"
      ]
     },
     "metadata": {},
     "output_type": "display_data"
    }
   ],
   "source": [
    "var(bmi_no_na)"
   ]
  },
  {
   "cell_type": "markdown",
   "metadata": {},
   "source": [
    "Smerodajná odchýlka"
   ]
  },
  {
   "cell_type": "code",
   "execution_count": 154,
   "metadata": {},
   "outputs": [
    {
     "data": {
      "text/html": [
       "7.85431991314467"
      ],
      "text/latex": [
       "7.85431991314467"
      ],
      "text/markdown": [
       "7.85431991314467"
      ],
      "text/plain": [
       "[1] 7.85432"
      ]
     },
     "metadata": {},
     "output_type": "display_data"
    }
   ],
   "source": [
    "sd(bmi_no_na)"
   ]
  },
  {
   "cell_type": "code",
   "execution_count": 155,
   "metadata": {},
   "outputs": [],
   "source": [
    "library(moments)"
   ]
  },
  {
   "cell_type": "markdown",
   "metadata": {},
   "source": [
    "Koeficient asymetrie"
   ]
  },
  {
   "cell_type": "code",
   "execution_count": 156,
   "metadata": {},
   "outputs": [
    {
     "data": {
      "text/html": [
       "<strong>bmi:</strong> 1.05474046966251"
      ],
      "text/latex": [
       "\\textbf{bmi:} 1.05474046966251"
      ],
      "text/markdown": [
       "**bmi:** 1.05474046966251"
      ],
      "text/plain": [
       "    bmi \n",
       "1.05474 "
      ]
     },
     "metadata": {},
     "output_type": "display_data"
    }
   ],
   "source": [
    "skewness(bmi_no_na)"
   ]
  },
  {
   "cell_type": "markdown",
   "metadata": {},
   "source": [
    "Špicatosť"
   ]
  },
  {
   "cell_type": "code",
   "execution_count": 157,
   "metadata": {},
   "outputs": [
    {
     "data": {
      "text/html": [
       "<strong>bmi:</strong> 6.35768309160711"
      ],
      "text/latex": [
       "\\textbf{bmi:} 6.35768309160711"
      ],
      "text/markdown": [
       "**bmi:** 6.35768309160711"
      ],
      "text/plain": [
       "     bmi \n",
       "6.357683 "
      ]
     },
     "metadata": {},
     "output_type": "display_data"
    }
   ],
   "source": [
    "kurtosis(bmi_no_na)"
   ]
  },
  {
   "cell_type": "markdown",
   "metadata": {},
   "source": [
    "Su data z norm. rozd.? <br>\n",
    "H0: Data su z norm. rozd. <br>\n",
    "H1: Data nie su z norm. rozd."
   ]
  },
  {
   "cell_type": "markdown",
   "metadata": {},
   "source": [
    "Q-Q plot"
   ]
  },
  {
   "cell_type": "code",
   "execution_count": 159,
   "metadata": {
    "scrolled": true
   },
   "outputs": [
    {
     "data": {
      "image/png": "[encoded data removed]",
      "text/plain": [
       "Plot with title \"Normal Q-Q Plot\""
      ]
     },
     "metadata": {},
     "output_type": "display_data"
    }
   ],
   "source": [
    "qqnorm(bmi_no_na)\n",
    "qqline(bmi_no_na, col = 2)"
   ]
  },
  {
   "cell_type": "code",
   "execution_count": 88,
   "metadata": {},
   "outputs": [],
   "source": [
    "library(nortest)"
   ]
  },
  {
   "cell_type": "code",
   "execution_count": 160,
   "metadata": {},
   "outputs": [
    {
     "data": {
      "text/plain": [
       "\n",
       "\tShapiro-Wilk normality test\n",
       "\n",
       "data:  bmi_no_na[0:5000]\n",
       "W = 0.95357, p-value < 2.2e-16\n"
      ]
     },
     "metadata": {},
     "output_type": "display_data"
    }
   ],
   "source": [
    "#Shapiro-Wilk test je do max 5000 zaznamov.\n",
    "shap_test <- shapiro.test(bmi_no_na[0:5000])\n",
    "shap_test"
   ]
  },
  {
   "cell_type": "code",
   "execution_count": 162,
   "metadata": {},
   "outputs": [
    {
     "name": "stdout",
     "output_type": "stream",
     "text": [
      "p-value:  6.759068e-37 \n",
      "[1] \"Zamietame H0, data nie su z norm. rozd.\"\n"
     ]
    }
   ],
   "source": [
    "cat(\"p-value: \", shap_test$p.value, \"\\n\")\n",
    "if (shap_test$p.value > 0.05) {\n",
    "    print(\"Nemozeme zamietnut H0\")\n",
    "} else print (\"Zamietame H0, data nie su z norm. rozd.\")"
   ]
  },
  {
   "cell_type": "code",
   "execution_count": 161,
   "metadata": {},
   "outputs": [],
   "source": [
    "#Anderson-Darling normality test\n",
    "ad_test <- ad.test(bmi_no_na)"
   ]
  },
  {
   "cell_type": "code",
   "execution_count": 163,
   "metadata": {
    "scrolled": true
   },
   "outputs": [
    {
     "name": "stdout",
     "output_type": "stream",
     "text": [
      "p-value:  3.7e-24 \n",
      "[1] \"Zamietame H0, data nie su z norm. rozd.\"\n"
     ]
    }
   ],
   "source": [
    "cat(\"p-value: \", ad_test$p.value, \"\\n\")\n",
    "if (ad_test$p.value > 0.05) {\n",
    "    print(\"Nemozeme zamietnut H0\")\n",
    "} else print (\"Zamietame H0, data nie su z norm. rozd.\")"
   ]
  }
 ],
 "metadata": {
  "kernelspec": {
   "display_name": "R",
   "language": "R",
   "name": "ir"
  },
  "language_info": {
   "codemirror_mode": "r",
   "file_extension": ".r",
   "mimetype": "text/x-r-source",
   "name": "R",
   "pygments_lexer": "r",
   "version": "3.6.1"
  }
 },
 "nbformat": 4,
 "nbformat_minor": 5
}
