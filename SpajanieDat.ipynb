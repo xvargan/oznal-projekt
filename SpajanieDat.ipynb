{
 "cells": [
  {
   "cell_type": "code",
   "execution_count": null,
   "metadata": {},
   "outputs": [],
   "source": [
    "#kniznice\n",
    "install.packages(\"tidyverse\")\n",
    "library(tidyverse) \n",
    "library(reshape2)"
   ]
  },
  {
   "cell_type": "code",
   "execution_count": null,
   "metadata": {},
   "outputs": [],
   "source": [
    "#Pocty prenesenych dat:\n",
    "\n",
    "#set the working directory from which the files will be read from\n",
    "setwd(\"data/poctyPrenesenychDat/\")\n",
    "\n",
    "#create a list of the files from your target directory\n",
    "file_list <- list.files(pattern=\"*.csv\") #musel som pridat nuly pred cisla v nazvoch lebo inak bralo 1,10,11,...\n",
    "\n",
    "#initiate a blank data frame, each iteration of the loop will append the data from the given file to this variable\n",
    "dataset_poctyPrenesenychDat <- data.frame()\n",
    "\n",
    "for (i in 1:length(file_list)){\n",
    "  temp_data <- read.csv(file = file_list[i], sep=\",\", encoding=\"UTF-8\") \n",
    "  dataset_poctyPrenesenychDat <- rbind(dataset_poctyPrenesenychDat, temp_data) #for each iteration, bind the new data to the building dataset\n",
    "}\n",
    "\n",
    "#Data su od 24.5.2018 do 29.2.2020. Prvy problem je, ze v podstate nemame udaje pre obdobie pocas korony,\n",
    "#druhy problem je, ze v niektore dni je viac merani. Treba to spojit v ramci jednotlivych dni. Navrhujem\n",
    "#predkoronove udaje neskor vygenerovat\n",
    "\n",
    "#write.csv2(dataset, \"../../dataset.csv\")\n",
    "\n",
    "setwd(\"../..\")\n",
    "\n",
    "#column names na lowercase\n",
    "names(dataset_poctyPrenesenychDat) <- tolower(names(dataset_poctyPrenesenychDat))\n",
    "#show(dataset_poctyPrenesenychDat)\n"
   ]
  },
  {
   "cell_type": "code",
   "execution_count": null,
   "metadata": {},
   "outputs": [],
   "source": [
    "#Udaje o pouzivateloch + dlzka pripojenia:\n",
    "\n",
    "setwd(\"data/udajeDlzkaPripojenia/\")\n",
    "\n",
    "file_list <- list.files(pattern=\"*.csv\") \n",
    "\n",
    "dataset_udajeDlzkaPripojenia <- data.frame()\n",
    "\n",
    "for (i in 1:length(file_list)){\n",
    "  temp_data <- read.csv(file = file_list[i], sep=\";\", encoding=\"UTF-8\") \n",
    "  dataset_udajeDlzkaPripojenia <- rbind(dataset_udajeDlzkaPripojenia, temp_data) \n",
    "}\n",
    "#Data su od 1.6.2018 do 25.2.2021. Problemy som nezaznamenal ziadne. Toto bude fajn zaklad pre nas dataset.\n",
    "\n",
    "#write.csv2(dataset, \"../../dataset.csv\")\n",
    "\n",
    "setwd(\"../..\")\n",
    "\n",
    "#column names na lowercase\n",
    "names(dataset_udajeDlzkaPripojenia) <- tolower(names(dataset_udajeDlzkaPripojenia))\n",
    "#show(dataset_udajeDlzkaPripojenia)\n",
    "\n"
   ]
  },
  {
   "cell_type": "code",
   "execution_count": null,
   "metadata": {},
   "outputs": [],
   "source": [
    "#Udaje o zariadeni - Jazyk, OS, Typ zariadenia, Typ prehliadaca:\n",
    "\n",
    "setwd(\"data/osJazykTypPrehliadac/\")\n",
    "\n",
    "file_list <- list.files(pattern=\"*.csv\") \n",
    "\n",
    "dataset_osJazykTypPrehliadac <- data.frame()\n",
    "\n",
    "for (i in 1:length(file_list)){\n",
    "  temp_data <- read.csv(file = file_list[i], sep=\";\", encoding=\"UTF-8\") \n",
    "  dataset_osJazykTypPrehliadac <- rbind(dataset_osJazykTypPrehliadac, temp_data) \n",
    "}\n",
    "\n",
    "#column names na uppercase\n",
    "names(dataset_osJazykTypPrehliadac) <- tolower(names(dataset_osJazykTypPrehliadac))\n",
    "\n",
    "\n",
    "#Data su od 24.5.2018 do 25.2.2021. Velmi pekne data, ktore urcite chceme pouzit. Problem je ich forma.\n",
    "#Je tam variabilny pocet zaznamov pre kazdy den, podla mnozstva identifikovanych jazykov atd v dany den.\n",
    "#Treba to previest na stlpce a tiez asi zvazit ktore hodnoty nam stoji za to pouzit v datasete a ktore nie. \n",
    "\n",
    "#write.csv2(dataset, \"../../dataset.csv\")\n",
    "#show(dataset_osJazykTypPrehliadac)\n",
    "setwd(\"../..\")"
   ]
  },
  {
   "cell_type": "code",
   "execution_count": null,
   "metadata": {},
   "outputs": [],
   "source": [
    "#Pocty podla oblasti:\n",
    "\n",
    "setwd(\"data/poctyPodlaOblasti/\")\n",
    "\n",
    "file_list <- list.files(pattern=\"*.csv\")\n",
    "\n",
    "dataset_poctyPodlaOblasti <- data.frame()\n",
    "\n",
    "for (i in 1:length(file_list)){\n",
    "  temp_data <- read.csv(file = file_list[i], sep=\";\", encoding=\"UTF-8\", stringsAsFactors=FALSE) \n",
    "  dataset_poctyPodlaOblasti <- rbind(dataset_poctyPodlaOblasti, temp_data) \n",
    "}\n",
    "\n",
    "#Vo vysledom dataframe su najprv udaje po celych mesiacoch a lokality su menej podelene. \n",
    "#Nasledne od 1.10.2019 su data po dnoch a \"ostatne\" je rozdelene na konkretne lokality. Navrhujem teda zatial\n",
    "#napojit len od 1.10.2019 a pred tymto datumom to neskor podelime na dni tak aby bolo rozdelenie priblizne rovnake \n",
    "\n",
    "#column names na uppercase\n",
    "names(dataset_poctyPodlaOblasti) <- tolower(names(dataset_poctyPodlaOblasti))\n",
    "\n",
    "\n",
    "#write.csv2(dataset, \"../../dataset.csv\")\n",
    "#show(dataset_poctyPodlaOblasti)\n",
    "setwd(\"../..\")"
   ]
  },
  {
   "cell_type": "code",
   "execution_count": null,
   "metadata": {},
   "outputs": [],
   "source": [
    "#spoji stplpce \"type\" a \"name\" => type_name\n",
    "#type: browser, name: Firefox, value: 5 => type_name: browser_Firefox, value:5\n",
    "type_and_name <- unite(dataset_osJazykTypPrehliadac, type_name, c(type, name), remove=TRUE)\n",
    "\n",
    "# prekonvertuje riadok na stlpec, unique ID je date pri dataset_osJazykTypPrehliadac\n",
    "# type_name: browser_Firefox, value:5 => browser_Firefox: 5 pre dany den\n",
    "dataset_type_and_name <- dcast(type_and_name, date ~ type_name, value.var = \"value\")\n",
    "\n",
    "# prekonvertuje riadok na stlpec, unique ID je date pri poctyPodlaOblasti\n",
    "dataset_location <- dcast(dataset_poctyPodlaOblasti, date ~ location, value.var = \"value\")"
   ]
  },
  {
   "cell_type": "code",
   "execution_count": null,
   "metadata": {},
   "outputs": [],
   "source": [
    "#konvertujeme na Date format aby sme mohli nasledne filtrovat\n",
    "dataset_location$date <- as.Date(dataset_location$date, format=\"%Y-%m-%d %H:%M:%OS\")\n",
    "\n",
    "#chceme data po 2019-10-01 kedze predtym data boli za cely mesiac \n",
    "dataset_filtered_location <- subset(dataset_location, date > \"2019-10-01\")\n"
   ]
  },
  {
   "cell_type": "code",
   "execution_count": null,
   "metadata": {},
   "outputs": [],
   "source": [
    "#merge datasets na zaklade date (poctyPrenesenychDat + udajeDlzkaPripojenia)\n",
    "merged_dataset_1 <- merge(dataset_poctyPrenesenychDat, dataset_udajeDlzkaPripojenia, by=\"date\", all=TRUE)\n",
    "\n",
    "#merge datasets na zaklade date (poctyPrenesenychDat + udajeDlzkaPripojenia + osJazykTypPrehliadac)\n",
    "merged_dataset_2 <- merge(merged_dataset_1, dataset_type_and_name, by=\"date\", all=TRUE)\n",
    "\n",
    "#merge datasets na zaklade date (poctyPrenesenychDat + udajeDlzkaPripojenia + osJazykTypPrehliadac + poctyPodlaOblasti)\n",
    "final_dataset <- merge(dataset_filtered_location, merged_dataset_2, by=\"date\", all=TRUE)\n",
    "\n",
    "write.csv2(final_dataset, \"../../dataset_final.csv\")\n",
    "head(final_dataset)\n",
    "\n"
   ]
  },
  {
   "cell_type": "code",
   "execution_count": null,
   "metadata": {},
   "outputs": [],
   "source": []
  }
 ],
 "metadata": {
  "kernelspec": {
   "display_name": "R",
   "language": "R",
   "name": "ir"
  },
  "language_info": {
   "codemirror_mode": "r",
   "file_extension": ".r",
   "mimetype": "text/x-r-source",
   "name": "R",
   "pygments_lexer": "r",
   "version": "3.6.1"
  }
 },
 "nbformat": 4,
 "nbformat_minor": 5
}
