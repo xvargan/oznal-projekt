{
 "cells": [
  {
   "cell_type": "code",
   "execution_count": 2,
   "id": "destroyed-tuesday",
   "metadata": {},
   "outputs": [],
   "source": [
    "#Pocty prenesenych dat:\n",
    "\n",
    "#set the working directory from which the files will be read from\n",
    "setwd(\"data/poctyPrenesenychDat/\")\n",
    "\n",
    "#create a list of the files from your target directory\n",
    "file_list <- list.files(pattern=\"*.csv\") #musel som pridat nuly pred cisla v nazvoch lebo inak bralo 1,10,11,...\n",
    "\n",
    "#initiate a blank data frame, each iteration of the loop will append the data from the given file to this variable\n",
    "dataset <- data.frame()\n",
    "\n",
    "for (i in 1:length(file_list)){\n",
    "  temp_data <- read.csv(file = file_list[i], sep=\",\") \n",
    "  dataset <- rbind(dataset, temp_data) #for each iteration, bind the new data to the building dataset\n",
    "}\n",
    "\n",
    "#Data su od 24.5.2018 do 29.2.2020. Prvy problem je, ze v podstate nemame udaje pre obdobie pocas korony,\n",
    "#druhy problem je, ze v niektore dni je viac merani. Treba to spojit v ramci jednotlivych dni. Navrhujem\n",
    "#predkoronove udaje neskor vygenerovat\n",
    "\n",
    "#write.csv2(dataset, \"../../dataset.csv\")\n",
    "\n",
    "setwd(\"../..\")"
   ]
  },
  {
   "cell_type": "code",
   "execution_count": 8,
   "id": "private-color",
   "metadata": {},
   "outputs": [],
   "source": [
    "#Udaje o pouzivateloch + dlzka pripojenia:\n",
    "\n",
    "setwd(\"data/udajeDlzkaPripojenia/\")\n",
    "\n",
    "file_list <- list.files(pattern=\"*.csv\") \n",
    "\n",
    "dataset <- data.frame()\n",
    "\n",
    "for (i in 1:length(file_list)){\n",
    "  temp_data <- read.csv(file = file_list[i], sep=\";\") \n",
    "  dataset <- rbind(dataset, temp_data) \n",
    "}\n",
    "\n",
    "#Data su od 1.6.2018 do 25.2.2021. Problemy som nezaznamenal ziadne. Toto bude fajn zaklad pre nas dataset.\n",
    "\n",
    "#write.csv2(dataset, \"../../dataset.csv\")\n",
    "\n",
    "setwd(\"../..\")"
   ]
  },
  {
   "cell_type": "code",
   "execution_count": 7,
   "id": "fresh-listing",
   "metadata": {},
   "outputs": [],
   "source": [
    "#Udaje o zariadeni - Jazyk, OS, Typ zariadenia, Typ prehliadaca:\n",
    "\n",
    "setwd(\"data/osJazykTypPrehliadac/\")\n",
    "\n",
    "file_list <- list.files(pattern=\"*.csv\") \n",
    "\n",
    "dataset <- data.frame()\n",
    "\n",
    "for (i in 1:length(file_list)){\n",
    "  temp_data <- read.csv(file = file_list[i], sep=\";\") \n",
    "  dataset <- rbind(dataset, temp_data) \n",
    "}\n",
    "\n",
    "#Data su od 24.5.2018 do 25.2.2021. Velmi pekne data, ktore urcite chceme pouzit. Problem je ich forma.\n",
    "#Je tam variabilny pocet zaznamov pre kazdy den, podla mnozstva identifikovanych jazykov atd v dany den.\n",
    "#Treba to previest na stlpce a tiez asi zvazit ktore hodnoty nam stoji za to pouzit v datasete a ktore nie. \n",
    "\n",
    "#write.csv2(dataset, \"../../dataset.csv\")\n",
    "\n",
    "setwd(\"../..\")"
   ]
  },
  {
   "cell_type": "code",
   "execution_count": null,
   "id": "cutting-curve",
   "metadata": {},
   "outputs": [],
   "source": [
    "#Pocty podla oblasti:\n",
    "\n",
    "setwd(\"data/poctyPodlaOblasti/\")\n",
    "\n",
    "file_list <- list.files(pattern=\"*.csv\")\n",
    "\n",
    "dataset <- data.frame()\n",
    "\n",
    "for (i in 1:length(file_list)){\n",
    "  temp_data <- read.csv(file = file_list[i], sep=\";\") \n",
    "  dataset <- rbind(dataset, temp_data) \n",
    "}\n",
    "\n",
    "#Vo vysledom dataframe su najprv udaje po celych mesiacoch a lokality su menej podelene. \n",
    "#Nasledne od 1.10.2019 su data po dnoch a \"ostatne\" je rozdelene na konkretne lokality. Navrhujem teda zatial\n",
    "#napojit len od 1.10.2019 a pred tymto datumom to neskor podelime na dni tak aby bolo rozdelenie priblizne rovnake \n",
    "\n",
    "#write.csv2(dataset, \"../../dataset.csv\")\n",
    "\n",
    "setwd(\"../..\")"
   ]
  }
 ],
 "metadata": {
  "kernelspec": {
   "display_name": "R",
   "language": "R",
   "name": "ir"
  },
  "language_info": {
   "codemirror_mode": "r",
   "file_extension": ".r",
   "mimetype": "text/x-r-source",
   "name": "R",
   "pygments_lexer": "r",
   "version": "3.6.1"
  }
 },
 "nbformat": 4,
 "nbformat_minor": 5
}
