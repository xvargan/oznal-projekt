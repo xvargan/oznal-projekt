{
 "cells": [
  {
   "cell_type": "markdown",
   "metadata": {},
   "source": [
    "# OZNAL - Vplyv pandémie na využitie Free Wifi v BA"
   ]
  },
  {
   "cell_type": "markdown",
   "metadata": {},
   "source": [
    "## Autori: Norbert Varga, Krištof Zubricky"
   ]
  },
  {
   "cell_type": "code",
   "execution_count": 1,
   "metadata": {},
   "outputs": [
    {
     "name": "stderr",
     "output_type": "stream",
     "text": [
      "Warning message:\n",
      "\"package 'tidyverse' was built under R version 3.6.3\"-- Attaching packages ------------------------------------------------------------------------------- tidyverse 1.3.0 --\n",
      "v ggplot2 3.3.3     v purrr   0.3.4\n",
      "v tibble  3.0.6     v dplyr   1.0.4\n",
      "v tidyr   1.1.2     v stringr 1.4.0\n",
      "v readr   1.4.0     v forcats 0.5.1\n",
      "Warning message:\n",
      "\"package 'ggplot2' was built under R version 3.6.3\"Warning message:\n",
      "\"package 'tibble' was built under R version 3.6.3\"Warning message:\n",
      "\"package 'tidyr' was built under R version 3.6.3\"Warning message:\n",
      "\"package 'readr' was built under R version 3.6.3\"Warning message:\n",
      "\"package 'purrr' was built under R version 3.6.3\"Warning message:\n",
      "\"package 'dplyr' was built under R version 3.6.3\"Warning message:\n",
      "\"package 'stringr' was built under R version 3.6.3\"Warning message:\n",
      "\"package 'forcats' was built under R version 3.6.3\"-- Conflicts ---------------------------------------------------------------------------------- tidyverse_conflicts() --\n",
      "x dplyr::filter() masks stats::filter()\n",
      "x dplyr::lag()    masks stats::lag()\n",
      "Warning message:\n",
      "\"package 'reshape2' was built under R version 3.6.3\"\n",
      "Attaching package: 'reshape2'\n",
      "\n",
      "The following object is masked from 'package:tidyr':\n",
      "\n",
      "    smiths\n",
      "\n"
     ]
    }
   ],
   "source": [
    "#kniznice\n",
    "#install.packages(\"tidyverse\")\n",
    "library(tidyverse) \n",
    "library(reshape2)\n",
    "library(ggplot2)"
   ]
  },
  {
   "cell_type": "code",
   "execution_count": 2,
   "metadata": {},
   "outputs": [],
   "source": [
    "#Pocty prenesenych dat:\n",
    "\n",
    "#set the working directory from which the files will be read from\n",
    "setwd(\"data/poctyPrenesenychDat/\")\n",
    "\n",
    "#create a list of the files from your target directory\n",
    "file_list <- list.files(pattern=\"*.csv\") #musel som pridat nuly pred cisla v nazvoch lebo inak bralo 1,10,11,...\n",
    "\n",
    "#initiate a blank data frame, each iteration of the loop will append the data from the given file to this variable\n",
    "dataset_poctyPrenesenychDat <- data.frame()\n",
    "\n",
    "for (i in 1:length(file_list)){\n",
    "  temp_data <- read.csv(file = file_list[i], sep=\",\", encoding=\"UTF-8\") \n",
    "  dataset_poctyPrenesenychDat <- rbind(dataset_poctyPrenesenychDat, temp_data) #for each iteration, bind the new data to the building dataset\n",
    "}\n",
    "\n",
    "#Data su od 24.5.2018 do 29.2.2020. Prvy problem je, ze v podstate nemame udaje pre obdobie pocas korony,\n",
    "#druhy problem je, ze v niektore dni je viac merani. Treba to spojit v ramci jednotlivych dni. Navrhujem\n",
    "#predkoronove udaje neskor vygenerovat\n",
    "\n",
    "#write.csv2(dataset, \"../../dataset.csv\")\n",
    "\n",
    "setwd(\"../..\")\n",
    "\n",
    "#column names na lowercase\n",
    "names(dataset_poctyPrenesenychDat) <- tolower(names(dataset_poctyPrenesenychDat))\n",
    "#show(dataset_poctyPrenesenychDat)\n"
   ]
  },
  {
   "cell_type": "code",
   "execution_count": 3,
   "metadata": {},
   "outputs": [],
   "source": [
    "#Udaje o pouzivateloch + dlzka pripojenia:\n",
    "\n",
    "setwd(\"data/udajeDlzkaPripojenia/\")\n",
    "\n",
    "file_list <- list.files(pattern=\"*.csv\") \n",
    "\n",
    "dataset_udajeDlzkaPripojenia <- data.frame()\n",
    "\n",
    "for (i in 1:length(file_list)){\n",
    "  temp_data <- read.csv(file = file_list[i], sep=\";\", encoding=\"UTF-8\") \n",
    "  dataset_udajeDlzkaPripojenia <- rbind(dataset_udajeDlzkaPripojenia, temp_data) \n",
    "}\n",
    "#Data su od 1.6.2018 do 25.2.2021. Problemy som nezaznamenal ziadne. Toto bude fajn zaklad pre nas dataset.\n",
    "\n",
    "#write.csv2(dataset, \"../../dataset.csv\")\n",
    "\n",
    "setwd(\"../..\")\n",
    "\n",
    "#column names na lowercase\n",
    "names(dataset_udajeDlzkaPripojenia) <- tolower(names(dataset_udajeDlzkaPripojenia))\n",
    "#show(dataset_udajeDlzkaPripojenia)\n",
    "\n"
   ]
  },
  {
   "cell_type": "code",
   "execution_count": 4,
   "metadata": {},
   "outputs": [],
   "source": [
    "#Udaje o zariadeni - Jazyk, OS, Typ zariadenia, Typ prehliadaca:\n",
    "\n",
    "setwd(\"data/osJazykTypPrehliadac/\")\n",
    "\n",
    "file_list <- list.files(pattern=\"*.csv\") \n",
    "\n",
    "dataset_osJazykTypPrehliadac <- data.frame()\n",
    "\n",
    "for (i in 1:length(file_list)){\n",
    "  temp_data <- read.csv(file = file_list[i], sep=\";\", encoding=\"UTF-8\") \n",
    "  dataset_osJazykTypPrehliadac <- rbind(dataset_osJazykTypPrehliadac, temp_data) \n",
    "}\n",
    "\n",
    "#column names na uppercase\n",
    "names(dataset_osJazykTypPrehliadac) <- tolower(names(dataset_osJazykTypPrehliadac))\n",
    "\n",
    "\n",
    "#Data su od 24.5.2018 do 25.2.2021. Velmi pekne data, ktore urcite chceme pouzit. Problem je ich forma.\n",
    "#Je tam variabilny pocet zaznamov pre kazdy den, podla mnozstva identifikovanych jazykov atd v dany den.\n",
    "#Treba to previest na stlpce a tiez asi zvazit ktore hodnoty nam stoji za to pouzit v datasete a ktore nie. \n",
    "\n",
    "#write.csv2(dataset, \"../../dataset.csv\")\n",
    "#show(dataset_osJazykTypPrehliadac)\n",
    "setwd(\"../..\")"
   ]
  },
  {
   "cell_type": "code",
   "execution_count": 5,
   "metadata": {},
   "outputs": [],
   "source": [
    "#Pocty podla oblasti:\n",
    "\n",
    "setwd(\"data/poctyPodlaOblasti/\")\n",
    "\n",
    "file_list <- list.files(pattern=\"*.csv\")\n",
    "\n",
    "dataset_poctyPodlaOblasti <- data.frame()\n",
    "\n",
    "for (i in 1:length(file_list)){\n",
    "  temp_data <- read.csv(file = file_list[i], sep=\";\", encoding=\"UTF-8\", stringsAsFactors=FALSE) \n",
    "  dataset_poctyPodlaOblasti <- rbind(dataset_poctyPodlaOblasti, temp_data) \n",
    "}\n",
    "\n",
    "#Vo vysledom dataframe su najprv udaje po celych mesiacoch a lokality su menej podelene. \n",
    "#Nasledne od 1.10.2019 su data po dnoch a \"ostatne\" je rozdelene na konkretne lokality. Navrhujem teda zatial\n",
    "#napojit len od 1.10.2019 a pred tymto datumom to neskor podelime na dni tak aby bolo rozdelenie priblizne rovnake \n",
    "\n",
    "#column names na uppercase\n",
    "names(dataset_poctyPodlaOblasti) <- tolower(names(dataset_poctyPodlaOblasti))\n",
    "\n",
    "\n",
    "#write.csv2(dataset, \"../../dataset.csv\")\n",
    "#show(dataset_poctyPodlaOblasti)\n",
    "setwd(\"../..\")"
   ]
  },
  {
   "cell_type": "code",
   "execution_count": 6,
   "metadata": {},
   "outputs": [],
   "source": [
    "#spoji stplpce \"type\" a \"name\" => type_name\n",
    "#type: browser, name: Firefox, value: 5 => type_name: browser_Firefox, value:5\n",
    "type_and_name <- unite(dataset_osJazykTypPrehliadac, type_name, c(type, name), remove=TRUE)\n",
    "\n",
    "# prekonvertuje riadok na stlpec, unique ID je date pri dataset_osJazykTypPrehliadac\n",
    "# type_name: browser_Firefox, value:5 => browser_Firefox: 5 pre dany den\n",
    "dataset_type_and_name <- dcast(type_and_name, date ~ type_name, value.var = \"value\")\n",
    "\n",
    "# prekonvertuje riadok na stlpec, unique ID je date pri poctyPodlaOblasti\n",
    "dataset_location <- dcast(dataset_poctyPodlaOblasti, date ~ location, value.var = \"value\")"
   ]
  },
  {
   "cell_type": "code",
   "execution_count": 7,
   "metadata": {},
   "outputs": [],
   "source": [
    "#konvertujeme na Date format aby sme mohli nasledne filtrovat\n",
    "dataset_location$date <- as.Date(dataset_location$date, format=\"%Y-%m-%d %H:%M:%OS\")\n",
    "\n",
    "#chceme data po 2019-10-01 kedze predtym data boli za cely mesiac \n",
    "dataset_filtered_location <- subset(dataset_location, date > \"2019-10-01\")\n"
   ]
  },
  {
   "cell_type": "code",
   "execution_count": 8,
   "metadata": {},
   "outputs": [
    {
     "data": {
      "text/html": [
       "<table>\n",
       "<thead><tr><th scope=col>date</th><th scope=col>CTUR</th><th scope=col>FJNN (oblasť Fajnorovho Nábrežia pred SPŠS)</th><th scope=col>HLVN (oblasť Hlavného Námestia, Františkánskeho Námestia a Starej Radnice)</th><th scope=col>HURN (oblasť Hurbanovho námestia)</th><th scope=col>HVZN (oblasť Hviezdoslavovho Námestia v okolí ambasády USA)</th><th scope=col>KLOB (oblasť Klobučníckej a Námestia SNP pred Starou Tržnicou)</th><th scope=col>KNPM (oblasť Jedlíkovej ulice)</th><th scope=col>KOLN (oblasť spodnej časti Kollárovho námestia)</th><th scope=col>NLST (oblasť Námestia Ľudovíta Štúra)</th><th scope=col>...</th><th scope=col>lang_vi</th><th scope=col>lang_zh</th><th scope=col>os_\\N</th><th scope=col>os_Android</th><th scope=col>os_iOS</th><th scope=col>os_Linux</th><th scope=col>os_Nan</th><th scope=col>os_OS X</th><th scope=col>os_others</th><th scope=col>os_Windows</th></tr></thead>\n",
       "<tbody>\n",
       "\t<tr><td>2018-05-24</td><td>NA        </td><td>NA        </td><td>NA        </td><td>NA        </td><td>NA        </td><td>NA        </td><td>NA        </td><td>NA        </td><td>NA        </td><td>...       </td><td>NA        </td><td> 2        </td><td>NA        </td><td>246       </td><td>193       </td><td>NA        </td><td> 1        </td><td> 1        </td><td> 3        </td><td> 6        </td></tr>\n",
       "\t<tr><td>2018-05-25</td><td>NA        </td><td>NA        </td><td>NA        </td><td>NA        </td><td>NA        </td><td>NA        </td><td>NA        </td><td>NA        </td><td>NA        </td><td>...       </td><td>NA        </td><td>NA        </td><td>NA        </td><td>777       </td><td>479       </td><td>NA        </td><td>NA        </td><td>NA        </td><td>NA        </td><td> 5        </td></tr>\n",
       "\t<tr><td>2018-05-26</td><td>NA        </td><td>NA        </td><td>NA        </td><td>NA        </td><td>NA        </td><td>NA        </td><td>NA        </td><td>NA        </td><td>NA        </td><td>...       </td><td>NA        </td><td>NA        </td><td>NA        </td><td>706       </td><td>804       </td><td>NA        </td><td>NA        </td><td> 2        </td><td>NA        </td><td>NA        </td></tr>\n",
       "\t<tr><td>2018-05-27</td><td>NA        </td><td>NA        </td><td>NA        </td><td>NA        </td><td>NA        </td><td>NA        </td><td>NA        </td><td>NA        </td><td>NA        </td><td>...       </td><td> 2        </td><td>NA        </td><td>NA        </td><td>828       </td><td>845       </td><td>NA        </td><td>NA        </td><td>NA        </td><td>NA        </td><td> 6        </td></tr>\n",
       "\t<tr><td>2018-05-28</td><td>NA        </td><td>NA        </td><td>NA        </td><td>NA        </td><td>NA        </td><td>NA        </td><td>NA        </td><td>NA        </td><td>NA        </td><td>...       </td><td>NA        </td><td> 2        </td><td>NA        </td><td>490       </td><td>490       </td><td>NA        </td><td>NA        </td><td> 2        </td><td>NA        </td><td>NA        </td></tr>\n",
       "\t<tr><td>2018-05-29</td><td>NA        </td><td>NA        </td><td>NA        </td><td>NA        </td><td>NA        </td><td>NA        </td><td>NA        </td><td>NA        </td><td>NA        </td><td>...       </td><td>NA        </td><td>NA        </td><td>NA        </td><td>910       </td><td>385       </td><td>NA        </td><td>NA        </td><td>NA        </td><td>NA        </td><td>NA        </td></tr>\n",
       "</tbody>\n",
       "</table>\n"
      ],
      "text/latex": [
       "\\begin{tabular}{r|llllllllllllllllllllllllllllllllllllllllllllllllllllllllllllllllllllllllllllllllllllllllllllllllllllllllllllllllllllllllllllllll}\n",
       " date & CTUR & FJNN (oblasť Fajnorovho Nábrežia pred SPŠS) & HLVN (oblasť Hlavného Námestia, Františkánskeho Námestia a Starej Radnice) & HURN (oblasť Hurbanovho námestia) & HVZN (oblasť Hviezdoslavovho Námestia v okolí ambasády USA) & KLOB (oblasť Klobučníckej a Námestia SNP pred Starou Tržnicou) & KNPM (oblasť Jedlíkovej ulice) & KOLN (oblasť spodnej časti Kollárovho námestia) & NLST (oblasť Námestia Ľudovíta Štúra) & ... & lang\\_vi & lang\\_zh & os\\_\\textbackslash{}N & os\\_Android & os\\_iOS & os\\_Linux & os\\_Nan & os\\_OS X & os\\_others & os\\_Windows\\\\\n",
       "\\hline\n",
       "\t 2018-05-24 & NA         & NA         & NA         & NA         & NA         & NA         & NA         & NA         & NA         & ...        & NA         &  2         & NA         & 246        & 193        & NA         &  1         &  1         &  3         &  6        \\\\\n",
       "\t 2018-05-25 & NA         & NA         & NA         & NA         & NA         & NA         & NA         & NA         & NA         & ...        & NA         & NA         & NA         & 777        & 479        & NA         & NA         & NA         & NA         &  5        \\\\\n",
       "\t 2018-05-26 & NA         & NA         & NA         & NA         & NA         & NA         & NA         & NA         & NA         & ...        & NA         & NA         & NA         & 706        & 804        & NA         & NA         &  2         & NA         & NA        \\\\\n",
       "\t 2018-05-27 & NA         & NA         & NA         & NA         & NA         & NA         & NA         & NA         & NA         & ...        &  2         & NA         & NA         & 828        & 845        & NA         & NA         & NA         & NA         &  6        \\\\\n",
       "\t 2018-05-28 & NA         & NA         & NA         & NA         & NA         & NA         & NA         & NA         & NA         & ...        & NA         &  2         & NA         & 490        & 490        & NA         & NA         &  2         & NA         & NA        \\\\\n",
       "\t 2018-05-29 & NA         & NA         & NA         & NA         & NA         & NA         & NA         & NA         & NA         & ...        & NA         & NA         & NA         & 910        & 385        & NA         & NA         & NA         & NA         & NA        \\\\\n",
       "\\end{tabular}\n"
      ],
      "text/markdown": [
       "\n",
       "| date | CTUR | FJNN (oblasť Fajnorovho Nábrežia pred SPŠS) | HLVN (oblasť Hlavného Námestia, Františkánskeho Námestia a Starej Radnice) | HURN (oblasť Hurbanovho námestia) | HVZN (oblasť Hviezdoslavovho Námestia v okolí ambasády USA) | KLOB (oblasť Klobučníckej a Námestia SNP pred Starou Tržnicou) | KNPM (oblasť Jedlíkovej ulice) | KOLN (oblasť spodnej časti Kollárovho námestia) | NLST (oblasť Námestia Ľudovíta Štúra) | ... | lang_vi | lang_zh | os_\\N | os_Android | os_iOS | os_Linux | os_Nan | os_OS X | os_others | os_Windows |\n",
       "|---|---|---|---|---|---|---|---|---|---|---|---|---|---|---|---|---|---|---|---|---|\n",
       "| 2018-05-24 | NA         | NA         | NA         | NA         | NA         | NA         | NA         | NA         | NA         | ...        | NA         |  2         | NA         | 246        | 193        | NA         |  1         |  1         |  3         |  6         |\n",
       "| 2018-05-25 | NA         | NA         | NA         | NA         | NA         | NA         | NA         | NA         | NA         | ...        | NA         | NA         | NA         | 777        | 479        | NA         | NA         | NA         | NA         |  5         |\n",
       "| 2018-05-26 | NA         | NA         | NA         | NA         | NA         | NA         | NA         | NA         | NA         | ...        | NA         | NA         | NA         | 706        | 804        | NA         | NA         |  2         | NA         | NA         |\n",
       "| 2018-05-27 | NA         | NA         | NA         | NA         | NA         | NA         | NA         | NA         | NA         | ...        |  2         | NA         | NA         | 828        | 845        | NA         | NA         | NA         | NA         |  6         |\n",
       "| 2018-05-28 | NA         | NA         | NA         | NA         | NA         | NA         | NA         | NA         | NA         | ...        | NA         |  2         | NA         | 490        | 490        | NA         | NA         |  2         | NA         | NA         |\n",
       "| 2018-05-29 | NA         | NA         | NA         | NA         | NA         | NA         | NA         | NA         | NA         | ...        | NA         | NA         | NA         | 910        | 385        | NA         | NA         | NA         | NA         | NA         |\n",
       "\n"
      ],
      "text/plain": [
       "  date       CTUR FJNN (oblast Fajnorovho Nábrežia pred SPŠS)\n",
       "1 2018-05-24 NA   NA                                         \n",
       "2 2018-05-25 NA   NA                                         \n",
       "3 2018-05-26 NA   NA                                         \n",
       "4 2018-05-27 NA   NA                                         \n",
       "5 2018-05-28 NA   NA                                         \n",
       "6 2018-05-29 NA   NA                                         \n",
       "  HLVN (oblast Hlavného Námestia, Františkánskeho Námestia a Starej Radnice)\n",
       "1 NA                                                                        \n",
       "2 NA                                                                        \n",
       "3 NA                                                                        \n",
       "4 NA                                                                        \n",
       "5 NA                                                                        \n",
       "6 NA                                                                        \n",
       "  HURN (oblast Hurbanovho námestia)\n",
       "1 NA                               \n",
       "2 NA                               \n",
       "3 NA                               \n",
       "4 NA                               \n",
       "5 NA                               \n",
       "6 NA                               \n",
       "  HVZN (oblast Hviezdoslavovho Námestia v okolí ambasády USA)\n",
       "1 NA                                                         \n",
       "2 NA                                                         \n",
       "3 NA                                                         \n",
       "4 NA                                                         \n",
       "5 NA                                                         \n",
       "6 NA                                                         \n",
       "  KLOB (oblast Klobucníckej a Námestia SNP pred Starou Tržnicou)\n",
       "1 NA                                                            \n",
       "2 NA                                                            \n",
       "3 NA                                                            \n",
       "4 NA                                                            \n",
       "5 NA                                                            \n",
       "6 NA                                                            \n",
       "  KNPM (oblast Jedlíkovej ulice)\n",
       "1 NA                            \n",
       "2 NA                            \n",
       "3 NA                            \n",
       "4 NA                            \n",
       "5 NA                            \n",
       "6 NA                            \n",
       "  KOLN (oblast spodnej casti Kollárovho námestia)\n",
       "1 NA                                             \n",
       "2 NA                                             \n",
       "3 NA                                             \n",
       "4 NA                                             \n",
       "5 NA                                             \n",
       "6 NA                                             \n",
       "  NLST (oblast Námestia Ludovíta Štúra) ... lang_vi lang_zh os_\\\\N os_Android\n",
       "1 NA                                    ... NA       2      NA     246       \n",
       "2 NA                                    ... NA      NA      NA     777       \n",
       "3 NA                                    ... NA      NA      NA     706       \n",
       "4 NA                                    ...  2      NA      NA     828       \n",
       "5 NA                                    ... NA       2      NA     490       \n",
       "6 NA                                    ... NA      NA      NA     910       \n",
       "  os_iOS os_Linux os_Nan os_OS X os_others os_Windows\n",
       "1 193    NA        1      1       3         6        \n",
       "2 479    NA       NA     NA      NA         5        \n",
       "3 804    NA       NA      2      NA        NA        \n",
       "4 845    NA       NA     NA      NA         6        \n",
       "5 490    NA       NA      2      NA        NA        \n",
       "6 385    NA       NA     NA      NA        NA        "
      ]
     },
     "metadata": {},
     "output_type": "display_data"
    }
   ],
   "source": [
    "#merge datasets na zaklade date (poctyPrenesenychDat + udajeDlzkaPripojenia)\n",
    "merged_dataset_1 <- merge(dataset_poctyPrenesenychDat, dataset_udajeDlzkaPripojenia, by=\"date\", all=TRUE)\n",
    "\n",
    "#merge datasets na zaklade date (poctyPrenesenychDat + udajeDlzkaPripojenia + osJazykTypPrehliadac)\n",
    "merged_dataset_2 <- merge(merged_dataset_1, dataset_type_and_name, by=\"date\", all=TRUE)\n",
    "\n",
    "#merge datasets na zaklade date (poctyPrenesenychDat + udajeDlzkaPripojenia + osJazykTypPrehliadac + poctyPodlaOblasti)\n",
    "final_merged_dataset <- merge(dataset_filtered_location, merged_dataset_2, by=\"date\", all=TRUE)\n",
    "\n",
    "#write.csv2(final_merged_dataset, \"../../dataset_final.csv\")\n",
    "head(final_merged_dataset)\n",
    "\n"
   ]
  },
  {
   "cell_type": "code",
   "execution_count": 9,
   "metadata": {},
   "outputs": [],
   "source": [
    "#remove repeating dates\n",
    "\n",
    "unique_dates_dataset = data.frame()\n",
    "\n",
    "prev_row = final_merged_dataset[1,]\n",
    "\n",
    "for(i in 2:nrow(final_merged_dataset)) \n",
    "{\n",
    "    row <- final_merged_dataset[i,]\n",
    "    if(row['date'] == prev_row['date'])\n",
    "    {\n",
    "        prev_row['data_in'] = prev_row['data_in'] + row['data_in']\n",
    "        prev_row['data_out'] = prev_row['data_out'] + row['data_out']\n",
    "        prev_row['unique_conn'] = prev_row['unique_conn'] + row['unique_conn']\n",
    "    }\n",
    "    else    \n",
    "    {            \n",
    "        unique_dates_dataset = rbind(unique_dates_dataset, prev_row)\n",
    "            \n",
    "        prev_row = row\n",
    "        if(is.na(prev_row['data_in']))\n",
    "            prev_row['data_in'] = 0\n",
    "        if(is.na(prev_row['data_out']))\n",
    "            prev_row['data_out'] = 0\n",
    "        if(is.na(prev_row['unique_conn']))\n",
    "            prev_row['unique_conn'] = 0        \n",
    "    }\n",
    "}\n",
    "\n",
    "unique_dates_dataset = rbind(unique_dates_dataset, prev_row)"
   ]
  },
  {
   "cell_type": "code",
   "execution_count": 10,
   "metadata": {},
   "outputs": [],
   "source": [
    "#drop columns containing NAs only\n",
    "unique_dates_dataset['Ostatné'] <- list(NULL)\n",
    "unique_dates_dataset['device_type_\\\\N'] <- list(NULL)\n",
    "unique_dates_dataset['device_type_'] <- list(NULL)\n",
    "unique_dates_dataset['lang_\\\\N'] <- list(NULL)\n",
    "unique_dates_dataset['os_\\\\N'] <- list(NULL)\n",
    "unique_dates_dataset['browser_\\\\N'] <- list(NULL)\n",
    "unique_dates_dataset['Test'] <- list(NULL)"
   ]
  },
  {
   "cell_type": "code",
   "execution_count": 11,
   "metadata": {},
   "outputs": [],
   "source": [
    "#replace NA with 0 where relevant\n",
    "\n",
    "naToZeroC <- function(x) \n",
    "{   \n",
    "    sapply(x, naToZeroR)\n",
    "}\n",
    "\n",
    "naToZeroR <- function(x) \n",
    "{\n",
    "    if(is.na(x))\n",
    "       x = 0\n",
    "    x\n",
    "}\n",
    "\n",
    "df = cbind(unique_dates_dataset[1:35], lapply(unique_dates_dataset[36:ncol(unique_dates_dataset)], naToZeroC))                                                                 "
   ]
  },
  {
   "cell_type": "code",
   "execution_count": 12,
   "metadata": {},
   "outputs": [],
   "source": [
    "#zlucenie jazykov\n",
    "\n",
    "#vyber jazyky\n",
    "dfa = df[58 :ncol(df)-7]\n",
    "\n",
    "#odloz mimo jazyky ktore chceme zvlast\n",
    "dfen = dfa['lang_en']\n",
    "dfa['lang_en'] <- list(NULL)\n",
    "dfhu = dfa['lang_hu']\n",
    "dfa['lang_hu'] <- list(NULL)\n",
    "dfru = dfa['lang_ru']\n",
    "dfa['lang_ru'] <- list(NULL)\n",
    "dfpl = dfa['lang_pl']\n",
    "dfa['lang_pl'] <- list(NULL)\n",
    "dfde = dfa['lang_de']\n",
    "dfa['lang_de'] <- list(NULL)\n",
    "dfuk = dfa['lang_fr']\n",
    "dfa['lang_fr'] <- list(NULL)\n",
    "dfes = dfa['lang_es']\n",
    "dfa['lang_es'] <- list(NULL)\n",
    "dfit = dfa['lang_it']\n",
    "dfa['lang_it'] <- list(NULL)\n",
    "dfsk = dfa['lang_sk']\n",
    "dfa['lang_sk'] <- list(NULL)\n",
    "\n",
    "#urob sucty ostatnych jazykov do jedneho stlpca a pripoj k stlpcom co boli pred jazykmi\n",
    "dfb = cbind(df[1:57], lang_other = apply(dfa, 1, sum))\n",
    "\n",
    "#pripoj jazyky co chceme zvlast\n",
    "dfb = cbind(dfb, dfen)\n",
    "dfb = cbind(dfb, dfhu)\n",
    "dfb = cbind(dfb, dfru)\n",
    "dfb = cbind(dfb, dfpl)\n",
    "dfb = cbind(dfb, dfde)\n",
    "dfb = cbind(dfb, dfuk)\n",
    "dfb = cbind(dfb, dfes)\n",
    "dfb = cbind(dfb, dfit)\n",
    "dfb = cbind(dfb, dfsk)\n",
    "\n",
    "#pripoj stlpce co boli za jazykmi\n",
    "dfb = cbind(dfb, df[(ncol(df)-6):(ncol(df))])\n"
   ]
  },
  {
   "cell_type": "code",
   "execution_count": 13,
   "metadata": {},
   "outputs": [],
   "source": [
    "write.csv2(dfb, \"../../dfb.csv\")"
   ]
  },
  {
   "cell_type": "code",
   "execution_count": 14,
   "metadata": {},
   "outputs": [],
   "source": [
    "#reset index\n",
    "row.names(dfb) <- NULL"
   ]
  },
  {
   "cell_type": "code",
   "execution_count": 15,
   "metadata": {
    "scrolled": true
   },
   "outputs": [],
   "source": [
    "#convert Bytes to GB\n",
    "dfb$data_in_GB <- with(dfb, dfb$data_in / 1073741824)\n",
    "dfb$data_out_GB <- with(dfb, dfb$data_out / 1073741824)\n"
   ]
  },
  {
   "cell_type": "markdown",
   "metadata": {},
   "source": [
    "# Prieskumna analyza"
   ]
  },
  {
   "cell_type": "code",
   "execution_count": 16,
   "metadata": {},
   "outputs": [
    {
     "data": {
      "text/html": [
       "<table>\n",
       "<thead><tr><th scope=col>date</th><th scope=col>CTUR</th><th scope=col>FJNN (oblasť Fajnorovho Nábrežia pred SPŠS)</th><th scope=col>HLVN (oblasť Hlavného Námestia, Františkánskeho Námestia a Starej Radnice)</th><th scope=col>HURN (oblasť Hurbanovho námestia)</th><th scope=col>HVZN (oblasť Hviezdoslavovho Námestia v okolí ambasády USA)</th><th scope=col>KLOB (oblasť Klobučníckej a Námestia SNP pred Starou Tržnicou)</th><th scope=col>KNPM (oblasť Jedlíkovej ulice)</th><th scope=col>KOLN (oblasť spodnej časti Kollárovho námestia)</th><th scope=col>NLST (oblasť Námestia Ľudovíta Štúra)</th><th scope=col>NSLO (oblasť parku Námestia Slobody)</th><th scope=col>NSNP (oblasť Námestia SNP)</th><th scope=col>OBCH ( oblasť Obchodná ulica stred)</th><th scope=col>OSPR (oblasť  Osobného prístavu a pred SNM)</th><th scope=col>PAMV (oblasť Pamätníka Víťazstva a pred SND)</th><th scope=col>POST (oblasť križovania ulíc Poštová - Obchodná)</th><th scope=col>RBNN (oblasť Rybného Námestia)</th><th scope=col>RIGL (oblasť Rigeleho a Rázusovho Nábrežia)</th><th scope=col>SAFK (oblasť Šafárikovho Námestia pri UK)</th><th scope=col>Tyršák</th><th scope=col>VNTU (oblasť križovania ulíc Ventúrska-Michalská-Sedlárska)</th><th scope=col>ZIDO (oblasť Židovskej ulice pri dobrom pastierovi)</th><th scope=col>ZMCK (oblasť rohu Židovskej a Kapucínskej ulice)</th><th scope=col>data_in</th><th scope=col>data_out</th><th scope=col>unique_conn</th><th scope=col>new_users</th><th scope=col>returning_users</th><th scope=col>average_online</th><th scope=col>max_online</th><th scope=col>dwell_5m</th><th scope=col>dwell_10m</th><th scope=col>dwell_30m</th><th scope=col>dwell_60m</th><th scope=col>dwell_long</th><th scope=col>browser_Android</th><th scope=col>browser_Chrome</th><th scope=col>browser_Firefox</th><th scope=col>browser_IE</th><th scope=col>browser_Nan</th><th scope=col>browser_Opera</th><th scope=col>browser_others</th><th scope=col>browser_Safari</th><th scope=col>device_type_desktop</th><th scope=col>device_type_ereader</th><th scope=col>device_type_gaming</th><th scope=col>device_type_media</th><th scope=col>device_type_mobile</th><th scope=col>device_type_Nan</th><th scope=col>device_type_tablet</th><th scope=col>lang_af</th><th scope=col>lang_ag</th><th scope=col>lang_ar</th><th scope=col>lang_az</th><th scope=col>lang_ba</th><th scope=col>lang_be</th><th scope=col>lang_bg</th><th scope=col>lang_other</th><th scope=col>lang_en</th><th scope=col>lang_hu</th><th scope=col>lang_ru</th><th scope=col>lang_pl</th><th scope=col>lang_de</th><th scope=col>lang_fr</th><th scope=col>lang_es</th><th scope=col>lang_it</th><th scope=col>lang_sk</th><th scope=col>os_Android</th><th scope=col>os_iOS</th><th scope=col>os_Linux</th><th scope=col>os_Nan</th><th scope=col>os_OS X</th><th scope=col>os_others</th><th scope=col>os_Windows</th><th scope=col>data_in_GB</th><th scope=col>data_out_GB</th></tr></thead>\n",
       "<tbody>\n",
       "\t<tr><td>2018-05-24  </td><td>NA          </td><td>NA          </td><td>NA          </td><td>NA          </td><td>NA          </td><td>NA          </td><td>NA          </td><td>NA          </td><td>NA          </td><td>NA          </td><td>NA          </td><td>NA          </td><td>NA          </td><td>NA          </td><td>NA          </td><td>NA          </td><td>NA          </td><td>NA          </td><td>NA          </td><td>NA          </td><td>NA          </td><td>NA          </td><td> 2482909612 </td><td> 16402839461</td><td> 616        </td><td>NA          </td><td>NA          </td><td>NA          </td><td>NA          </td><td>NA          </td><td>NA          </td><td>NA          </td><td>NA          </td><td>NA          </td><td>7           </td><td>244         </td><td>2           </td><td>0           </td><td>1           </td><td>4           </td><td>1           </td><td>193         </td><td>4           </td><td>0           </td><td>0           </td><td>0           </td><td> 397        </td><td>61          </td><td>5           </td><td>0           </td><td>0           </td><td>2           </td><td>0           </td><td>0           </td><td>0           </td><td>0           </td><td>55          </td><td>114         </td><td>1           </td><td>27          </td><td>3           </td><td>12          </td><td>0           </td><td> 7          </td><td>5           </td><td>227         </td><td>246         </td><td>193         </td><td>0           </td><td>1           </td><td>1           </td><td>3           </td><td>6           </td><td> 2.31239    </td><td> 15.27633   </td></tr>\n",
       "\t<tr><td>2018-05-25  </td><td>NA          </td><td>NA          </td><td>NA          </td><td>NA          </td><td>NA          </td><td>NA          </td><td>NA          </td><td>NA          </td><td>NA          </td><td>NA          </td><td>NA          </td><td>NA          </td><td>NA          </td><td>NA          </td><td>NA          </td><td>NA          </td><td>NA          </td><td>NA          </td><td>NA          </td><td>NA          </td><td>NA          </td><td>NA          </td><td>38940049189 </td><td>117855350107</td><td>3563        </td><td>NA          </td><td>NA          </td><td>NA          </td><td>NA          </td><td>NA          </td><td>NA          </td><td>NA          </td><td>NA          </td><td>NA          </td><td>0           </td><td>908         </td><td>0           </td><td>0           </td><td>0           </td><td>0           </td><td>0           </td><td>480         </td><td>0           </td><td>0           </td><td>0           </td><td>0           </td><td>1071        </td><td>54          </td><td>0           </td><td>0           </td><td>0           </td><td>0           </td><td>0           </td><td>0           </td><td>0           </td><td>0           </td><td> 1          </td><td>193         </td><td>0           </td><td>14          </td><td>0           </td><td> 0          </td><td>0           </td><td> 3          </td><td>0           </td><td>666         </td><td>777         </td><td>479         </td><td>0           </td><td>0           </td><td>0           </td><td>0           </td><td>5           </td><td>36.26575    </td><td>109.76135   </td></tr>\n",
       "\t<tr><td>2018-05-26  </td><td>NA          </td><td>NA          </td><td>NA          </td><td>NA          </td><td>NA          </td><td>NA          </td><td>NA          </td><td>NA          </td><td>NA          </td><td>NA          </td><td>NA          </td><td>NA          </td><td>NA          </td><td>NA          </td><td>NA          </td><td>NA          </td><td>NA          </td><td>NA          </td><td>NA          </td><td>NA          </td><td>NA          </td><td>NA          </td><td>49881955108 </td><td>166732613033</td><td>4818        </td><td>NA          </td><td>NA          </td><td>NA          </td><td>NA          </td><td>NA          </td><td>NA          </td><td>NA          </td><td>NA          </td><td>NA          </td><td>0           </td><td>851         </td><td>3           </td><td>0           </td><td>0           </td><td>0           </td><td>0           </td><td>805         </td><td>3           </td><td>0           </td><td>0           </td><td>0           </td><td>1952        </td><td>76          </td><td>0           </td><td>0           </td><td>0           </td><td>0           </td><td>0           </td><td>0           </td><td>0           </td><td>0           </td><td> 0          </td><td>501         </td><td>0           </td><td> 6          </td><td>0           </td><td>15          </td><td>0           </td><td> 0          </td><td>0           </td><td>556         </td><td>706         </td><td>804         </td><td>0           </td><td>0           </td><td>2           </td><td>0           </td><td>0           </td><td>46.45619    </td><td>155.28185   </td></tr>\n",
       "\t<tr><td>2018-05-27  </td><td>NA          </td><td>NA          </td><td>NA          </td><td>NA          </td><td>NA          </td><td>NA          </td><td>NA          </td><td>NA          </td><td>NA          </td><td>NA          </td><td>NA          </td><td>NA          </td><td>NA          </td><td>NA          </td><td>NA          </td><td>NA          </td><td>NA          </td><td>NA          </td><td>NA          </td><td>NA          </td><td>NA          </td><td>NA          </td><td>38747672250 </td><td>124623629172</td><td>4077        </td><td>NA          </td><td>NA          </td><td>NA          </td><td>NA          </td><td>NA          </td><td>NA          </td><td>NA          </td><td>NA          </td><td>NA          </td><td>5           </td><td>807         </td><td>0           </td><td>1           </td><td>0           </td><td>0           </td><td>0           </td><td>845         </td><td>0           </td><td>0           </td><td>0           </td><td>0           </td><td>2040        </td><td>56          </td><td>0           </td><td>0           </td><td>0           </td><td>0           </td><td>0           </td><td>0           </td><td>0           </td><td>0           </td><td> 8          </td><td>371         </td><td>7           </td><td> 0          </td><td>0           </td><td>15          </td><td>0           </td><td>12          </td><td>0           </td><td>522         </td><td>828         </td><td>845         </td><td>0           </td><td>0           </td><td>0           </td><td>0           </td><td>6           </td><td>36.08658    </td><td>116.06480   </td></tr>\n",
       "\t<tr><td>2018-05-28  </td><td>NA          </td><td>NA          </td><td>NA          </td><td>NA          </td><td>NA          </td><td>NA          </td><td>NA          </td><td>NA          </td><td>NA          </td><td>NA          </td><td>NA          </td><td>NA          </td><td>NA          </td><td>NA          </td><td>NA          </td><td>NA          </td><td>NA          </td><td>NA          </td><td>NA          </td><td>NA          </td><td>NA          </td><td>NA          </td><td>37839584968 </td><td>149291182187</td><td>4120        </td><td>NA          </td><td>NA          </td><td>NA          </td><td>NA          </td><td>NA          </td><td>NA          </td><td>NA          </td><td>NA          </td><td>NA          </td><td>0           </td><td>485         </td><td>3           </td><td>0           </td><td>0           </td><td>0           </td><td>0           </td><td>490         </td><td>4           </td><td>0           </td><td>0           </td><td>0           </td><td>1233        </td><td> 0          </td><td>7           </td><td>0           </td><td>0           </td><td>0           </td><td>0           </td><td>0           </td><td>0           </td><td>0           </td><td> 2          </td><td>211         </td><td>0           </td><td> 0          </td><td>0           </td><td>16          </td><td>0           </td><td> 0          </td><td>0           </td><td>388         </td><td>490         </td><td>490         </td><td>0           </td><td>0           </td><td>2           </td><td>0           </td><td>0           </td><td>35.24086    </td><td>139.03825   </td></tr>\n",
       "\t<tr><td>...</td><td>...</td><td>...</td><td>...</td><td>...</td><td>...</td><td>...</td><td>...</td><td>...</td><td>...</td><td>...</td><td>...</td><td>...</td><td>...</td><td>...</td><td>...</td><td>...</td><td>...</td><td>...</td><td>...</td><td>...</td><td>...</td><td>...</td><td>...</td><td>...</td><td>...</td><td>...</td><td>...</td><td>...</td><td>...</td><td>...</td><td>...</td><td>...</td><td>...</td><td>...</td><td>...</td><td>...</td><td>...</td><td>...</td><td>...</td><td>...</td><td>...</td><td>...</td><td>...</td><td>...</td><td>...</td><td>...</td><td>...</td><td>...</td><td>...</td><td>...</td><td>...</td><td>...</td><td>...</td><td>...</td><td>...</td><td>...</td><td>...</td><td>...</td><td>...</td><td>...</td><td>...</td><td>...</td><td>...</td><td>...</td><td>...</td><td>...</td><td>...</td><td>...</td><td>...</td><td>...</td><td>...</td><td>...</td><td>...</td><td>...</td><td>...</td></tr>\n",
       "\t<tr><td>2021-02-21</td><td> 0        </td><td> 0        </td><td> 1        </td><td> 4        </td><td> 1        </td><td> 2        </td><td> 0        </td><td> 0        </td><td> 0        </td><td> 1        </td><td> 0        </td><td> 1        </td><td> 0        </td><td> 3        </td><td> 2        </td><td> 2        </td><td> 1        </td><td> 0        </td><td>NA        </td><td> 0        </td><td> 0        </td><td> 3        </td><td>NA        </td><td>NA        </td><td>NA        </td><td>NA        </td><td> NA       </td><td> NA       </td><td> NA       </td><td>  NA      </td><td> NA       </td><td> NA       </td><td>NA        </td><td>NA        </td><td>0         </td><td> 0        </td><td>0         </td><td>0         </td><td>0         </td><td>0         </td><td>0         </td><td> 0        </td><td>0         </td><td>0         </td><td>0         </td><td>0         </td><td> 0        </td><td>0         </td><td>0         </td><td>0         </td><td>0         </td><td>0         </td><td>0         </td><td>0         </td><td>0         </td><td>0         </td><td>0         </td><td> 0        </td><td>0         </td><td>0         </td><td>0         </td><td>0         </td><td>0         </td><td>0         </td><td>0         </td><td> 0        </td><td> 0        </td><td> 0        </td><td>0         </td><td>0         </td><td>0         </td><td>0         </td><td>0         </td><td>NA        </td><td>NA        </td></tr>\n",
       "\t<tr><td>2021-02-22</td><td> 0        </td><td> 1        </td><td> 3        </td><td> 4        </td><td> 1        </td><td> 6        </td><td> 0        </td><td> 4        </td><td> 3        </td><td> 2        </td><td> 1        </td><td> 4        </td><td> 1        </td><td> 2        </td><td> 1        </td><td> 3        </td><td> 1        </td><td> 0        </td><td>NA        </td><td> 0        </td><td> 1        </td><td> 6        </td><td>NA        </td><td>NA        </td><td>NA        </td><td>NA        </td><td> NA       </td><td> NA       </td><td> NA       </td><td>  NA      </td><td> NA       </td><td> NA       </td><td>NA        </td><td>NA        </td><td>0         </td><td> 0        </td><td>0         </td><td>0         </td><td>0         </td><td>0         </td><td>0         </td><td> 0        </td><td>0         </td><td>0         </td><td>0         </td><td>0         </td><td> 0        </td><td>0         </td><td>0         </td><td>0         </td><td>0         </td><td>0         </td><td>0         </td><td>0         </td><td>0         </td><td>0         </td><td>0         </td><td> 0        </td><td>0         </td><td>0         </td><td>0         </td><td>0         </td><td>0         </td><td>0         </td><td>0         </td><td> 0        </td><td> 0        </td><td> 0        </td><td>0         </td><td>0         </td><td>0         </td><td>0         </td><td>0         </td><td>NA        </td><td>NA        </td></tr>\n",
       "\t<tr><td>2021-02-23</td><td> 0        </td><td> 1        </td><td> 4        </td><td> 1        </td><td> 1        </td><td>11        </td><td> 0        </td><td> 4        </td><td> 4        </td><td> 1        </td><td> 2        </td><td> 0        </td><td> 0        </td><td> 3        </td><td> 1        </td><td> 2        </td><td> 1        </td><td> 4        </td><td>NA        </td><td> 0        </td><td> 0        </td><td> 2        </td><td>NA        </td><td>NA        </td><td>NA        </td><td>NA        </td><td> NA       </td><td> NA       </td><td> NA       </td><td>  NA      </td><td> NA       </td><td> NA       </td><td>NA        </td><td>NA        </td><td>0         </td><td> 0        </td><td>0         </td><td>0         </td><td>0         </td><td>0         </td><td>0         </td><td> 0        </td><td>0         </td><td>0         </td><td>0         </td><td>0         </td><td> 0        </td><td>0         </td><td>0         </td><td>0         </td><td>0         </td><td>0         </td><td>0         </td><td>0         </td><td>0         </td><td>0         </td><td>0         </td><td> 0        </td><td>0         </td><td>0         </td><td>0         </td><td>0         </td><td>0         </td><td>0         </td><td>0         </td><td> 0        </td><td> 0        </td><td> 0        </td><td>0         </td><td>0         </td><td>0         </td><td>0         </td><td>0         </td><td>NA        </td><td>NA        </td></tr>\n",
       "\t<tr><td>2021-02-24</td><td>NA        </td><td>NA        </td><td>NA        </td><td>NA        </td><td>NA        </td><td>NA        </td><td>NA        </td><td>NA        </td><td>NA        </td><td>NA        </td><td>NA        </td><td>NA        </td><td>NA        </td><td>NA        </td><td>NA        </td><td>NA        </td><td>NA        </td><td>NA        </td><td>NA        </td><td>NA        </td><td>NA        </td><td>NA        </td><td> 0        </td><td> 0        </td><td> 0        </td><td>60        </td><td>482       </td><td>128       </td><td>198       </td><td>2111      </td><td>442       </td><td>332       </td><td>72        </td><td>40        </td><td>2         </td><td>17        </td><td>2         </td><td>0         </td><td>0         </td><td>0         </td><td>1         </td><td>24        </td><td>2         </td><td>0         </td><td>0         </td><td>0         </td><td>41        </td><td>3         </td><td>0         </td><td>0         </td><td>0         </td><td>0         </td><td>0         </td><td>0         </td><td>0         </td><td>0         </td><td>4         </td><td> 8        </td><td>2         </td><td>4         </td><td>0         </td><td>0         </td><td>1         </td><td>2         </td><td>0         </td><td>25        </td><td>19        </td><td>24        </td><td>0         </td><td>0         </td><td>2         </td><td>0         </td><td>1         </td><td> 0        </td><td> 0        </td></tr>\n",
       "\t<tr><td>2021-02-25</td><td>NA        </td><td>NA        </td><td>NA        </td><td>NA        </td><td>NA        </td><td>NA        </td><td>NA        </td><td>NA        </td><td>NA        </td><td>NA        </td><td>NA        </td><td>NA        </td><td>NA        </td><td>NA        </td><td>NA        </td><td>NA        </td><td>NA        </td><td>NA        </td><td>NA        </td><td>NA        </td><td>NA        </td><td>NA        </td><td> 0        </td><td> 0        </td><td> 0        </td><td>57        </td><td>537       </td><td>114       </td><td>187       </td><td>2389      </td><td>488       </td><td>321       </td><td>63        </td><td>33        </td><td>0         </td><td>19        </td><td>0         </td><td>0         </td><td>0         </td><td>0         </td><td>3         </td><td>23        </td><td>1         </td><td>0         </td><td>0         </td><td>0         </td><td>41        </td><td>3         </td><td>0         </td><td>0         </td><td>0         </td><td>0         </td><td>0         </td><td>0         </td><td>0         </td><td>0         </td><td>4         </td><td>11        </td><td>0         </td><td>1         </td><td>0         </td><td>0         </td><td>0         </td><td>0         </td><td>0         </td><td>29        </td><td>18        </td><td>23        </td><td>0         </td><td>0         </td><td>0         </td><td>0         </td><td>4         </td><td> 0        </td><td> 0        </td></tr>\n",
       "</tbody>\n",
       "</table>\n"
      ],
      "text/latex": [
       "\\begin{tabular}{r|llllllllllllllllllllllllllllllllllllllllllllllllllllllllllllllllllllllllllll}\n",
       " date & CTUR & FJNN (oblasť Fajnorovho Nábrežia pred SPŠS) & HLVN (oblasť Hlavného Námestia, Františkánskeho Námestia a Starej Radnice) & HURN (oblasť Hurbanovho námestia) & HVZN (oblasť Hviezdoslavovho Námestia v okolí ambasády USA) & KLOB (oblasť Klobučníckej a Námestia SNP pred Starou Tržnicou) & KNPM (oblasť Jedlíkovej ulice) & KOLN (oblasť spodnej časti Kollárovho námestia) & NLST (oblasť Námestia Ľudovíta Štúra) & NSLO (oblasť parku Námestia Slobody) & NSNP (oblasť Námestia SNP) & OBCH ( oblasť Obchodná ulica stred) & OSPR (oblasť  Osobného prístavu a pred SNM) & PAMV (oblasť Pamätníka Víťazstva a pred SND) & POST (oblasť križovania ulíc Poštová - Obchodná) & RBNN (oblasť Rybného Námestia) & RIGL (oblasť Rigeleho a Rázusovho Nábrežia) & SAFK (oblasť Šafárikovho Námestia pri UK) & Tyršák & VNTU (oblasť križovania ulíc Ventúrska-Michalská-Sedlárska) & ZIDO (oblasť Židovskej ulice pri dobrom pastierovi) & ZMCK (oblasť rohu Židovskej a Kapucínskej ulice) & data\\_in & data\\_out & unique\\_conn & new\\_users & returning\\_users & average\\_online & max\\_online & dwell\\_5m & dwell\\_10m & dwell\\_30m & dwell\\_60m & dwell\\_long & browser\\_Android & browser\\_Chrome & browser\\_Firefox & browser\\_IE & browser\\_Nan & browser\\_Opera & browser\\_others & browser\\_Safari & device\\_type\\_desktop & device\\_type\\_ereader & device\\_type\\_gaming & device\\_type\\_media & device\\_type\\_mobile & device\\_type\\_Nan & device\\_type\\_tablet & lang\\_af & lang\\_ag & lang\\_ar & lang\\_az & lang\\_ba & lang\\_be & lang\\_bg & lang\\_other & lang\\_en & lang\\_hu & lang\\_ru & lang\\_pl & lang\\_de & lang\\_fr & lang\\_es & lang\\_it & lang\\_sk & os\\_Android & os\\_iOS & os\\_Linux & os\\_Nan & os\\_OS X & os\\_others & os\\_Windows & data\\_in\\_GB & data\\_out\\_GB\\\\\n",
       "\\hline\n",
       "\t 2018-05-24   & NA           & NA           & NA           & NA           & NA           & NA           & NA           & NA           & NA           & NA           & NA           & NA           & NA           & NA           & NA           & NA           & NA           & NA           & NA           & NA           & NA           & NA           &  2482909612  &  16402839461 &  616         & NA           & NA           & NA           & NA           & NA           & NA           & NA           & NA           & NA           & 7            & 244          & 2            & 0            & 1            & 4            & 1            & 193          & 4            & 0            & 0            & 0            &  397         & 61           & 5            & 0            & 0            & 2            & 0            & 0            & 0            & 0            & 55           & 114          & 1            & 27           & 3            & 12           & 0            &  7           & 5            & 227          & 246          & 193          & 0            & 1            & 1            & 3            & 6            &  2.31239     &  15.27633   \\\\\n",
       "\t 2018-05-25   & NA           & NA           & NA           & NA           & NA           & NA           & NA           & NA           & NA           & NA           & NA           & NA           & NA           & NA           & NA           & NA           & NA           & NA           & NA           & NA           & NA           & NA           & 38940049189  & 117855350107 & 3563         & NA           & NA           & NA           & NA           & NA           & NA           & NA           & NA           & NA           & 0            & 908          & 0            & 0            & 0            & 0            & 0            & 480          & 0            & 0            & 0            & 0            & 1071         & 54           & 0            & 0            & 0            & 0            & 0            & 0            & 0            & 0            &  1           & 193          & 0            & 14           & 0            &  0           & 0            &  3           & 0            & 666          & 777          & 479          & 0            & 0            & 0            & 0            & 5            & 36.26575     & 109.76135   \\\\\n",
       "\t 2018-05-26   & NA           & NA           & NA           & NA           & NA           & NA           & NA           & NA           & NA           & NA           & NA           & NA           & NA           & NA           & NA           & NA           & NA           & NA           & NA           & NA           & NA           & NA           & 49881955108  & 166732613033 & 4818         & NA           & NA           & NA           & NA           & NA           & NA           & NA           & NA           & NA           & 0            & 851          & 3            & 0            & 0            & 0            & 0            & 805          & 3            & 0            & 0            & 0            & 1952         & 76           & 0            & 0            & 0            & 0            & 0            & 0            & 0            & 0            &  0           & 501          & 0            &  6           & 0            & 15           & 0            &  0           & 0            & 556          & 706          & 804          & 0            & 0            & 2            & 0            & 0            & 46.45619     & 155.28185   \\\\\n",
       "\t 2018-05-27   & NA           & NA           & NA           & NA           & NA           & NA           & NA           & NA           & NA           & NA           & NA           & NA           & NA           & NA           & NA           & NA           & NA           & NA           & NA           & NA           & NA           & NA           & 38747672250  & 124623629172 & 4077         & NA           & NA           & NA           & NA           & NA           & NA           & NA           & NA           & NA           & 5            & 807          & 0            & 1            & 0            & 0            & 0            & 845          & 0            & 0            & 0            & 0            & 2040         & 56           & 0            & 0            & 0            & 0            & 0            & 0            & 0            & 0            &  8           & 371          & 7            &  0           & 0            & 15           & 0            & 12           & 0            & 522          & 828          & 845          & 0            & 0            & 0            & 0            & 6            & 36.08658     & 116.06480   \\\\\n",
       "\t 2018-05-28   & NA           & NA           & NA           & NA           & NA           & NA           & NA           & NA           & NA           & NA           & NA           & NA           & NA           & NA           & NA           & NA           & NA           & NA           & NA           & NA           & NA           & NA           & 37839584968  & 149291182187 & 4120         & NA           & NA           & NA           & NA           & NA           & NA           & NA           & NA           & NA           & 0            & 485          & 3            & 0            & 0            & 0            & 0            & 490          & 4            & 0            & 0            & 0            & 1233         &  0           & 7            & 0            & 0            & 0            & 0            & 0            & 0            & 0            &  2           & 211          & 0            &  0           & 0            & 16           & 0            &  0           & 0            & 388          & 490          & 490          & 0            & 0            & 2            & 0            & 0            & 35.24086     & 139.03825   \\\\\n",
       "\t ... & ... & ... & ... & ... & ... & ... & ... & ... & ... & ... & ... & ... & ... & ... & ... & ... & ... & ... & ... & ... & ... & ... & ... & ... & ... & ... & ... & ... & ... & ... & ... & ... & ... & ... & ... & ... & ... & ... & ... & ... & ... & ... & ... & ... & ... & ... & ... & ... & ... & ... & ... & ... & ... & ... & ... & ... & ... & ... & ... & ... & ... & ... & ... & ... & ... & ... & ... & ... & ... & ... & ... & ... & ... & ... & ...\\\\\n",
       "\t 2021-02-21 &  0         &  0         &  1         &  4         &  1         &  2         &  0         &  0         &  0         &  1         &  0         &  1         &  0         &  3         &  2         &  2         &  1         &  0         & NA         &  0         &  0         &  3         & NA         & NA         & NA         & NA         &  NA        &  NA        &  NA        &   NA       &  NA        &  NA        & NA         & NA         & 0          &  0         & 0          & 0          & 0          & 0          & 0          &  0         & 0          & 0          & 0          & 0          &  0         & 0          & 0          & 0          & 0          & 0          & 0          & 0          & 0          & 0          & 0          &  0         & 0          & 0          & 0          & 0          & 0          & 0          & 0          &  0         &  0         &  0         & 0          & 0          & 0          & 0          & 0          & NA         & NA        \\\\\n",
       "\t 2021-02-22 &  0         &  1         &  3         &  4         &  1         &  6         &  0         &  4         &  3         &  2         &  1         &  4         &  1         &  2         &  1         &  3         &  1         &  0         & NA         &  0         &  1         &  6         & NA         & NA         & NA         & NA         &  NA        &  NA        &  NA        &   NA       &  NA        &  NA        & NA         & NA         & 0          &  0         & 0          & 0          & 0          & 0          & 0          &  0         & 0          & 0          & 0          & 0          &  0         & 0          & 0          & 0          & 0          & 0          & 0          & 0          & 0          & 0          & 0          &  0         & 0          & 0          & 0          & 0          & 0          & 0          & 0          &  0         &  0         &  0         & 0          & 0          & 0          & 0          & 0          & NA         & NA        \\\\\n",
       "\t 2021-02-23 &  0         &  1         &  4         &  1         &  1         & 11         &  0         &  4         &  4         &  1         &  2         &  0         &  0         &  3         &  1         &  2         &  1         &  4         & NA         &  0         &  0         &  2         & NA         & NA         & NA         & NA         &  NA        &  NA        &  NA        &   NA       &  NA        &  NA        & NA         & NA         & 0          &  0         & 0          & 0          & 0          & 0          & 0          &  0         & 0          & 0          & 0          & 0          &  0         & 0          & 0          & 0          & 0          & 0          & 0          & 0          & 0          & 0          & 0          &  0         & 0          & 0          & 0          & 0          & 0          & 0          & 0          &  0         &  0         &  0         & 0          & 0          & 0          & 0          & 0          & NA         & NA        \\\\\n",
       "\t 2021-02-24 & NA         & NA         & NA         & NA         & NA         & NA         & NA         & NA         & NA         & NA         & NA         & NA         & NA         & NA         & NA         & NA         & NA         & NA         & NA         & NA         & NA         & NA         &  0         &  0         &  0         & 60         & 482        & 128        & 198        & 2111       & 442        & 332        & 72         & 40         & 2          & 17         & 2          & 0          & 0          & 0          & 1          & 24         & 2          & 0          & 0          & 0          & 41         & 3          & 0          & 0          & 0          & 0          & 0          & 0          & 0          & 0          & 4          &  8         & 2          & 4          & 0          & 0          & 1          & 2          & 0          & 25         & 19         & 24         & 0          & 0          & 2          & 0          & 1          &  0         &  0        \\\\\n",
       "\t 2021-02-25 & NA         & NA         & NA         & NA         & NA         & NA         & NA         & NA         & NA         & NA         & NA         & NA         & NA         & NA         & NA         & NA         & NA         & NA         & NA         & NA         & NA         & NA         &  0         &  0         &  0         & 57         & 537        & 114        & 187        & 2389       & 488        & 321        & 63         & 33         & 0          & 19         & 0          & 0          & 0          & 0          & 3          & 23         & 1          & 0          & 0          & 0          & 41         & 3          & 0          & 0          & 0          & 0          & 0          & 0          & 0          & 0          & 4          & 11         & 0          & 1          & 0          & 0          & 0          & 0          & 0          & 29         & 18         & 23         & 0          & 0          & 0          & 0          & 4          &  0         &  0        \\\\\n",
       "\\end{tabular}\n"
      ],
      "text/markdown": [
       "\n",
       "| date | CTUR | FJNN (oblasť Fajnorovho Nábrežia pred SPŠS) | HLVN (oblasť Hlavného Námestia, Františkánskeho Námestia a Starej Radnice) | HURN (oblasť Hurbanovho námestia) | HVZN (oblasť Hviezdoslavovho Námestia v okolí ambasády USA) | KLOB (oblasť Klobučníckej a Námestia SNP pred Starou Tržnicou) | KNPM (oblasť Jedlíkovej ulice) | KOLN (oblasť spodnej časti Kollárovho námestia) | NLST (oblasť Námestia Ľudovíta Štúra) | NSLO (oblasť parku Námestia Slobody) | NSNP (oblasť Námestia SNP) | OBCH ( oblasť Obchodná ulica stred) | OSPR (oblasť  Osobného prístavu a pred SNM) | PAMV (oblasť Pamätníka Víťazstva a pred SND) | POST (oblasť križovania ulíc Poštová - Obchodná) | RBNN (oblasť Rybného Námestia) | RIGL (oblasť Rigeleho a Rázusovho Nábrežia) | SAFK (oblasť Šafárikovho Námestia pri UK) | Tyršák | VNTU (oblasť križovania ulíc Ventúrska-Michalská-Sedlárska) | ZIDO (oblasť Židovskej ulice pri dobrom pastierovi) | ZMCK (oblasť rohu Židovskej a Kapucínskej ulice) | data_in | data_out | unique_conn | new_users | returning_users | average_online | max_online | dwell_5m | dwell_10m | dwell_30m | dwell_60m | dwell_long | browser_Android | browser_Chrome | browser_Firefox | browser_IE | browser_Nan | browser_Opera | browser_others | browser_Safari | device_type_desktop | device_type_ereader | device_type_gaming | device_type_media | device_type_mobile | device_type_Nan | device_type_tablet | lang_af | lang_ag | lang_ar | lang_az | lang_ba | lang_be | lang_bg | lang_other | lang_en | lang_hu | lang_ru | lang_pl | lang_de | lang_fr | lang_es | lang_it | lang_sk | os_Android | os_iOS | os_Linux | os_Nan | os_OS X | os_others | os_Windows | data_in_GB | data_out_GB |\n",
       "|---|---|---|---|---|---|---|---|---|---|---|---|---|---|---|---|---|---|---|---|---|---|---|---|---|---|---|---|---|---|---|---|---|---|---|---|---|---|---|---|---|---|---|---|---|---|---|---|---|---|---|---|---|---|---|---|---|---|---|---|---|---|---|---|---|---|---|---|---|---|---|---|---|---|---|---|\n",
       "| 2018-05-24   | NA           | NA           | NA           | NA           | NA           | NA           | NA           | NA           | NA           | NA           | NA           | NA           | NA           | NA           | NA           | NA           | NA           | NA           | NA           | NA           | NA           | NA           |  2482909612  |  16402839461 |  616         | NA           | NA           | NA           | NA           | NA           | NA           | NA           | NA           | NA           | 7            | 244          | 2            | 0            | 1            | 4            | 1            | 193          | 4            | 0            | 0            | 0            |  397         | 61           | 5            | 0            | 0            | 2            | 0            | 0            | 0            | 0            | 55           | 114          | 1            | 27           | 3            | 12           | 0            |  7           | 5            | 227          | 246          | 193          | 0            | 1            | 1            | 3            | 6            |  2.31239     |  15.27633    |\n",
       "| 2018-05-25   | NA           | NA           | NA           | NA           | NA           | NA           | NA           | NA           | NA           | NA           | NA           | NA           | NA           | NA           | NA           | NA           | NA           | NA           | NA           | NA           | NA           | NA           | 38940049189  | 117855350107 | 3563         | NA           | NA           | NA           | NA           | NA           | NA           | NA           | NA           | NA           | 0            | 908          | 0            | 0            | 0            | 0            | 0            | 480          | 0            | 0            | 0            | 0            | 1071         | 54           | 0            | 0            | 0            | 0            | 0            | 0            | 0            | 0            |  1           | 193          | 0            | 14           | 0            |  0           | 0            |  3           | 0            | 666          | 777          | 479          | 0            | 0            | 0            | 0            | 5            | 36.26575     | 109.76135    |\n",
       "| 2018-05-26   | NA           | NA           | NA           | NA           | NA           | NA           | NA           | NA           | NA           | NA           | NA           | NA           | NA           | NA           | NA           | NA           | NA           | NA           | NA           | NA           | NA           | NA           | 49881955108  | 166732613033 | 4818         | NA           | NA           | NA           | NA           | NA           | NA           | NA           | NA           | NA           | 0            | 851          | 3            | 0            | 0            | 0            | 0            | 805          | 3            | 0            | 0            | 0            | 1952         | 76           | 0            | 0            | 0            | 0            | 0            | 0            | 0            | 0            |  0           | 501          | 0            |  6           | 0            | 15           | 0            |  0           | 0            | 556          | 706          | 804          | 0            | 0            | 2            | 0            | 0            | 46.45619     | 155.28185    |\n",
       "| 2018-05-27   | NA           | NA           | NA           | NA           | NA           | NA           | NA           | NA           | NA           | NA           | NA           | NA           | NA           | NA           | NA           | NA           | NA           | NA           | NA           | NA           | NA           | NA           | 38747672250  | 124623629172 | 4077         | NA           | NA           | NA           | NA           | NA           | NA           | NA           | NA           | NA           | 5            | 807          | 0            | 1            | 0            | 0            | 0            | 845          | 0            | 0            | 0            | 0            | 2040         | 56           | 0            | 0            | 0            | 0            | 0            | 0            | 0            | 0            |  8           | 371          | 7            |  0           | 0            | 15           | 0            | 12           | 0            | 522          | 828          | 845          | 0            | 0            | 0            | 0            | 6            | 36.08658     | 116.06480    |\n",
       "| 2018-05-28   | NA           | NA           | NA           | NA           | NA           | NA           | NA           | NA           | NA           | NA           | NA           | NA           | NA           | NA           | NA           | NA           | NA           | NA           | NA           | NA           | NA           | NA           | 37839584968  | 149291182187 | 4120         | NA           | NA           | NA           | NA           | NA           | NA           | NA           | NA           | NA           | 0            | 485          | 3            | 0            | 0            | 0            | 0            | 490          | 4            | 0            | 0            | 0            | 1233         |  0           | 7            | 0            | 0            | 0            | 0            | 0            | 0            | 0            |  2           | 211          | 0            |  0           | 0            | 16           | 0            |  0           | 0            | 388          | 490          | 490          | 0            | 0            | 2            | 0            | 0            | 35.24086     | 139.03825    |\n",
       "| ... | ... | ... | ... | ... | ... | ... | ... | ... | ... | ... | ... | ... | ... | ... | ... | ... | ... | ... | ... | ... | ... | ... | ... | ... | ... | ... | ... | ... | ... | ... | ... | ... | ... | ... | ... | ... | ... | ... | ... | ... | ... | ... | ... | ... | ... | ... | ... | ... | ... | ... | ... | ... | ... | ... | ... | ... | ... | ... | ... | ... | ... | ... | ... | ... | ... | ... | ... | ... | ... | ... | ... | ... | ... | ... | ... |\n",
       "| 2021-02-21 |  0         |  0         |  1         |  4         |  1         |  2         |  0         |  0         |  0         |  1         |  0         |  1         |  0         |  3         |  2         |  2         |  1         |  0         | NA         |  0         |  0         |  3         | NA         | NA         | NA         | NA         |  NA        |  NA        |  NA        |   NA       |  NA        |  NA        | NA         | NA         | 0          |  0         | 0          | 0          | 0          | 0          | 0          |  0         | 0          | 0          | 0          | 0          |  0         | 0          | 0          | 0          | 0          | 0          | 0          | 0          | 0          | 0          | 0          |  0         | 0          | 0          | 0          | 0          | 0          | 0          | 0          |  0         |  0         |  0         | 0          | 0          | 0          | 0          | 0          | NA         | NA         |\n",
       "| 2021-02-22 |  0         |  1         |  3         |  4         |  1         |  6         |  0         |  4         |  3         |  2         |  1         |  4         |  1         |  2         |  1         |  3         |  1         |  0         | NA         |  0         |  1         |  6         | NA         | NA         | NA         | NA         |  NA        |  NA        |  NA        |   NA       |  NA        |  NA        | NA         | NA         | 0          |  0         | 0          | 0          | 0          | 0          | 0          |  0         | 0          | 0          | 0          | 0          |  0         | 0          | 0          | 0          | 0          | 0          | 0          | 0          | 0          | 0          | 0          |  0         | 0          | 0          | 0          | 0          | 0          | 0          | 0          |  0         |  0         |  0         | 0          | 0          | 0          | 0          | 0          | NA         | NA         |\n",
       "| 2021-02-23 |  0         |  1         |  4         |  1         |  1         | 11         |  0         |  4         |  4         |  1         |  2         |  0         |  0         |  3         |  1         |  2         |  1         |  4         | NA         |  0         |  0         |  2         | NA         | NA         | NA         | NA         |  NA        |  NA        |  NA        |   NA       |  NA        |  NA        | NA         | NA         | 0          |  0         | 0          | 0          | 0          | 0          | 0          |  0         | 0          | 0          | 0          | 0          |  0         | 0          | 0          | 0          | 0          | 0          | 0          | 0          | 0          | 0          | 0          |  0         | 0          | 0          | 0          | 0          | 0          | 0          | 0          |  0         |  0         |  0         | 0          | 0          | 0          | 0          | 0          | NA         | NA         |\n",
       "| 2021-02-24 | NA         | NA         | NA         | NA         | NA         | NA         | NA         | NA         | NA         | NA         | NA         | NA         | NA         | NA         | NA         | NA         | NA         | NA         | NA         | NA         | NA         | NA         |  0         |  0         |  0         | 60         | 482        | 128        | 198        | 2111       | 442        | 332        | 72         | 40         | 2          | 17         | 2          | 0          | 0          | 0          | 1          | 24         | 2          | 0          | 0          | 0          | 41         | 3          | 0          | 0          | 0          | 0          | 0          | 0          | 0          | 0          | 4          |  8         | 2          | 4          | 0          | 0          | 1          | 2          | 0          | 25         | 19         | 24         | 0          | 0          | 2          | 0          | 1          |  0         |  0         |\n",
       "| 2021-02-25 | NA         | NA         | NA         | NA         | NA         | NA         | NA         | NA         | NA         | NA         | NA         | NA         | NA         | NA         | NA         | NA         | NA         | NA         | NA         | NA         | NA         | NA         |  0         |  0         |  0         | 57         | 537        | 114        | 187        | 2389       | 488        | 321        | 63         | 33         | 0          | 19         | 0          | 0          | 0          | 0          | 3          | 23         | 1          | 0          | 0          | 0          | 41         | 3          | 0          | 0          | 0          | 0          | 0          | 0          | 0          | 0          | 4          | 11         | 0          | 1          | 0          | 0          | 0          | 0          | 0          | 29         | 18         | 23         | 0          | 0          | 0          | 0          | 4          |  0         |  0         |\n",
       "\n"
      ],
      "text/plain": [
       "    date       CTUR FJNN (oblast Fajnorovho Nábrežia pred SPŠS)\n",
       "1   2018-05-24 NA   NA                                         \n",
       "2   2018-05-25 NA   NA                                         \n",
       "3   2018-05-26 NA   NA                                         \n",
       "4   2018-05-27 NA   NA                                         \n",
       "5   2018-05-28 NA   NA                                         \n",
       "... ...        ...  ...                                        \n",
       "995 2021-02-21  0    0                                         \n",
       "996 2021-02-22  0    1                                         \n",
       "997 2021-02-23  0    1                                         \n",
       "998 2021-02-24 NA   NA                                         \n",
       "999 2021-02-25 NA   NA                                         \n",
       "    HLVN (oblast Hlavného Námestia, Františkánskeho Námestia a Starej Radnice)\n",
       "1   NA                                                                        \n",
       "2   NA                                                                        \n",
       "3   NA                                                                        \n",
       "4   NA                                                                        \n",
       "5   NA                                                                        \n",
       "... ...                                                                       \n",
       "995  1                                                                        \n",
       "996  3                                                                        \n",
       "997  4                                                                        \n",
       "998 NA                                                                        \n",
       "999 NA                                                                        \n",
       "    HURN (oblast Hurbanovho námestia)\n",
       "1   NA                               \n",
       "2   NA                               \n",
       "3   NA                               \n",
       "4   NA                               \n",
       "5   NA                               \n",
       "... ...                              \n",
       "995  4                               \n",
       "996  4                               \n",
       "997  1                               \n",
       "998 NA                               \n",
       "999 NA                               \n",
       "    HVZN (oblast Hviezdoslavovho Námestia v okolí ambasády USA)\n",
       "1   NA                                                         \n",
       "2   NA                                                         \n",
       "3   NA                                                         \n",
       "4   NA                                                         \n",
       "5   NA                                                         \n",
       "... ...                                                        \n",
       "995  1                                                         \n",
       "996  1                                                         \n",
       "997  1                                                         \n",
       "998 NA                                                         \n",
       "999 NA                                                         \n",
       "    KLOB (oblast Klobucníckej a Námestia SNP pred Starou Tržnicou)\n",
       "1   NA                                                            \n",
       "2   NA                                                            \n",
       "3   NA                                                            \n",
       "4   NA                                                            \n",
       "5   NA                                                            \n",
       "... ...                                                           \n",
       "995  2                                                            \n",
       "996  6                                                            \n",
       "997 11                                                            \n",
       "998 NA                                                            \n",
       "999 NA                                                            \n",
       "    KNPM (oblast Jedlíkovej ulice)\n",
       "1   NA                            \n",
       "2   NA                            \n",
       "3   NA                            \n",
       "4   NA                            \n",
       "5   NA                            \n",
       "... ...                           \n",
       "995  0                            \n",
       "996  0                            \n",
       "997  0                            \n",
       "998 NA                            \n",
       "999 NA                            \n",
       "    KOLN (oblast spodnej casti Kollárovho námestia)\n",
       "1   NA                                             \n",
       "2   NA                                             \n",
       "3   NA                                             \n",
       "4   NA                                             \n",
       "5   NA                                             \n",
       "... ...                                            \n",
       "995  0                                             \n",
       "996  4                                             \n",
       "997  4                                             \n",
       "998 NA                                             \n",
       "999 NA                                             \n",
       "    NLST (oblast Námestia Ludovíta Štúra) NSLO (oblast parku Námestia Slobody)\n",
       "1   NA                                    NA                                  \n",
       "2   NA                                    NA                                  \n",
       "3   NA                                    NA                                  \n",
       "4   NA                                    NA                                  \n",
       "5   NA                                    NA                                  \n",
       "... ...                                   ...                                 \n",
       "995  0                                     1                                  \n",
       "996  3                                     2                                  \n",
       "997  4                                     1                                  \n",
       "998 NA                                    NA                                  \n",
       "999 NA                                    NA                                  \n",
       "    NSNP (oblast Námestia SNP) OBCH ( oblast Obchodná ulica stred)\n",
       "1   NA                         NA                                 \n",
       "2   NA                         NA                                 \n",
       "3   NA                         NA                                 \n",
       "4   NA                         NA                                 \n",
       "5   NA                         NA                                 \n",
       "... ...                        ...                                \n",
       "995  0                          1                                 \n",
       "996  1                          4                                 \n",
       "997  2                          0                                 \n",
       "998 NA                         NA                                 \n",
       "999 NA                         NA                                 \n",
       "    OSPR (oblast  Osobného prístavu a pred SNM)\n",
       "1   NA                                         \n",
       "2   NA                                         \n",
       "3   NA                                         \n",
       "4   NA                                         \n",
       "5   NA                                         \n",
       "... ...                                        \n",
       "995  0                                         \n",
       "996  1                                         \n",
       "997  0                                         \n",
       "998 NA                                         \n",
       "999 NA                                         \n",
       "    PAMV (oblast Pamätníka Vítazstva a pred SND)\n",
       "1   NA                                          \n",
       "2   NA                                          \n",
       "3   NA                                          \n",
       "4   NA                                          \n",
       "5   NA                                          \n",
       "... ...                                         \n",
       "995  3                                          \n",
       "996  2                                          \n",
       "997  3                                          \n",
       "998 NA                                          \n",
       "999 NA                                          \n",
       "    POST (oblast križovania ulíc Poštová - Obchodná)\n",
       "1   NA                                              \n",
       "2   NA                                              \n",
       "3   NA                                              \n",
       "4   NA                                              \n",
       "5   NA                                              \n",
       "... ...                                             \n",
       "995  2                                              \n",
       "996  1                                              \n",
       "997  1                                              \n",
       "998 NA                                              \n",
       "999 NA                                              \n",
       "    RBNN (oblast Rybného Námestia) RIGL (oblast Rigeleho a Rázusovho Nábrežia)\n",
       "1   NA                             NA                                         \n",
       "2   NA                             NA                                         \n",
       "3   NA                             NA                                         \n",
       "4   NA                             NA                                         \n",
       "5   NA                             NA                                         \n",
       "... ...                            ...                                        \n",
       "995  2                              1                                         \n",
       "996  3                              1                                         \n",
       "997  2                              1                                         \n",
       "998 NA                             NA                                         \n",
       "999 NA                             NA                                         \n",
       "    SAFK (oblast Šafárikovho Námestia pri UK) Tyršák\n",
       "1   NA                                        NA    \n",
       "2   NA                                        NA    \n",
       "3   NA                                        NA    \n",
       "4   NA                                        NA    \n",
       "5   NA                                        NA    \n",
       "... ...                                       ...   \n",
       "995  0                                        NA    \n",
       "996  0                                        NA    \n",
       "997  4                                        NA    \n",
       "998 NA                                        NA    \n",
       "999 NA                                        NA    \n",
       "    VNTU (oblast križovania ulíc Ventúrska-Michalská-Sedlárska)\n",
       "1   NA                                                         \n",
       "2   NA                                                         \n",
       "3   NA                                                         \n",
       "4   NA                                                         \n",
       "5   NA                                                         \n",
       "... ...                                                        \n",
       "995  0                                                         \n",
       "996  0                                                         \n",
       "997  0                                                         \n",
       "998 NA                                                         \n",
       "999 NA                                                         \n",
       "    ZIDO (oblast Židovskej ulice pri dobrom pastierovi)\n",
       "1   NA                                                 \n",
       "2   NA                                                 \n",
       "3   NA                                                 \n",
       "4   NA                                                 \n",
       "5   NA                                                 \n",
       "... ...                                                \n",
       "995  0                                                 \n",
       "996  1                                                 \n",
       "997  0                                                 \n",
       "998 NA                                                 \n",
       "999 NA                                                 \n",
       "    ZMCK (oblast rohu Židovskej a Kapucínskej ulice) data_in     data_out    \n",
       "1   NA                                                2482909612  16402839461\n",
       "2   NA                                               38940049189 117855350107\n",
       "3   NA                                               49881955108 166732613033\n",
       "4   NA                                               38747672250 124623629172\n",
       "5   NA                                               37839584968 149291182187\n",
       "... ...                                              ...         ...         \n",
       "995  3                                               NA          NA          \n",
       "996  6                                               NA          NA          \n",
       "997  2                                               NA          NA          \n",
       "998 NA                                                0           0          \n",
       "999 NA                                                0           0          \n",
       "    unique_conn new_users returning_users average_online max_online dwell_5m\n",
       "1    616        NA        NA              NA             NA         NA      \n",
       "2   3563        NA        NA              NA             NA         NA      \n",
       "3   4818        NA        NA              NA             NA         NA      \n",
       "4   4077        NA        NA              NA             NA         NA      \n",
       "5   4120        NA        NA              NA             NA         NA      \n",
       "... ...         ...       ...             ...            ...        ...     \n",
       "995 NA          NA         NA              NA             NA          NA    \n",
       "996 NA          NA         NA              NA             NA          NA    \n",
       "997 NA          NA         NA              NA             NA          NA    \n",
       "998  0          60        482             128            198        2111    \n",
       "999  0          57        537             114            187        2389    \n",
       "    dwell_10m dwell_30m dwell_60m dwell_long browser_Android browser_Chrome\n",
       "1   NA        NA        NA        NA         7               244           \n",
       "2   NA        NA        NA        NA         0               908           \n",
       "3   NA        NA        NA        NA         0               851           \n",
       "4   NA        NA        NA        NA         5               807           \n",
       "5   NA        NA        NA        NA         0               485           \n",
       "... ...       ...       ...       ...        ...             ...           \n",
       "995  NA        NA       NA        NA         0                0            \n",
       "996  NA        NA       NA        NA         0                0            \n",
       "997  NA        NA       NA        NA         0                0            \n",
       "998 442       332       72        40         2               17            \n",
       "999 488       321       63        33         0               19            \n",
       "    browser_Firefox browser_IE browser_Nan browser_Opera browser_others\n",
       "1   2               0          1           4             1             \n",
       "2   0               0          0           0             0             \n",
       "3   3               0          0           0             0             \n",
       "4   0               1          0           0             0             \n",
       "5   3               0          0           0             0             \n",
       "... ...             ...        ...         ...           ...           \n",
       "995 0               0          0           0             0             \n",
       "996 0               0          0           0             0             \n",
       "997 0               0          0           0             0             \n",
       "998 2               0          0           0             1             \n",
       "999 0               0          0           0             3             \n",
       "    browser_Safari device_type_desktop device_type_ereader device_type_gaming\n",
       "1   193            4                   0                   0                 \n",
       "2   480            0                   0                   0                 \n",
       "3   805            3                   0                   0                 \n",
       "4   845            0                   0                   0                 \n",
       "5   490            4                   0                   0                 \n",
       "... ...            ...                 ...                 ...               \n",
       "995  0             0                   0                   0                 \n",
       "996  0             0                   0                   0                 \n",
       "997  0             0                   0                   0                 \n",
       "998 24             2                   0                   0                 \n",
       "999 23             1                   0                   0                 \n",
       "    device_type_media device_type_mobile device_type_Nan device_type_tablet\n",
       "1   0                  397               61              5                 \n",
       "2   0                 1071               54              0                 \n",
       "3   0                 1952               76              0                 \n",
       "4   0                 2040               56              0                 \n",
       "5   0                 1233                0              7                 \n",
       "... ...               ...                ...             ...               \n",
       "995 0                  0                 0               0                 \n",
       "996 0                  0                 0               0                 \n",
       "997 0                  0                 0               0                 \n",
       "998 0                 41                 3               0                 \n",
       "999 0                 41                 3               0                 \n",
       "    lang_af lang_ag lang_ar lang_az lang_ba lang_be lang_bg lang_other lang_en\n",
       "1   0       0       2       0       0       0       0       55         114    \n",
       "2   0       0       0       0       0       0       0        1         193    \n",
       "3   0       0       0       0       0       0       0        0         501    \n",
       "4   0       0       0       0       0       0       0        8         371    \n",
       "5   0       0       0       0       0       0       0        2         211    \n",
       "... ...     ...     ...     ...     ...     ...     ...     ...        ...    \n",
       "995 0       0       0       0       0       0       0       0           0     \n",
       "996 0       0       0       0       0       0       0       0           0     \n",
       "997 0       0       0       0       0       0       0       0           0     \n",
       "998 0       0       0       0       0       0       0       4           8     \n",
       "999 0       0       0       0       0       0       0       4          11     \n",
       "    lang_hu lang_ru lang_pl lang_de lang_fr lang_es lang_it lang_sk os_Android\n",
       "1   1       27      3       12      0        7      5       227     246       \n",
       "2   0       14      0        0      0        3      0       666     777       \n",
       "3   0        6      0       15      0        0      0       556     706       \n",
       "4   7        0      0       15      0       12      0       522     828       \n",
       "5   0        0      0       16      0        0      0       388     490       \n",
       "... ...     ...     ...     ...     ...     ...     ...     ...     ...       \n",
       "995 0       0       0       0       0       0       0        0       0        \n",
       "996 0       0       0       0       0       0       0        0       0        \n",
       "997 0       0       0       0       0       0       0        0       0        \n",
       "998 2       4       0       0       1       2       0       25      19        \n",
       "999 0       1       0       0       0       0       0       29      18        \n",
       "    os_iOS os_Linux os_Nan os_OS X os_others os_Windows data_in_GB data_out_GB\n",
       "1   193    0        1      1       3         6           2.31239    15.27633  \n",
       "2   479    0        0      0       0         5          36.26575   109.76135  \n",
       "3   804    0        0      2       0         0          46.45619   155.28185  \n",
       "4   845    0        0      0       0         6          36.08658   116.06480  \n",
       "5   490    0        0      2       0         0          35.24086   139.03825  \n",
       "... ...    ...      ...    ...     ...       ...        ...        ...        \n",
       "995  0     0        0      0       0         0          NA         NA         \n",
       "996  0     0        0      0       0         0          NA         NA         \n",
       "997  0     0        0      0       0         0          NA         NA         \n",
       "998 24     0        0      2       0         1           0          0         \n",
       "999 23     0        0      0       0         4           0          0         "
      ]
     },
     "metadata": {},
     "output_type": "display_data"
    }
   ],
   "source": [
    "#aby sme videli vsetky stlpce\n",
    "options(repr.matrix.max.cols=90, repr.matrix.max.rows=10)\n",
    "dfb"
   ]
  },
  {
   "cell_type": "code",
   "execution_count": 17,
   "metadata": {
    "scrolled": true
   },
   "outputs": [
    {
     "data": {
      "text/plain": [
       "      date                 CTUR       \n",
       " Min.   :2018-05-24   Min.   :0.0000  \n",
       " 1st Qu.:2019-01-28   1st Qu.:0.0000  \n",
       " Median :2019-10-05   Median :0.0000  \n",
       " Mean   :2019-10-06   Mean   :0.4225  \n",
       " 3rd Qu.:2020-06-11   3rd Qu.:1.0000  \n",
       " Max.   :2021-02-25   Max.   :4.0000  \n",
       "                      NA's   :812     \n",
       " FJNN (oblast Fajnorovho Nábrežia pred SPŠS)\n",
       " Min.   : 0.000                             \n",
       " 1st Qu.: 1.000                             \n",
       " Median : 2.000                             \n",
       " Mean   : 4.621                             \n",
       " 3rd Qu.: 6.000                             \n",
       " Max.   :44.000                             \n",
       " NA's   :498                                \n",
       " HLVN (oblast Hlavného Námestia, Františkánskeho Námestia a Starej Radnice)\n",
       " Min.   :  0.0                                                             \n",
       " 1st Qu.:  3.0                                                             \n",
       " Median : 13.0                                                             \n",
       " Mean   : 24.7                                                             \n",
       " 3rd Qu.: 32.0                                                             \n",
       " Max.   :177.0                                                             \n",
       " NA's   :498                                                               \n",
       " HURN (oblast Hurbanovho námestia)\n",
       " Min.   : 0.000                   \n",
       " 1st Qu.: 2.000                   \n",
       " Median : 5.000                   \n",
       " Mean   : 7.394                   \n",
       " 3rd Qu.:12.000                   \n",
       " Max.   :43.000                   \n",
       " NA's   :603                      \n",
       " HVZN (oblast Hviezdoslavovho Námestia v okolí ambasády USA)\n",
       " Min.   : 0.00                                              \n",
       " 1st Qu.: 2.00                                              \n",
       " Median : 9.00                                              \n",
       " Mean   :12.85                                              \n",
       " 3rd Qu.:20.00                                              \n",
       " Max.   :82.00                                              \n",
       " NA's   :498                                                \n",
       " KLOB (oblast Klobucníckej a Námestia SNP pred Starou Tržnicou)\n",
       " Min.   : 0.0                                                  \n",
       " 1st Qu.: 5.5                                                  \n",
       " Median :14.0                                                  \n",
       " Mean   :19.9                                                  \n",
       " 3rd Qu.:29.5                                                  \n",
       " Max.   :95.0                                                  \n",
       " NA's   :524                                                   \n",
       " KNPM (oblast Jedlíkovej ulice) KOLN (oblast spodnej casti Kollárovho námestia)\n",
       " Min.   :0.000                  Min.   : 0.000                                 \n",
       " 1st Qu.:0.000                  1st Qu.: 3.000                                 \n",
       " Median :1.000                  Median : 5.000                                 \n",
       " Mean   :1.014                  Mean   : 6.755                                 \n",
       " 3rd Qu.:1.000                  3rd Qu.:10.000                                 \n",
       " Max.   :7.000                  Max.   :26.000                                 \n",
       " NA's   :630                    NA's   :620                                    \n",
       " NLST (oblast Námestia Ludovíta Štúra) NSLO (oblast parku Námestia Slobody)\n",
       " Min.   : 0.0                          Min.   : 0.000                      \n",
       " 1st Qu.: 3.0                          1st Qu.: 1.000                      \n",
       " Median : 8.0                          Median : 2.000                      \n",
       " Mean   :10.1                          Mean   : 3.256                      \n",
       " 3rd Qu.:15.0                          3rd Qu.: 4.000                      \n",
       " Max.   :83.0                          Max.   :39.000                      \n",
       " NA's   :498                           NA's   :499                         \n",
       " NSNP (oblast Námestia SNP) OBCH ( oblast Obchodná ulica stred)\n",
       " Min.   : 0.00              Min.   : 0.000                     \n",
       " 1st Qu.: 1.00              1st Qu.: 1.000                     \n",
       " Median : 4.00              Median : 3.000                     \n",
       " Mean   : 6.51              Mean   : 4.854                     \n",
       " 3rd Qu.: 9.00              3rd Qu.: 8.000                     \n",
       " Max.   :30.00              Max.   :25.000                     \n",
       " NA's   :603                NA's   :616                        \n",
       " OSPR (oblast  Osobného prístavu a pred SNM)\n",
       " Min.   : 0.000                             \n",
       " 1st Qu.: 0.000                             \n",
       " Median : 2.000                             \n",
       " Mean   : 3.293                             \n",
       " 3rd Qu.: 5.000                             \n",
       " Max.   :39.000                             \n",
       " NA's   :498                                \n",
       " PAMV (oblast Pamätníka Vítazstva a pred SND)\n",
       " Min.   :  0.00                              \n",
       " 1st Qu.:  3.00                              \n",
       " Median : 20.00                              \n",
       " Mean   : 29.02                              \n",
       " 3rd Qu.: 41.00                              \n",
       " Max.   :187.00                              \n",
       " NA's   :498                                 \n",
       " POST (oblast križovania ulíc Poštová - Obchodná)\n",
       " Min.   : 0.00                                   \n",
       " 1st Qu.: 1.00                                   \n",
       " Median : 4.00                                   \n",
       " Mean   : 6.35                                   \n",
       " 3rd Qu.:10.00                                   \n",
       " Max.   :27.00                                   \n",
       " NA's   :610                                     \n",
       " RBNN (oblast Rybného Námestia) RIGL (oblast Rigeleho a Rázusovho Nábrežia)\n",
       " Min.   :  0.00                 Min.   : 0.0                               \n",
       " 1st Qu.:  3.00                 1st Qu.: 3.0                               \n",
       " Median : 11.00                 Median : 8.0                               \n",
       " Mean   : 18.27                 Mean   :11.8                               \n",
       " 3rd Qu.: 27.00                 3rd Qu.:17.0                               \n",
       " Max.   :101.00                 Max.   :70.0                               \n",
       " NA's   :498                    NA's   :498                                \n",
       " SAFK (oblast Šafárikovho Námestia pri UK)     Tyršák     \n",
       " Min.   : 0.000                            Min.   : 1.00  \n",
       " 1st Qu.: 3.000                            1st Qu.:19.00  \n",
       " Median : 7.000                            Median :33.00  \n",
       " Mean   : 8.259                            Mean   :33.02  \n",
       " 3rd Qu.:12.000                            3rd Qu.:47.00  \n",
       " Max.   :30.000                            Max.   :73.00  \n",
       " NA's   :498                               NA's   :886    \n",
       " VNTU (oblast križovania ulíc Ventúrska-Michalská-Sedlárska)\n",
       " Min.   : 0.00                                              \n",
       " 1st Qu.: 1.00                                              \n",
       " Median : 5.00                                              \n",
       " Mean   :12.25                                              \n",
       " 3rd Qu.:15.50                                              \n",
       " Max.   :80.00                                              \n",
       " NA's   :608                                                \n",
       " ZIDO (oblast Židovskej ulice pri dobrom pastierovi)\n",
       " Min.   : 0.000                                     \n",
       " 1st Qu.: 1.000                                     \n",
       " Median : 4.000                                     \n",
       " Mean   : 6.624                                     \n",
       " 3rd Qu.:11.000                                     \n",
       " Max.   :33.000                                     \n",
       " NA's   :499                                        \n",
       " ZMCK (oblast rohu Židovskej a Kapucínskej ulice)    data_in         \n",
       " Min.   : 0.0                                     Min.   :0.000e+00  \n",
       " 1st Qu.: 4.0                                     1st Qu.:1.594e+10  \n",
       " Median : 9.0                                     Median :2.672e+10  \n",
       " Mean   :11.7                                     Mean   :2.729e+10  \n",
       " 3rd Qu.:18.0                                     3rd Qu.:3.628e+10  \n",
       " Max.   :46.0                                     Max.   :8.384e+10  \n",
       " NA's   :499                                      NA's   :350        \n",
       "    data_out          unique_conn      new_users      returning_users\n",
       " Min.   :0.000e+00   Min.   :    0   Min.   :  37.0   Min.   : 443   \n",
       " 1st Qu.:1.202e+11   1st Qu.: 3747   1st Qu.: 362.2   1st Qu.:2181   \n",
       " Median :1.521e+11   Median : 4770   Median : 649.5   Median :2672   \n",
       " Mean   :1.577e+11   Mean   : 4983   Mean   : 627.4   Mean   :2584   \n",
       " 3rd Qu.:1.890e+11   3rd Qu.: 5821   3rd Qu.: 855.5   3rd Qu.:2979   \n",
       " Max.   :4.113e+11   Max.   :11849   Max.   :1348.0   Max.   :6446   \n",
       " NA's   :350         NA's   :350     NA's   :509      NA's   :509    \n",
       " average_online    max_online        dwell_5m       dwell_10m      dwell_30m   \n",
       " Min.   :  0.0   Min.   :   0.0   Min.   : 1269   Min.   : 266   Min.   : 189  \n",
       " 1st Qu.:125.0   1st Qu.: 529.2   1st Qu.: 8633   1st Qu.:1995   1st Qu.:1498  \n",
       " Median :178.0   Median : 729.5   Median :11994   Median :2892   Median :2060  \n",
       " Mean   :172.2   Mean   : 707.4   Mean   :11655   Mean   :2784   Mean   :1981  \n",
       " 3rd Qu.:210.0   3rd Qu.: 838.2   3rd Qu.:14574   3rd Qu.:3482   3rd Qu.:2413  \n",
       " Max.   :527.0   Max.   :1842.0   Max.   :25551   Max.   :7013   Max.   :4374  \n",
       " NA's   :509     NA's   :509      NA's   :509     NA's   :509    NA's   :509   \n",
       "   dwell_60m       dwell_long     browser_Android   browser_Chrome  \n",
       " Min.   : 23.0   Min.   :  27.0   Min.   : 0.0000   Min.   :   0.0  \n",
       " 1st Qu.:222.2   1st Qu.: 112.2   1st Qu.: 0.0000   1st Qu.:   0.0  \n",
       " Median :326.0   Median : 139.0   Median : 0.0000   Median :   0.0  \n",
       " Mean   :316.1   Mean   : 159.3   Mean   : 0.1532   Mean   : 487.1  \n",
       " 3rd Qu.:396.0   3rd Qu.: 172.0   3rd Qu.: 0.0000   3rd Qu.: 958.5  \n",
       " Max.   :625.0   Max.   :1427.0   Max.   :10.0000   Max.   :2377.0  \n",
       " NA's   :509     NA's   :509                                        \n",
       " browser_Firefox     browser_IE        browser_Nan     browser_Opera    \n",
       " Min.   : 0.0000   Min.   :0.000000   Min.   :0.0000   Min.   : 0.0000  \n",
       " 1st Qu.: 0.0000   1st Qu.:0.000000   1st Qu.:0.0000   1st Qu.: 0.0000  \n",
       " Median : 0.0000   Median :0.000000   Median :0.0000   Median : 0.0000  \n",
       " Mean   : 0.3974   Mean   :0.004004   Mean   :0.1101   Mean   : 0.5506  \n",
       " 3rd Qu.: 0.0000   3rd Qu.:0.000000   3rd Qu.:0.0000   3rd Qu.: 0.0000  \n",
       " Max.   :15.0000   Max.   :2.000000   Max.   :4.0000   Max.   :17.0000  \n",
       "                                                                        \n",
       " browser_others   browser_Safari   device_type_desktop device_type_ereader\n",
       " Min.   : 0.000   Min.   :   0.0   Min.   : 0.0000     Min.   :0          \n",
       " 1st Qu.: 0.000   1st Qu.:   0.0   1st Qu.: 0.0000     1st Qu.:0          \n",
       " Median : 0.000   Median :   0.0   Median : 0.0000     Median :0          \n",
       " Mean   : 0.996   Mean   : 201.2   Mean   : 0.4494     Mean   :0          \n",
       " 3rd Qu.: 0.000   3rd Qu.: 341.5   3rd Qu.: 0.0000     3rd Qu.:0          \n",
       " Max.   :40.000   Max.   :1183.0   Max.   :14.0000     Max.   :0          \n",
       "                                                                          \n",
       " device_type_gaming device_type_media  device_type_mobile device_type_Nan \n",
       " Min.   :0          Min.   :0.000000   Min.   :   0.0     Min.   :   0.0  \n",
       " 1st Qu.:0          1st Qu.:0.000000   1st Qu.:   0.0     1st Qu.:   0.0  \n",
       " Median :0          Median :0.000000   Median :   0.0     Median :   0.0  \n",
       " Mean   :0          Mean   :0.003003   Mean   : 571.4     Mean   : 240.0  \n",
       " 3rd Qu.:0          3rd Qu.:0.000000   3rd Qu.:1003.0     3rd Qu.: 104.5  \n",
       " Max.   :0          Max.   :1.000000   Max.   :3863.0     Max.   :2366.0  \n",
       "                                                                          \n",
       " device_type_tablet    lang_af     lang_ag     lang_ar       \n",
       " Min.   : 0.0000    Min.   :0   Min.   :0   Min.   : 0.0000  \n",
       " 1st Qu.: 0.0000    1st Qu.:0   1st Qu.:0   1st Qu.: 0.0000  \n",
       " Median : 0.0000    Median :0   Median :0   Median : 0.0000  \n",
       " Mean   : 0.3634    Mean   :0   Mean   :0   Mean   : 0.1532  \n",
       " 3rd Qu.: 0.0000    3rd Qu.:0   3rd Qu.:0   3rd Qu.: 0.0000  \n",
       " Max.   :13.0000    Max.   :0   Max.   :0   Max.   :21.0000  \n",
       "                                                             \n",
       "    lang_az            lang_ba     lang_be            lang_bg       \n",
       " Min.   :0.000000   Min.   :0   Min.   :0.000000   Min.   :0.00000  \n",
       " 1st Qu.:0.000000   1st Qu.:0   1st Qu.:0.000000   1st Qu.:0.00000  \n",
       " Median :0.000000   Median :0   Median :0.000000   Median :0.00000  \n",
       " Mean   :0.001001   Mean   :0   Mean   :0.001001   Mean   :0.01702  \n",
       " 3rd Qu.:0.000000   3rd Qu.:0   3rd Qu.:0.000000   3rd Qu.:0.00000  \n",
       " Max.   :1.000000   Max.   :0   Max.   :1.000000   Max.   :5.00000  \n",
       "                                                                    \n",
       "   lang_other         lang_en        lang_hu           lang_ru       \n",
       " Min.   :  0.000   Min.   :   0   Min.   : 0.0000   Min.   :  0.000  \n",
       " 1st Qu.:  0.000   1st Qu.:   0   1st Qu.: 0.0000   1st Qu.:  0.000  \n",
       " Median :  0.000   Median :   0   Median : 0.0000   Median :  0.000  \n",
       " Mean   :  4.662   Mean   : 129   Mean   : 0.2172   Mean   :  7.357  \n",
       " 3rd Qu.:  5.000   3rd Qu.: 214   3rd Qu.: 0.0000   3rd Qu.:  0.000  \n",
       " Max.   :102.000   Max.   :1129   Max.   :29.0000   Max.   :146.000  \n",
       "                                                                     \n",
       "    lang_pl           lang_de          lang_fr           lang_es      \n",
       " Min.   : 0.0000   Min.   :  0.00   Min.   : 0.0000   Min.   : 0.000  \n",
       " 1st Qu.: 0.0000   1st Qu.:  0.00   1st Qu.: 0.0000   1st Qu.: 0.000  \n",
       " Median : 0.0000   Median :  0.00   Median : 0.0000   Median : 0.000  \n",
       " Mean   : 0.1291   Mean   :  4.31   Mean   : 0.5766   Mean   : 1.516  \n",
       " 3rd Qu.: 0.0000   3rd Qu.:  0.00   3rd Qu.: 0.0000   3rd Qu.: 0.000  \n",
       " Max.   :17.0000   Max.   :344.00   Max.   :30.0000   Max.   :47.000  \n",
       "                                                                      \n",
       "    lang_it           lang_sk         os_Android         os_iOS      \n",
       " Min.   : 0.0000   Min.   :   0.0   Min.   :   0.0   Min.   :   0.0  \n",
       " 1st Qu.: 0.0000   1st Qu.:   0.0   1st Qu.:   0.0   1st Qu.:   0.0  \n",
       " Median : 0.0000   Median :   0.0   Median :   0.0   Median :   0.0  \n",
       " Mean   : 0.6116   Mean   : 327.6   Mean   : 482.9   Mean   : 201.2  \n",
       " 3rd Qu.: 0.0000   3rd Qu.: 634.0   3rd Qu.: 949.0   3rd Qu.: 346.0  \n",
       " Max.   :42.0000   Max.   :1602.0   Max.   :2169.0   Max.   :1182.0  \n",
       "                                                                     \n",
       "    os_Linux            os_Nan          os_OS X          os_others      \n",
       " Min.   :0.000000   Min.   :0.0000   Min.   : 0.0000   Min.   : 0.0000  \n",
       " 1st Qu.:0.000000   1st Qu.:0.0000   1st Qu.: 0.0000   1st Qu.: 0.0000  \n",
       " Median :0.000000   Median :0.0000   Median : 0.0000   Median : 0.0000  \n",
       " Mean   :0.004004   Mean   :0.1081   Mean   : 0.3103   Mean   : 0.3003  \n",
       " 3rd Qu.:0.000000   3rd Qu.:0.0000   3rd Qu.: 0.0000   3rd Qu.: 0.0000  \n",
       " Max.   :1.000000   Max.   :4.0000   Max.   :15.0000   Max.   :14.0000  \n",
       "                                                                        \n",
       "   os_Windows       data_in_GB     data_out_GB   \n",
       " Min.   : 0.000   Min.   : 0.00   Min.   :  0.0  \n",
       " 1st Qu.: 0.000   1st Qu.:14.84   1st Qu.:111.9  \n",
       " Median : 0.000   Median :24.88   Median :141.7  \n",
       " Mean   : 1.637   Mean   :25.42   Mean   :146.9  \n",
       " 3rd Qu.: 0.000   3rd Qu.:33.79   3rd Qu.:176.0  \n",
       " Max.   :54.000   Max.   :78.08   Max.   :383.0  \n",
       "                  NA's   :350     NA's   :350    "
      ]
     },
     "metadata": {},
     "output_type": "display_data"
    }
   ],
   "source": [
    "summary(dfb)"
   ]
  },
  {
   "cell_type": "markdown",
   "metadata": {},
   "source": [
    "Pocet riadkov"
   ]
  },
  {
   "cell_type": "code",
   "execution_count": 18,
   "metadata": {
    "scrolled": true
   },
   "outputs": [
    {
     "data": {
      "text/html": [
       "999"
      ],
      "text/latex": [
       "999"
      ],
      "text/markdown": [
       "999"
      ],
      "text/plain": [
       "[1] 999"
      ]
     },
     "metadata": {},
     "output_type": "display_data"
    }
   ],
   "source": [
    "nrow(dfb)"
   ]
  },
  {
   "cell_type": "markdown",
   "metadata": {},
   "source": [
    "Pocet stlpcov"
   ]
  },
  {
   "cell_type": "code",
   "execution_count": 19,
   "metadata": {},
   "outputs": [
    {
     "data": {
      "text/html": [
       "76"
      ],
      "text/latex": [
       "76"
      ],
      "text/markdown": [
       "76"
      ],
      "text/plain": [
       "[1] 76"
      ]
     },
     "metadata": {},
     "output_type": "display_data"
    }
   ],
   "source": [
    "ncol(dfb)"
   ]
  },
  {
   "cell_type": "code",
   "execution_count": 20,
   "metadata": {},
   "outputs": [
    {
     "data": {
      "text/html": [
       "<ol class=list-inline>\n",
       "\t<li>'date'</li>\n",
       "\t<li>'CTUR'</li>\n",
       "\t<li>'FJNN (oblasť Fajnorovho Nábrežia pred SPŠS)'</li>\n",
       "\t<li>'HLVN (oblasť Hlavného Námestia, Františkánskeho Námestia a Starej Radnice)'</li>\n",
       "\t<li>'HURN (oblasť Hurbanovho námestia)'</li>\n",
       "\t<li>'HVZN (oblasť Hviezdoslavovho Námestia v okolí ambasády USA)'</li>\n",
       "\t<li>'KLOB (oblasť Klobučníckej a Námestia SNP pred Starou Tržnicou)'</li>\n",
       "\t<li>'KNPM (oblasť Jedlíkovej ulice)'</li>\n",
       "\t<li>'KOLN (oblasť spodnej časti Kollárovho námestia)'</li>\n",
       "\t<li>'NLST (oblasť Námestia Ľudovíta Štúra)'</li>\n",
       "\t<li>'NSLO (oblasť parku Námestia Slobody)'</li>\n",
       "\t<li>'NSNP (oblasť Námestia SNP)'</li>\n",
       "\t<li>'OBCH ( oblasť Obchodná ulica stred)'</li>\n",
       "\t<li><span style=white-space:pre-wrap>'OSPR (oblasť  Osobného prístavu a pred SNM)'</span></li>\n",
       "\t<li>'PAMV (oblasť Pamätníka Víťazstva a pred SND)'</li>\n",
       "\t<li>'POST (oblasť križovania ulíc Poštová - Obchodná)'</li>\n",
       "\t<li>'RBNN (oblasť Rybného Námestia)'</li>\n",
       "\t<li>'RIGL (oblasť Rigeleho a Rázusovho Nábrežia)'</li>\n",
       "\t<li>'SAFK (oblasť Šafárikovho Námestia pri UK)'</li>\n",
       "\t<li>'Tyršák'</li>\n",
       "\t<li>'VNTU (oblasť križovania ulíc Ventúrska-Michalská-Sedlárska)'</li>\n",
       "\t<li>'ZIDO (oblasť Židovskej ulice pri dobrom pastierovi)'</li>\n",
       "\t<li>'ZMCK (oblasť rohu Židovskej a Kapucínskej ulice)'</li>\n",
       "\t<li>'data_in'</li>\n",
       "\t<li>'data_out'</li>\n",
       "\t<li>'unique_conn'</li>\n",
       "\t<li>'new_users'</li>\n",
       "\t<li>'returning_users'</li>\n",
       "\t<li>'average_online'</li>\n",
       "\t<li>'max_online'</li>\n",
       "\t<li>'dwell_5m'</li>\n",
       "\t<li>'dwell_10m'</li>\n",
       "\t<li>'dwell_30m'</li>\n",
       "\t<li>'dwell_60m'</li>\n",
       "\t<li>'dwell_long'</li>\n",
       "\t<li>'browser_Android'</li>\n",
       "\t<li>'browser_Chrome'</li>\n",
       "\t<li>'browser_Firefox'</li>\n",
       "\t<li>'browser_IE'</li>\n",
       "\t<li>'browser_Nan'</li>\n",
       "\t<li>'browser_Opera'</li>\n",
       "\t<li>'browser_others'</li>\n",
       "\t<li>'browser_Safari'</li>\n",
       "\t<li>'device_type_desktop'</li>\n",
       "\t<li>'device_type_ereader'</li>\n",
       "\t<li>'device_type_gaming'</li>\n",
       "\t<li>'device_type_media'</li>\n",
       "\t<li>'device_type_mobile'</li>\n",
       "\t<li>'device_type_Nan'</li>\n",
       "\t<li>'device_type_tablet'</li>\n",
       "\t<li>'lang_af'</li>\n",
       "\t<li>'lang_ag'</li>\n",
       "\t<li>'lang_ar'</li>\n",
       "\t<li>'lang_az'</li>\n",
       "\t<li>'lang_ba'</li>\n",
       "\t<li>'lang_be'</li>\n",
       "\t<li>'lang_bg'</li>\n",
       "\t<li>'lang_other'</li>\n",
       "\t<li>'lang_en'</li>\n",
       "\t<li>'lang_hu'</li>\n",
       "\t<li>'lang_ru'</li>\n",
       "\t<li>'lang_pl'</li>\n",
       "\t<li>'lang_de'</li>\n",
       "\t<li>'lang_fr'</li>\n",
       "\t<li>'lang_es'</li>\n",
       "\t<li>'lang_it'</li>\n",
       "\t<li>'lang_sk'</li>\n",
       "\t<li>'os_Android'</li>\n",
       "\t<li>'os_iOS'</li>\n",
       "\t<li>'os_Linux'</li>\n",
       "\t<li>'os_Nan'</li>\n",
       "\t<li>'os_OS X'</li>\n",
       "\t<li>'os_others'</li>\n",
       "\t<li>'os_Windows'</li>\n",
       "\t<li>'data_in_GB'</li>\n",
       "\t<li>'data_out_GB'</li>\n",
       "</ol>\n"
      ],
      "text/latex": [
       "\\begin{enumerate*}\n",
       "\\item 'date'\n",
       "\\item 'CTUR'\n",
       "\\item 'FJNN (oblasť Fajnorovho Nábrežia pred SPŠS)'\n",
       "\\item 'HLVN (oblasť Hlavného Námestia, Františkánskeho Námestia a Starej Radnice)'\n",
       "\\item 'HURN (oblasť Hurbanovho námestia)'\n",
       "\\item 'HVZN (oblasť Hviezdoslavovho Námestia v okolí ambasády USA)'\n",
       "\\item 'KLOB (oblasť Klobučníckej a Námestia SNP pred Starou Tržnicou)'\n",
       "\\item 'KNPM (oblasť Jedlíkovej ulice)'\n",
       "\\item 'KOLN (oblasť spodnej časti Kollárovho námestia)'\n",
       "\\item 'NLST (oblasť Námestia Ľudovíta Štúra)'\n",
       "\\item 'NSLO (oblasť parku Námestia Slobody)'\n",
       "\\item 'NSNP (oblasť Námestia SNP)'\n",
       "\\item 'OBCH ( oblasť Obchodná ulica stred)'\n",
       "\\item 'OSPR (oblasť  Osobného prístavu a pred SNM)'\n",
       "\\item 'PAMV (oblasť Pamätníka Víťazstva a pred SND)'\n",
       "\\item 'POST (oblasť križovania ulíc Poštová - Obchodná)'\n",
       "\\item 'RBNN (oblasť Rybného Námestia)'\n",
       "\\item 'RIGL (oblasť Rigeleho a Rázusovho Nábrežia)'\n",
       "\\item 'SAFK (oblasť Šafárikovho Námestia pri UK)'\n",
       "\\item 'Tyršák'\n",
       "\\item 'VNTU (oblasť križovania ulíc Ventúrska-Michalská-Sedlárska)'\n",
       "\\item 'ZIDO (oblasť Židovskej ulice pri dobrom pastierovi)'\n",
       "\\item 'ZMCK (oblasť rohu Židovskej a Kapucínskej ulice)'\n",
       "\\item 'data\\_in'\n",
       "\\item 'data\\_out'\n",
       "\\item 'unique\\_conn'\n",
       "\\item 'new\\_users'\n",
       "\\item 'returning\\_users'\n",
       "\\item 'average\\_online'\n",
       "\\item 'max\\_online'\n",
       "\\item 'dwell\\_5m'\n",
       "\\item 'dwell\\_10m'\n",
       "\\item 'dwell\\_30m'\n",
       "\\item 'dwell\\_60m'\n",
       "\\item 'dwell\\_long'\n",
       "\\item 'browser\\_Android'\n",
       "\\item 'browser\\_Chrome'\n",
       "\\item 'browser\\_Firefox'\n",
       "\\item 'browser\\_IE'\n",
       "\\item 'browser\\_Nan'\n",
       "\\item 'browser\\_Opera'\n",
       "\\item 'browser\\_others'\n",
       "\\item 'browser\\_Safari'\n",
       "\\item 'device\\_type\\_desktop'\n",
       "\\item 'device\\_type\\_ereader'\n",
       "\\item 'device\\_type\\_gaming'\n",
       "\\item 'device\\_type\\_media'\n",
       "\\item 'device\\_type\\_mobile'\n",
       "\\item 'device\\_type\\_Nan'\n",
       "\\item 'device\\_type\\_tablet'\n",
       "\\item 'lang\\_af'\n",
       "\\item 'lang\\_ag'\n",
       "\\item 'lang\\_ar'\n",
       "\\item 'lang\\_az'\n",
       "\\item 'lang\\_ba'\n",
       "\\item 'lang\\_be'\n",
       "\\item 'lang\\_bg'\n",
       "\\item 'lang\\_other'\n",
       "\\item 'lang\\_en'\n",
       "\\item 'lang\\_hu'\n",
       "\\item 'lang\\_ru'\n",
       "\\item 'lang\\_pl'\n",
       "\\item 'lang\\_de'\n",
       "\\item 'lang\\_fr'\n",
       "\\item 'lang\\_es'\n",
       "\\item 'lang\\_it'\n",
       "\\item 'lang\\_sk'\n",
       "\\item 'os\\_Android'\n",
       "\\item 'os\\_iOS'\n",
       "\\item 'os\\_Linux'\n",
       "\\item 'os\\_Nan'\n",
       "\\item 'os\\_OS X'\n",
       "\\item 'os\\_others'\n",
       "\\item 'os\\_Windows'\n",
       "\\item 'data\\_in\\_GB'\n",
       "\\item 'data\\_out\\_GB'\n",
       "\\end{enumerate*}\n"
      ],
      "text/markdown": [
       "1. 'date'\n",
       "2. 'CTUR'\n",
       "3. 'FJNN (oblasť Fajnorovho Nábrežia pred SPŠS)'\n",
       "4. 'HLVN (oblasť Hlavného Námestia, Františkánskeho Námestia a Starej Radnice)'\n",
       "5. 'HURN (oblasť Hurbanovho námestia)'\n",
       "6. 'HVZN (oblasť Hviezdoslavovho Námestia v okolí ambasády USA)'\n",
       "7. 'KLOB (oblasť Klobučníckej a Námestia SNP pred Starou Tržnicou)'\n",
       "8. 'KNPM (oblasť Jedlíkovej ulice)'\n",
       "9. 'KOLN (oblasť spodnej časti Kollárovho námestia)'\n",
       "10. 'NLST (oblasť Námestia Ľudovíta Štúra)'\n",
       "11. 'NSLO (oblasť parku Námestia Slobody)'\n",
       "12. 'NSNP (oblasť Námestia SNP)'\n",
       "13. 'OBCH ( oblasť Obchodná ulica stred)'\n",
       "14. <span style=white-space:pre-wrap>'OSPR (oblasť  Osobného prístavu a pred SNM)'</span>\n",
       "15. 'PAMV (oblasť Pamätníka Víťazstva a pred SND)'\n",
       "16. 'POST (oblasť križovania ulíc Poštová - Obchodná)'\n",
       "17. 'RBNN (oblasť Rybného Námestia)'\n",
       "18. 'RIGL (oblasť Rigeleho a Rázusovho Nábrežia)'\n",
       "19. 'SAFK (oblasť Šafárikovho Námestia pri UK)'\n",
       "20. 'Tyršák'\n",
       "21. 'VNTU (oblasť križovania ulíc Ventúrska-Michalská-Sedlárska)'\n",
       "22. 'ZIDO (oblasť Židovskej ulice pri dobrom pastierovi)'\n",
       "23. 'ZMCK (oblasť rohu Židovskej a Kapucínskej ulice)'\n",
       "24. 'data_in'\n",
       "25. 'data_out'\n",
       "26. 'unique_conn'\n",
       "27. 'new_users'\n",
       "28. 'returning_users'\n",
       "29. 'average_online'\n",
       "30. 'max_online'\n",
       "31. 'dwell_5m'\n",
       "32. 'dwell_10m'\n",
       "33. 'dwell_30m'\n",
       "34. 'dwell_60m'\n",
       "35. 'dwell_long'\n",
       "36. 'browser_Android'\n",
       "37. 'browser_Chrome'\n",
       "38. 'browser_Firefox'\n",
       "39. 'browser_IE'\n",
       "40. 'browser_Nan'\n",
       "41. 'browser_Opera'\n",
       "42. 'browser_others'\n",
       "43. 'browser_Safari'\n",
       "44. 'device_type_desktop'\n",
       "45. 'device_type_ereader'\n",
       "46. 'device_type_gaming'\n",
       "47. 'device_type_media'\n",
       "48. 'device_type_mobile'\n",
       "49. 'device_type_Nan'\n",
       "50. 'device_type_tablet'\n",
       "51. 'lang_af'\n",
       "52. 'lang_ag'\n",
       "53. 'lang_ar'\n",
       "54. 'lang_az'\n",
       "55. 'lang_ba'\n",
       "56. 'lang_be'\n",
       "57. 'lang_bg'\n",
       "58. 'lang_other'\n",
       "59. 'lang_en'\n",
       "60. 'lang_hu'\n",
       "61. 'lang_ru'\n",
       "62. 'lang_pl'\n",
       "63. 'lang_de'\n",
       "64. 'lang_fr'\n",
       "65. 'lang_es'\n",
       "66. 'lang_it'\n",
       "67. 'lang_sk'\n",
       "68. 'os_Android'\n",
       "69. 'os_iOS'\n",
       "70. 'os_Linux'\n",
       "71. 'os_Nan'\n",
       "72. 'os_OS X'\n",
       "73. 'os_others'\n",
       "74. 'os_Windows'\n",
       "75. 'data_in_GB'\n",
       "76. 'data_out_GB'\n",
       "\n",
       "\n"
      ],
      "text/plain": [
       " [1] \"date\"                                                                      \n",
       " [2] \"CTUR\"                                                                      \n",
       " [3] \"FJNN (oblast Fajnorovho Nábrežia pred SPŠS)\"                               \n",
       " [4] \"HLVN (oblast Hlavného Námestia, Františkánskeho Námestia a Starej Radnice)\"\n",
       " [5] \"HURN (oblast Hurbanovho námestia)\"                                         \n",
       " [6] \"HVZN (oblast Hviezdoslavovho Námestia v okolí ambasády USA)\"               \n",
       " [7] \"KLOB (oblast Klobucníckej a Námestia SNP pred Starou Tržnicou)\"            \n",
       " [8] \"KNPM (oblast Jedlíkovej ulice)\"                                            \n",
       " [9] \"KOLN (oblast spodnej casti Kollárovho námestia)\"                           \n",
       "[10] \"NLST (oblast Námestia Ludovíta Štúra)\"                                     \n",
       "[11] \"NSLO (oblast parku Námestia Slobody)\"                                      \n",
       "[12] \"NSNP (oblast Námestia SNP)\"                                                \n",
       "[13] \"OBCH ( oblast Obchodná ulica stred)\"                                       \n",
       "[14] \"OSPR (oblast  Osobného prístavu a pred SNM)\"                               \n",
       "[15] \"PAMV (oblast Pamätníka Vítazstva a pred SND)\"                              \n",
       "[16] \"POST (oblast križovania ulíc Poštová - Obchodná)\"                          \n",
       "[17] \"RBNN (oblast Rybného Námestia)\"                                            \n",
       "[18] \"RIGL (oblast Rigeleho a Rázusovho Nábrežia)\"                               \n",
       "[19] \"SAFK (oblast Šafárikovho Námestia pri UK)\"                                 \n",
       "[20] \"Tyršák\"                                                                    \n",
       "[21] \"VNTU (oblast križovania ulíc Ventúrska-Michalská-Sedlárska)\"               \n",
       "[22] \"ZIDO (oblast Židovskej ulice pri dobrom pastierovi)\"                       \n",
       "[23] \"ZMCK (oblast rohu Židovskej a Kapucínskej ulice)\"                          \n",
       "[24] \"data_in\"                                                                   \n",
       "[25] \"data_out\"                                                                  \n",
       "[26] \"unique_conn\"                                                               \n",
       "[27] \"new_users\"                                                                 \n",
       "[28] \"returning_users\"                                                           \n",
       "[29] \"average_online\"                                                            \n",
       "[30] \"max_online\"                                                                \n",
       "[31] \"dwell_5m\"                                                                  \n",
       "[32] \"dwell_10m\"                                                                 \n",
       "[33] \"dwell_30m\"                                                                 \n",
       "[34] \"dwell_60m\"                                                                 \n",
       "[35] \"dwell_long\"                                                                \n",
       "[36] \"browser_Android\"                                                           \n",
       "[37] \"browser_Chrome\"                                                            \n",
       "[38] \"browser_Firefox\"                                                           \n",
       "[39] \"browser_IE\"                                                                \n",
       "[40] \"browser_Nan\"                                                               \n",
       "[41] \"browser_Opera\"                                                             \n",
       "[42] \"browser_others\"                                                            \n",
       "[43] \"browser_Safari\"                                                            \n",
       "[44] \"device_type_desktop\"                                                       \n",
       "[45] \"device_type_ereader\"                                                       \n",
       "[46] \"device_type_gaming\"                                                        \n",
       "[47] \"device_type_media\"                                                         \n",
       "[48] \"device_type_mobile\"                                                        \n",
       "[49] \"device_type_Nan\"                                                           \n",
       "[50] \"device_type_tablet\"                                                        \n",
       "[51] \"lang_af\"                                                                   \n",
       "[52] \"lang_ag\"                                                                   \n",
       "[53] \"lang_ar\"                                                                   \n",
       "[54] \"lang_az\"                                                                   \n",
       "[55] \"lang_ba\"                                                                   \n",
       "[56] \"lang_be\"                                                                   \n",
       "[57] \"lang_bg\"                                                                   \n",
       "[58] \"lang_other\"                                                                \n",
       "[59] \"lang_en\"                                                                   \n",
       "[60] \"lang_hu\"                                                                   \n",
       "[61] \"lang_ru\"                                                                   \n",
       "[62] \"lang_pl\"                                                                   \n",
       "[63] \"lang_de\"                                                                   \n",
       "[64] \"lang_fr\"                                                                   \n",
       "[65] \"lang_es\"                                                                   \n",
       "[66] \"lang_it\"                                                                   \n",
       "[67] \"lang_sk\"                                                                   \n",
       "[68] \"os_Android\"                                                                \n",
       "[69] \"os_iOS\"                                                                    \n",
       "[70] \"os_Linux\"                                                                  \n",
       "[71] \"os_Nan\"                                                                    \n",
       "[72] \"os_OS X\"                                                                   \n",
       "[73] \"os_others\"                                                                 \n",
       "[74] \"os_Windows\"                                                                \n",
       "[75] \"data_in_GB\"                                                                \n",
       "[76] \"data_out_GB\"                                                               "
      ]
     },
     "metadata": {},
     "output_type": "display_data"
    }
   ],
   "source": [
    "colnames(dfb)"
   ]
  },
  {
   "cell_type": "markdown",
   "metadata": {},
   "source": [
    "Najviac ludi online "
   ]
  },
  {
   "cell_type": "code",
   "execution_count": 21,
   "metadata": {
    "scrolled": true
   },
   "outputs": [
    {
     "data": {
      "text/html": [
       "<table>\n",
       "<thead><tr><th></th><th scope=col>date</th><th scope=col>max_online</th><th scope=col>new_users</th><th scope=col>average_online</th><th scope=col>data_in</th><th scope=col>data_out</th><th scope=col>device_type_mobile</th><th scope=col>lang_sk</th></tr></thead>\n",
       "<tbody>\n",
       "\t<tr><th scope=row>423</th><td>2019-07-20  </td><td>1842        </td><td>983         </td><td>275         </td><td>48426085433 </td><td>189023678733</td><td>753         </td><td>1042        </td></tr>\n",
       "</tbody>\n",
       "</table>\n"
      ],
      "text/latex": [
       "\\begin{tabular}{r|llllllll}\n",
       "  & date & max\\_online & new\\_users & average\\_online & data\\_in & data\\_out & device\\_type\\_mobile & lang\\_sk\\\\\n",
       "\\hline\n",
       "\t423 & 2019-07-20   & 1842         & 983          & 275          & 48426085433  & 189023678733 & 753          & 1042        \\\\\n",
       "\\end{tabular}\n"
      ],
      "text/markdown": [
       "\n",
       "| <!--/--> | date | max_online | new_users | average_online | data_in | data_out | device_type_mobile | lang_sk |\n",
       "|---|---|---|---|---|---|---|---|---|\n",
       "| 423 | 2019-07-20   | 1842         | 983          | 275          | 48426085433  | 189023678733 | 753          | 1042         |\n",
       "\n"
      ],
      "text/plain": [
       "    date       max_online new_users average_online data_in     data_out    \n",
       "423 2019-07-20 1842       983       275            48426085433 189023678733\n",
       "    device_type_mobile lang_sk\n",
       "423 753                1042   "
      ]
     },
     "metadata": {},
     "output_type": "display_data"
    }
   ],
   "source": [
    "dfb[which.max(dfb$max_online), c('date', 'max_online', 'new_users', 'average_online', 'data_in', 'data_out'\n",
    "                                 , 'device_type_mobile', 'lang_sk')]"
   ]
  },
  {
   "cell_type": "markdown",
   "metadata": {},
   "source": [
    "Najmenej ludi online "
   ]
  },
  {
   "cell_type": "code",
   "execution_count": 22,
   "metadata": {},
   "outputs": [
    {
     "data": {
      "text/html": [
       "<table>\n",
       "<thead><tr><th></th><th scope=col>date</th><th scope=col>max_online</th><th scope=col>new_users</th><th scope=col>average_online</th><th scope=col>data_in</th><th scope=col>data_out</th><th scope=col>device_type_mobile</th><th scope=col>lang_sk</th></tr></thead>\n",
       "<tbody>\n",
       "\t<tr><th scope=row>161</th><td>2018-10-31  </td><td>0           </td><td>480         </td><td>0           </td><td>20145444084 </td><td>125947383393</td><td>1001        </td><td>500         </td></tr>\n",
       "</tbody>\n",
       "</table>\n"
      ],
      "text/latex": [
       "\\begin{tabular}{r|llllllll}\n",
       "  & date & max\\_online & new\\_users & average\\_online & data\\_in & data\\_out & device\\_type\\_mobile & lang\\_sk\\\\\n",
       "\\hline\n",
       "\t161 & 2018-10-31   & 0            & 480          & 0            & 20145444084  & 125947383393 & 1001         & 500         \\\\\n",
       "\\end{tabular}\n"
      ],
      "text/markdown": [
       "\n",
       "| <!--/--> | date | max_online | new_users | average_online | data_in | data_out | device_type_mobile | lang_sk |\n",
       "|---|---|---|---|---|---|---|---|---|\n",
       "| 161 | 2018-10-31   | 0            | 480          | 0            | 20145444084  | 125947383393 | 1001         | 500          |\n",
       "\n"
      ],
      "text/plain": [
       "    date       max_online new_users average_online data_in     data_out    \n",
       "161 2018-10-31 0          480       0              20145444084 125947383393\n",
       "    device_type_mobile lang_sk\n",
       "161 1001               500    "
      ]
     },
     "metadata": {},
     "output_type": "display_data"
    }
   ],
   "source": [
    "#chyba v datach, orig. je tam 0\n",
    "dfb[which.min(dfb$max_online), c('date', 'max_online', 'new_users', 'average_online', 'data_in', 'data_out'\n",
    "                                 , 'device_type_mobile', 'lang_sk')]"
   ]
  },
  {
   "cell_type": "markdown",
   "metadata": {},
   "source": [
    "Najviac novych pouzivatelov"
   ]
  },
  {
   "cell_type": "code",
   "execution_count": 23,
   "metadata": {},
   "outputs": [
    {
     "data": {
      "text/html": [
       "<table>\n",
       "<thead><tr><th></th><th scope=col>date</th><th scope=col>max_online</th><th scope=col>new_users</th><th scope=col>average_online</th><th scope=col>data_in</th><th scope=col>data_out</th><th scope=col>device_type_mobile</th><th scope=col>lang_sk</th></tr></thead>\n",
       "<tbody>\n",
       "\t<tr><th scope=row>86</th><td>2018-08-17  </td><td>935         </td><td>1348        </td><td>243         </td><td>53316794469 </td><td>188178285459</td><td>2765        </td><td>600         </td></tr>\n",
       "</tbody>\n",
       "</table>\n"
      ],
      "text/latex": [
       "\\begin{tabular}{r|llllllll}\n",
       "  & date & max\\_online & new\\_users & average\\_online & data\\_in & data\\_out & device\\_type\\_mobile & lang\\_sk\\\\\n",
       "\\hline\n",
       "\t86 & 2018-08-17   & 935          & 1348         & 243          & 53316794469  & 188178285459 & 2765         & 600         \\\\\n",
       "\\end{tabular}\n"
      ],
      "text/markdown": [
       "\n",
       "| <!--/--> | date | max_online | new_users | average_online | data_in | data_out | device_type_mobile | lang_sk |\n",
       "|---|---|---|---|---|---|---|---|---|\n",
       "| 86 | 2018-08-17   | 935          | 1348         | 243          | 53316794469  | 188178285459 | 2765         | 600          |\n",
       "\n"
      ],
      "text/plain": [
       "   date       max_online new_users average_online data_in     data_out    \n",
       "86 2018-08-17 935        1348      243            53316794469 188178285459\n",
       "   device_type_mobile lang_sk\n",
       "86 2765               600    "
      ]
     },
     "metadata": {},
     "output_type": "display_data"
    }
   ],
   "source": [
    "dfb[which.max(dfb$new_users), c('date', 'max_online', 'new_users', 'average_online', 'data_in', 'data_out'\n",
    "                                 , 'device_type_mobile', 'lang_sk')]"
   ]
  },
  {
   "cell_type": "markdown",
   "metadata": {},
   "source": [
    "Najmenej novych pouzivatelov"
   ]
  },
  {
   "cell_type": "code",
   "execution_count": 24,
   "metadata": {
    "scrolled": true
   },
   "outputs": [
    {
     "data": {
      "text/html": [
       "<table>\n",
       "<thead><tr><th></th><th scope=col>date</th><th scope=col>max_online</th><th scope=col>new_users</th><th scope=col>average_online</th><th scope=col>data_in</th><th scope=col>data_out</th><th scope=col>device_type_mobile</th><th scope=col>lang_sk</th></tr></thead>\n",
       "<tbody>\n",
       "\t<tr><th scope=row>403</th><td>2019-06-30 </td><td>308        </td><td>37         </td><td>21         </td><td>2841971994 </td><td>15480679273</td><td>48         </td><td>105        </td></tr>\n",
       "</tbody>\n",
       "</table>\n"
      ],
      "text/latex": [
       "\\begin{tabular}{r|llllllll}\n",
       "  & date & max\\_online & new\\_users & average\\_online & data\\_in & data\\_out & device\\_type\\_mobile & lang\\_sk\\\\\n",
       "\\hline\n",
       "\t403 & 2019-06-30  & 308         & 37          & 21          & 2841971994  & 15480679273 & 48          & 105        \\\\\n",
       "\\end{tabular}\n"
      ],
      "text/markdown": [
       "\n",
       "| <!--/--> | date | max_online | new_users | average_online | data_in | data_out | device_type_mobile | lang_sk |\n",
       "|---|---|---|---|---|---|---|---|---|\n",
       "| 403 | 2019-06-30  | 308         | 37          | 21          | 2841971994  | 15480679273 | 48          | 105         |\n",
       "\n"
      ],
      "text/plain": [
       "    date       max_online new_users average_online data_in    data_out   \n",
       "403 2019-06-30 308        37        21             2841971994 15480679273\n",
       "    device_type_mobile lang_sk\n",
       "403 48                 105    "
      ]
     },
     "metadata": {},
     "output_type": "display_data"
    }
   ],
   "source": [
    "dfb[which.min(dfb$new_users), c('date', 'max_online', 'new_users', 'average_online', 'data_in', 'data_out'\n",
    "                                 , 'device_type_mobile', 'lang_sk')]"
   ]
  },
  {
   "cell_type": "markdown",
   "metadata": {},
   "source": [
    "Najviac prenesenych dat (in)"
   ]
  },
  {
   "cell_type": "code",
   "execution_count": 25,
   "metadata": {},
   "outputs": [
    {
     "data": {
      "text/html": [
       "<table>\n",
       "<thead><tr><th></th><th scope=col>date</th><th scope=col>max_online</th><th scope=col>new_users</th><th scope=col>average_online</th><th scope=col>data_in</th><th scope=col>data_out</th><th scope=col>data_in_GB</th><th scope=col>data_out_GB</th><th scope=col>device_type_mobile</th><th scope=col>lang_sk</th></tr></thead>\n",
       "<tbody>\n",
       "\t<tr><th scope=row>515</th><td>2019-10-20  </td><td>NA          </td><td>NA          </td><td>NA          </td><td>83841637760 </td><td>380738334062</td><td>78.08361    </td><td>354.5902    </td><td>0           </td><td>0           </td></tr>\n",
       "</tbody>\n",
       "</table>\n"
      ],
      "text/latex": [
       "\\begin{tabular}{r|llllllllll}\n",
       "  & date & max\\_online & new\\_users & average\\_online & data\\_in & data\\_out & data\\_in\\_GB & data\\_out\\_GB & device\\_type\\_mobile & lang\\_sk\\\\\n",
       "\\hline\n",
       "\t515 & 2019-10-20   & NA           & NA           & NA           & 83841637760  & 380738334062 & 78.08361     & 354.5902     & 0            & 0           \\\\\n",
       "\\end{tabular}\n"
      ],
      "text/markdown": [
       "\n",
       "| <!--/--> | date | max_online | new_users | average_online | data_in | data_out | data_in_GB | data_out_GB | device_type_mobile | lang_sk |\n",
       "|---|---|---|---|---|---|---|---|---|---|---|\n",
       "| 515 | 2019-10-20   | NA           | NA           | NA           | 83841637760  | 380738334062 | 78.08361     | 354.5902     | 0            | 0            |\n",
       "\n"
      ],
      "text/plain": [
       "    date       max_online new_users average_online data_in     data_out    \n",
       "515 2019-10-20 NA         NA        NA             83841637760 380738334062\n",
       "    data_in_GB data_out_GB device_type_mobile lang_sk\n",
       "515 78.08361   354.5902    0                  0      "
      ]
     },
     "metadata": {},
     "output_type": "display_data"
    }
   ],
   "source": [
    "dfb[which.max(dfb$data_in), c('date', 'max_online', 'new_users', 'average_online', 'data_in', 'data_out'\n",
    "                                 , 'data_in_GB', 'data_out_GB', 'device_type_mobile', 'lang_sk')]"
   ]
  },
  {
   "cell_type": "markdown",
   "metadata": {},
   "source": [
    "Najmenej prenesenych dat (in)"
   ]
  },
  {
   "cell_type": "code",
   "execution_count": 26,
   "metadata": {},
   "outputs": [
    {
     "data": {
      "text/html": [
       "<table>\n",
       "<thead><tr><th></th><th scope=col>date</th><th scope=col>max_online</th><th scope=col>new_users</th><th scope=col>average_online</th><th scope=col>data_in</th><th scope=col>data_out</th><th scope=col>data_in_GB</th><th scope=col>data_out_GB</th><th scope=col>device_type_mobile</th><th scope=col>lang_sk</th></tr></thead>\n",
       "<tbody>\n",
       "\t<tr><th scope=row>998</th><td>2021-02-24</td><td>198       </td><td>60        </td><td>128       </td><td>0         </td><td>0         </td><td>0         </td><td>0         </td><td>41        </td><td>25        </td></tr>\n",
       "</tbody>\n",
       "</table>\n"
      ],
      "text/latex": [
       "\\begin{tabular}{r|llllllllll}\n",
       "  & date & max\\_online & new\\_users & average\\_online & data\\_in & data\\_out & data\\_in\\_GB & data\\_out\\_GB & device\\_type\\_mobile & lang\\_sk\\\\\n",
       "\\hline\n",
       "\t998 & 2021-02-24 & 198        & 60         & 128        & 0          & 0          & 0          & 0          & 41         & 25        \\\\\n",
       "\\end{tabular}\n"
      ],
      "text/markdown": [
       "\n",
       "| <!--/--> | date | max_online | new_users | average_online | data_in | data_out | data_in_GB | data_out_GB | device_type_mobile | lang_sk |\n",
       "|---|---|---|---|---|---|---|---|---|---|---|\n",
       "| 998 | 2021-02-24 | 198        | 60         | 128        | 0          | 0          | 0          | 0          | 41         | 25         |\n",
       "\n"
      ],
      "text/plain": [
       "    date       max_online new_users average_online data_in data_out data_in_GB\n",
       "998 2021-02-24 198        60        128            0       0        0         \n",
       "    data_out_GB device_type_mobile lang_sk\n",
       "998 0           41                 25     "
      ]
     },
     "metadata": {},
     "output_type": "display_data"
    }
   ],
   "source": [
    "#nemame data_in a data_out \n",
    "dfb[which.min(dfb$data_in),  c('date', 'max_online', 'new_users', 'average_online', 'data_in', 'data_out'\n",
    "                                 , 'data_in_GB', 'data_out_GB', 'device_type_mobile', 'lang_sk')]"
   ]
  },
  {
   "cell_type": "markdown",
   "metadata": {},
   "source": [
    "Najviac prenesenych dat (out)"
   ]
  },
  {
   "cell_type": "code",
   "execution_count": 27,
   "metadata": {},
   "outputs": [
    {
     "data": {
      "text/html": [
       "<table>\n",
       "<thead><tr><th></th><th scope=col>date</th><th scope=col>max_online</th><th scope=col>new_users</th><th scope=col>average_online</th><th scope=col>data_in</th><th scope=col>data_out</th><th scope=col>data_in_GB</th><th scope=col>data_out_GB</th><th scope=col>device_type_mobile</th><th scope=col>lang_sk</th></tr></thead>\n",
       "<tbody>\n",
       "\t<tr><th scope=row>518</th><td>2019-10-23  </td><td>NA          </td><td>NA          </td><td>NA          </td><td>59892028484 </td><td>411258870482</td><td>55.7788     </td><td>383.0147    </td><td>0           </td><td>0           </td></tr>\n",
       "</tbody>\n",
       "</table>\n"
      ],
      "text/latex": [
       "\\begin{tabular}{r|llllllllll}\n",
       "  & date & max\\_online & new\\_users & average\\_online & data\\_in & data\\_out & data\\_in\\_GB & data\\_out\\_GB & device\\_type\\_mobile & lang\\_sk\\\\\n",
       "\\hline\n",
       "\t518 & 2019-10-23   & NA           & NA           & NA           & 59892028484  & 411258870482 & 55.7788      & 383.0147     & 0            & 0           \\\\\n",
       "\\end{tabular}\n"
      ],
      "text/markdown": [
       "\n",
       "| <!--/--> | date | max_online | new_users | average_online | data_in | data_out | data_in_GB | data_out_GB | device_type_mobile | lang_sk |\n",
       "|---|---|---|---|---|---|---|---|---|---|---|\n",
       "| 518 | 2019-10-23   | NA           | NA           | NA           | 59892028484  | 411258870482 | 55.7788      | 383.0147     | 0            | 0            |\n",
       "\n"
      ],
      "text/plain": [
       "    date       max_online new_users average_online data_in     data_out    \n",
       "518 2019-10-23 NA         NA        NA             59892028484 411258870482\n",
       "    data_in_GB data_out_GB device_type_mobile lang_sk\n",
       "518 55.7788    383.0147    0                  0      "
      ]
     },
     "metadata": {},
     "output_type": "display_data"
    }
   ],
   "source": [
    "dfb[which.max(dfb$data_out),  c('date', 'max_online', 'new_users', 'average_online', 'data_in', 'data_out'\n",
    "                                 , 'data_in_GB', 'data_out_GB', 'device_type_mobile', 'lang_sk')]"
   ]
  },
  {
   "cell_type": "markdown",
   "metadata": {},
   "source": [
    "Najmenej prenesenych dat (out)"
   ]
  },
  {
   "cell_type": "code",
   "execution_count": 28,
   "metadata": {
    "scrolled": false
   },
   "outputs": [
    {
     "data": {
      "text/html": [
       "<table>\n",
       "<thead><tr><th></th><th scope=col>date</th><th scope=col>max_online</th><th scope=col>new_users</th><th scope=col>average_online</th><th scope=col>data_in</th><th scope=col>data_out</th><th scope=col>data_in_GB</th><th scope=col>data_out_GB</th><th scope=col>device_type_mobile</th><th scope=col>lang_sk</th></tr></thead>\n",
       "<tbody>\n",
       "\t<tr><th scope=row>998</th><td>2021-02-24</td><td>198       </td><td>60        </td><td>128       </td><td>0         </td><td>0         </td><td>0         </td><td>0         </td><td>41        </td><td>25        </td></tr>\n",
       "</tbody>\n",
       "</table>\n"
      ],
      "text/latex": [
       "\\begin{tabular}{r|llllllllll}\n",
       "  & date & max\\_online & new\\_users & average\\_online & data\\_in & data\\_out & data\\_in\\_GB & data\\_out\\_GB & device\\_type\\_mobile & lang\\_sk\\\\\n",
       "\\hline\n",
       "\t998 & 2021-02-24 & 198        & 60         & 128        & 0          & 0          & 0          & 0          & 41         & 25        \\\\\n",
       "\\end{tabular}\n"
      ],
      "text/markdown": [
       "\n",
       "| <!--/--> | date | max_online | new_users | average_online | data_in | data_out | data_in_GB | data_out_GB | device_type_mobile | lang_sk |\n",
       "|---|---|---|---|---|---|---|---|---|---|---|\n",
       "| 998 | 2021-02-24 | 198        | 60         | 128        | 0          | 0          | 0          | 0          | 41         | 25         |\n",
       "\n"
      ],
      "text/plain": [
       "    date       max_online new_users average_online data_in data_out data_in_GB\n",
       "998 2021-02-24 198        60        128            0       0        0         \n",
       "    data_out_GB device_type_mobile lang_sk\n",
       "998 0           41                 25     "
      ]
     },
     "metadata": {},
     "output_type": "display_data"
    }
   ],
   "source": [
    "#nemame data_in a data_out \n",
    "dfb[which.min(dfb$data_out),  c('date', 'max_online', 'new_users', 'average_online', 'data_in', 'data_out'\n",
    "                                 , 'data_in_GB', 'data_out_GB', 'device_type_mobile', 'lang_sk')]"
   ]
  },
  {
   "cell_type": "markdown",
   "metadata": {},
   "source": [
    "Boxplot pre new users"
   ]
  },
  {
   "cell_type": "code",
   "execution_count": 29,
   "metadata": {},
   "outputs": [
    {
     "data": {
      "image/png": "[encoded data removed]",
      "text/plain": [
       "Plot with title \"Pocet novych pouzivatelov\""
      ]
     },
     "metadata": {},
     "output_type": "display_data"
    }
   ],
   "source": [
    "boxplot(dfb$new_users,\n",
    "main = \"Pocet novych pouzivatelov\",\n",
    "xlab = \"Pocet/den\",\n",
    "ylab = \"Pouzivatelia\",\n",
    "horizontal = TRUE\n",
    ")"
   ]
  },
  {
   "cell_type": "markdown",
   "metadata": {},
   "source": [
    "Boxplot pre max online"
   ]
  },
  {
   "cell_type": "code",
   "execution_count": 30,
   "metadata": {},
   "outputs": [
    {
     "data": {
      "image/png": "[encoded data removed]",
      "text/plain": [
       "Plot with title \"Pocet pouzivatelov online\""
      ]
     },
     "metadata": {},
     "output_type": "display_data"
    }
   ],
   "source": [
    "boxplot(dfb$max_online,\n",
    "main = \"Pocet pouzivatelov online\",\n",
    "xlab = \"Pocet/den\",\n",
    "ylab = \"Pouzivatelia\",\n",
    "horizontal = TRUE\n",
    ")"
   ]
  },
  {
   "cell_type": "markdown",
   "metadata": {},
   "source": [
    "Boxplot pre average online"
   ]
  },
  {
   "cell_type": "code",
   "execution_count": 31,
   "metadata": {},
   "outputs": [
    {
     "data": {
      "image/png": "[encoded data removed]",
      "text/plain": [
       "Plot with title \"Pocet pouzivatelov priemerne online\""
      ]
     },
     "metadata": {},
     "output_type": "display_data"
    }
   ],
   "source": [
    "boxplot(dfb$average_online,\n",
    "main = \"Pocet pouzivatelov priemerne online\",\n",
    "xlab = \"Pocet/den\",\n",
    "ylab = \"Pouzivatelia\",\n",
    "horizontal = TRUE\n",
    ")"
   ]
  },
  {
   "cell_type": "markdown",
   "metadata": {},
   "source": [
    "Boxplot pre prenesenych dat (out)"
   ]
  },
  {
   "cell_type": "code",
   "execution_count": 32,
   "metadata": {},
   "outputs": [
    {
     "data": {
      "image/png": "[encoded data removed]",
      "text/plain": [
       "Plot with title \"Prensene data (out)\""
      ]
     },
     "metadata": {},
     "output_type": "display_data"
    }
   ],
   "source": [
    "boxplot(dfb$data_out_GB,\n",
    "main = \"Prensene data (out)\",\n",
    "xlab = \"GB/den\",\n",
    "ylab = \"Data out\",\n",
    "horizontal = TRUE\n",
    ")"
   ]
  },
  {
   "cell_type": "markdown",
   "metadata": {},
   "source": [
    "Boxplot pre prenesenych dat (in)"
   ]
  },
  {
   "cell_type": "code",
   "execution_count": 33,
   "metadata": {},
   "outputs": [
    {
     "data": {
      "image/png": "[encoded data removed]",
      "text/plain": [
       "Plot with title \"Prenesene data\""
      ]
     },
     "metadata": {},
     "output_type": "display_data"
    }
   ],
   "source": [
    "boxplot(dfb$data_in_GB,\n",
    "main = \"Prenesene data\",\n",
    "xlab = \"GB/den\",\n",
    "ylab = \"Data In\",\n",
    "horizontal = TRUE\n",
    ")"
   ]
  },
  {
   "cell_type": "markdown",
   "metadata": {},
   "source": [
    "Boxplot pre prenesenych dat (out)"
   ]
  },
  {
   "cell_type": "code",
   "execution_count": 34,
   "metadata": {
    "scrolled": false
   },
   "outputs": [
    {
     "data": {
      "image/png": "[encoded data removed]",
      "text/plain": [
       "Plot with title \"Prenesene data\""
      ]
     },
     "metadata": {},
     "output_type": "display_data"
    }
   ],
   "source": [
    "boxplot(dfb$data_out_GB,\n",
    "main = \"Prenesene data\",\n",
    "xlab = \"GB\",\n",
    "ylab = \"Data out\",\n",
    "horizontal = TRUE\n",
    ")"
   ]
  },
  {
   "cell_type": "code",
   "execution_count": 35,
   "metadata": {},
   "outputs": [
    {
     "data": {
      "image/png": "[encoded data removed]",
      "text/plain": [
       "plot without title"
      ]
     },
     "metadata": {},
     "output_type": "display_data"
    }
   ],
   "source": [
    "ggplot(dfb[which(dfb$data_in_GB > 0), ],aes(x=date,y=data_in_GB)) +\n",
    "    geom_bar(stat=\"identity\") +\n",
    "    xlab(\"Den\") +\n",
    "    ylab(\"GB\") +\n",
    "    ggtitle(\"Prenesene data (in)\")"
   ]
  },
  {
   "cell_type": "code",
   "execution_count": 36,
   "metadata": {},
   "outputs": [
    {
     "data": {
      "image/png": "[encoded data removed]",
      "text/plain": [
       "plot without title"
      ]
     },
     "metadata": {},
     "output_type": "display_data"
    }
   ],
   "source": [
    "ggplot(dfb[which(dfb$data_out_GB > 0), ],aes(x=date,y=data_out_GB)) +\n",
    "    geom_bar(stat=\"identity\") +\n",
    "    xlab(\"Den\") +\n",
    "    ylab(\"GB\") +\n",
    "    ggtitle(\"Prenesene data (out)\")"
   ]
  },
  {
   "cell_type": "code",
   "execution_count": 37,
   "metadata": {
    "scrolled": true
   },
   "outputs": [
    {
     "data": {
      "image/png": "[encoded data removed]",
      "text/plain": [
       "plot without title"
      ]
     },
     "metadata": {},
     "output_type": "display_data"
    }
   ],
   "source": [
    "ggplot(dfb[which(dfb$new_users > 0), ],aes(x=date,y=new_users)) +\n",
    "    geom_bar(stat=\"identity\") +\n",
    "    xlab(\"Den\") +\n",
    "    ylab(\"Pocet pouzivatelov\") +\n",
    "    ggtitle(\"Pocet novych pouzivatelov\")"
   ]
  },
  {
   "cell_type": "code",
   "execution_count": 38,
   "metadata": {},
   "outputs": [
    {
     "data": {
      "image/png": "[encoded data removed]",
      "text/plain": [
       "plot without title"
      ]
     },
     "metadata": {},
     "output_type": "display_data"
    }
   ],
   "source": [
    "ggplot(dfb[which(dfb$max_online > 0), ],aes(x=date,y=max_online)) +\n",
    "    geom_bar(stat=\"identity\") +\n",
    "    xlab(\"Den\") +\n",
    "    ylab(\"Pocet pouzivatelov\") +\n",
    "    ggtitle(\"Pocet pouzivatelov\")"
   ]
  },
  {
   "cell_type": "code",
   "execution_count": 39,
   "metadata": {},
   "outputs": [
    {
     "data": {
      "image/png": "[encoded data removed]",
      "text/plain": [
       "plot without title"
      ]
     },
     "metadata": {},
     "output_type": "display_data"
    }
   ],
   "source": [
    "ggplot(dfb[which(dfb$device_type_mobile > 0), ],aes(x=date,y=device_type_mobile)) +\n",
    "    geom_bar(stat=\"identity\") +\n",
    "    xlab(\"Den\") +\n",
    "    ylab(\"Pocet mobilov\") +\n",
    "    ggtitle(\"Pocet mobilnych zariadeni\")"
   ]
  }
 ],
 "metadata": {
  "kernelspec": {
   "display_name": "R",
   "language": "R",
   "name": "ir"
  },
  "language_info": {
   "codemirror_mode": "r",
   "file_extension": ".r",
   "mimetype": "text/x-r-source",
   "name": "R",
   "pygments_lexer": "r",
   "version": "3.6.1"
  }
 },
 "nbformat": 4,
 "nbformat_minor": 5
}
